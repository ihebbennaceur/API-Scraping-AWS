{
  "nbformat": 4,
  "nbformat_minor": 0,
  "metadata": {
    "colab": {
      "provenance": []
    },
    "kernelspec": {
      "name": "python3",
      "display_name": "Python 3"
    },
    "language_info": {
      "name": "python"
    }
  },
  "cells": [
    {
      "cell_type": "code",
      "execution_count": 1,
      "metadata": {
        "id": "JwW7fdwgE8-Y"
      },
      "outputs": [],
      "source": [
        "#for scraping booking\n",
        "from urllib.request import urlopen\n",
        "import requests\n",
        "from bs4 import BeautifulSoup\n",
        "import pandas as pd\n",
        "import numpy as np\n",
        "#for scraping +api\n",
        "import pandas as pd\n",
        "import json\n",
        "import plotly.io as pio\n",
        "import plotly.express as px"
      ]
    },
    {
      "cell_type": "markdown",
      "source": [
        "# ***we work on (Paris) at the begning at the end of the page we work on all***"
      ],
      "metadata": {
        "id": "3j6WV9zfHhpB"
      }
    },
    {
      "cell_type": "code",
      "source": [
        "r2=requests.get('https://www.booking.com/searchresults.fr.html?ss=Le+Mont-Saint-Michel&ssne=Le+Mont-Saint-Michel&ssne_untouched=Le+Mont-Saint-Michel&efdco=1&label=gen173nr-1BCAEoggI46AdIM1gEaOIBiAEBmAENuAEGyAEM2AEB6AEBiAIBqAIDuAK0iaSjBsACAdICJDI0ZTRjMGQzLTkwNjctNGJkZi04MWYzLWZhODIwNjdjZDViN9gCBeACAQ&sid=25116a3e813b55f0478b91d5b7063890&aid=304142&lang=fr&sb=1&src_elem=sb&src=searchresults&dest_id=900039327&dest_type=city&group_adults=2&no_rooms=1&group_children=0')\n",
        "r2.text[0:200]\n"
      ],
      "metadata": {
        "colab": {
          "base_uri": "https://localhost:8080/",
          "height": 36
        },
        "id": "UcGpfO0CFBwQ",
        "outputId": "63b8319a-d60b-49a7-d27c-75e28dd72062"
      },
      "execution_count": 2,
      "outputs": [
        {
          "output_type": "execute_result",
          "data": {
            "text/plain": [
              "\"<!DOCTYPE html>\\n<!--\\nYou know you could be getting paid to poke around in our code?\\nWe're hiring designers and developers to work in Amsterdam:\\nhttps://careers.booking.com/\\n-->\\n<!-- wdot-802 -->\\n<scri\""
            ],
            "application/vnd.google.colaboratory.intrinsic+json": {
              "type": "string"
            }
          },
          "metadata": {},
          "execution_count": 2
        }
      ]
    },
    {
      "cell_type": "code",
      "source": [
        "# Instanciate BeautifulSoup class\n",
        "soup2=BeautifulSoup( r2.text, \"html.parser\") # Here we used an HTML Parser"
      ],
      "metadata": {
        "id": "JPbB_WAJFPnC"
      },
      "execution_count": 3,
      "outputs": []
    },
    {
      "cell_type": "code",
      "source": [
        "#loonking for hotel links\n",
        "for i in soup2.find_all('a') :\n",
        "  print(i.attrs)"
      ],
      "metadata": {
        "colab": {
          "base_uri": "https://localhost:8080/"
        },
        "id": "_hpB5abdFWzL",
        "outputId": "d3d463e6-f179-4ef5-ee13-0eadd28c3332"
      },
      "execution_count": 4,
      "outputs": [
        {
          "output_type": "stream",
          "name": "stdout",
          "text": [
            "{'href': '#skipto_main', 'class': ['a11y-skip-to-content']}\n",
            "{'href': 'https://www.booking.com/index.fr.html', 'aria-label': \"Booking.com réservations d'hôtels en ligne\", 'data-et-click': '\\nYTBUIHOdVLBLKAMZUC:1\\nYTBUIHOdVLBLKAMZUC:2\\n'}\n",
            "{'class': ['bui-list-item', 'bui-list-item--size-small', 'js-header-language-item'], 'href': '/city/fr/le-mont-saint-michel.en-gb.html', 'data-lang': 'en-gb', 'hreflang': 'en-gb'}\n",
            "{'class': ['bui-list-item', 'bui-list-item--size-small', 'js-header-language-item'], 'href': '/city/fr/le-mont-saint-michel.html', 'data-lang': 'en-us', 'hreflang': 'en-us'}\n",
            "{'class': ['bui-list-item', 'bui-list-item--size-small', 'js-header-language-item'], 'href': '/city/fr/le-mont-saint-michel.es.html', 'data-lang': 'es', 'hreflang': 'es'}\n",
            "{'class': ['bui-list-item', 'bui-list-item--size-small', 'js-header-language-item'], 'href': '/city/fr/le-mont-saint-michel.zh-cn.html', 'data-lang': 'zh-cn', 'hreflang': 'zh-cn'}\n",
            "{'class': ['bui-list-item', 'bui-list-item--size-small', 'js-header-language-item'], 'href': '/city/fr/le-mont-saint-michel.de.html', 'data-lang': 'de', 'hreflang': 'de'}\n",
            "{'class': ['bui-list-item', 'bui-list-item--size-small', 'js-header-language-item'], 'href': '/city/fr/le-mont-saint-michel.en-gb.html', 'data-lang': 'en-gb', 'hreflang': 'en-gb'}\n",
            "{'class': ['bui-list-item', 'bui-list-item--size-small', 'js-header-language-item'], 'href': '/city/fr/le-mont-saint-michel.html', 'data-lang': 'en-us', 'hreflang': 'en-us'}\n",
            "{'class': ['bui-list-item', 'bui-list-item--size-small', 'js-header-language-item'], 'href': '/city/fr/le-mont-saint-michel.de.html', 'data-lang': 'de', 'hreflang': 'de'}\n",
            "{'class': ['bui-list-item', 'bui-list-item--size-small', 'js-header-language-item'], 'href': '/city/fr/le-mont-saint-michel.nl.html', 'data-lang': 'nl', 'hreflang': 'nl'}\n",
            "{'class': ['bui-list-item', 'bui-list-item--size-small', 'js-header-language-item', 'bui-list-item--active'], 'href': '/city/fr/le-mont-saint-michel.fr.html', 'data-lang': 'fr', 'hreflang': 'fr'}\n",
            "{'class': ['bui-list-item', 'bui-list-item--size-small', 'js-header-language-item'], 'href': '/city/fr/le-mont-saint-michel.es.html', 'data-lang': 'es', 'hreflang': 'es'}\n",
            "{'class': ['bui-list-item', 'bui-list-item--size-small', 'js-header-language-item'], 'href': '/city/fr/le-mont-saint-michel.es-ar.html', 'data-lang': 'es-ar', 'hreflang': 'es-ar'}\n",
            "{'class': ['bui-list-item', 'bui-list-item--size-small', 'js-header-language-item'], 'href': '/city/fr/le-mont-saint-michel.es-mx.html', 'data-lang': 'es-mx', 'hreflang': 'es-mx'}\n",
            "{'class': ['bui-list-item', 'bui-list-item--size-small', 'js-header-language-item'], 'href': '/city/fr/le-mont-saint-michel.ca.html', 'data-lang': 'ca', 'hreflang': 'ca'}\n",
            "{'class': ['bui-list-item', 'bui-list-item--size-small', 'js-header-language-item'], 'href': '/city/fr/le-mont-saint-michel.it.html', 'data-lang': 'it', 'hreflang': 'it'}\n",
            "{'class': ['bui-list-item', 'bui-list-item--size-small', 'js-header-language-item'], 'href': '/city/fr/le-mont-saint-michel.pt-pt.html', 'data-lang': 'pt-pt', 'hreflang': 'pt-pt'}\n",
            "{'class': ['bui-list-item', 'bui-list-item--size-small', 'js-header-language-item'], 'href': '/city/fr/le-mont-saint-michel.pt-br.html', 'data-lang': 'pt-br', 'hreflang': 'pt-br'}\n",
            "{'class': ['bui-list-item', 'bui-list-item--size-small', 'js-header-language-item'], 'href': '/city/fr/le-mont-saint-michel.no.html', 'data-lang': 'no', 'hreflang': 'no'}\n",
            "{'class': ['bui-list-item', 'bui-list-item--size-small', 'js-header-language-item'], 'href': '/city/fr/le-mont-saint-michel.fi.html', 'data-lang': 'fi', 'hreflang': 'fi'}\n",
            "{'class': ['bui-list-item', 'bui-list-item--size-small', 'js-header-language-item'], 'href': '/city/fr/le-mont-saint-michel.sv.html', 'data-lang': 'sv', 'hreflang': 'sv'}\n",
            "{'class': ['bui-list-item', 'bui-list-item--size-small', 'js-header-language-item'], 'href': '/city/fr/le-mont-saint-michel.da.html', 'data-lang': 'da', 'hreflang': 'da'}\n",
            "{'class': ['bui-list-item', 'bui-list-item--size-small', 'js-header-language-item'], 'href': '/city/fr/le-mont-saint-michel.cs.html', 'data-lang': 'cs', 'hreflang': 'cs'}\n",
            "{'class': ['bui-list-item', 'bui-list-item--size-small', 'js-header-language-item'], 'href': '/city/fr/le-mont-saint-michel.hu.html', 'data-lang': 'hu', 'hreflang': 'hu'}\n",
            "{'class': ['bui-list-item', 'bui-list-item--size-small', 'js-header-language-item'], 'href': '/city/fr/le-mont-saint-michel.ro.html', 'data-lang': 'ro', 'hreflang': 'ro'}\n",
            "{'class': ['bui-list-item', 'bui-list-item--size-small', 'js-header-language-item'], 'href': '/city/fr/le-mont-saint-michel.ja.html', 'data-lang': 'ja', 'hreflang': 'ja'}\n",
            "{'class': ['bui-list-item', 'bui-list-item--size-small', 'js-header-language-item'], 'href': '/city/fr/le-mont-saint-michel.zh-cn.html', 'data-lang': 'zh-cn', 'hreflang': 'zh-cn'}\n",
            "{'class': ['bui-list-item', 'bui-list-item--size-small', 'js-header-language-item'], 'href': '/city/fr/le-mont-saint-michel.zh-tw.html', 'data-lang': 'zh-tw', 'hreflang': 'zh-tw'}\n",
            "{'class': ['bui-list-item', 'bui-list-item--size-small', 'js-header-language-item'], 'href': '/city/fr/le-mont-saint-michel.pl.html', 'data-lang': 'pl', 'hreflang': 'pl'}\n",
            "{'class': ['bui-list-item', 'bui-list-item--size-small', 'js-header-language-item'], 'href': '/city/fr/le-mont-saint-michel.el.html', 'data-lang': 'el', 'hreflang': 'el'}\n",
            "{'class': ['bui-list-item', 'bui-list-item--size-small', 'js-header-language-item'], 'href': '/city/fr/le-mont-saint-michel.ru.html', 'data-lang': 'ru', 'hreflang': 'ru'}\n",
            "{'class': ['bui-list-item', 'bui-list-item--size-small', 'js-header-language-item'], 'href': '/city/fr/le-mont-saint-michel.tr.html', 'data-lang': 'tr', 'hreflang': 'tr'}\n",
            "{'class': ['bui-list-item', 'bui-list-item--size-small', 'js-header-language-item'], 'href': '/city/fr/le-mont-saint-michel.bg.html', 'data-lang': 'bg', 'hreflang': 'bg'}\n",
            "{'class': ['bui-list-item', 'bui-list-item--size-small', 'js-header-language-item'], 'href': '/city/fr/le-mont-saint-michel.ar.html', 'data-lang': 'ar', 'hreflang': 'ar'}\n",
            "{'class': ['bui-list-item', 'bui-list-item--size-small', 'js-header-language-item'], 'href': '/city/fr/le-mont-saint-michel.ko.html', 'data-lang': 'ko', 'hreflang': 'ko'}\n",
            "{'class': ['bui-list-item', 'bui-list-item--size-small', 'js-header-language-item'], 'href': '/city/fr/le-mont-saint-michel.he.html', 'data-lang': 'he', 'hreflang': 'he'}\n",
            "{'class': ['bui-list-item', 'bui-list-item--size-small', 'js-header-language-item'], 'href': '/city/fr/le-mont-saint-michel.lv.html', 'data-lang': 'lv', 'hreflang': 'lv'}\n",
            "{'class': ['bui-list-item', 'bui-list-item--size-small', 'js-header-language-item'], 'href': '/city/fr/le-mont-saint-michel.uk.html', 'data-lang': 'uk', 'hreflang': 'uk'}\n",
            "{'class': ['bui-list-item', 'bui-list-item--size-small', 'js-header-language-item'], 'href': '/city/fr/le-mont-saint-michel.id.html', 'data-lang': 'id', 'hreflang': 'id'}\n",
            "{'class': ['bui-list-item', 'bui-list-item--size-small', 'js-header-language-item'], 'href': '/city/fr/le-mont-saint-michel.ms.html', 'data-lang': 'ms', 'hreflang': 'ms'}\n",
            "{'class': ['bui-list-item', 'bui-list-item--size-small', 'js-header-language-item'], 'href': '/city/fr/le-mont-saint-michel.th.html', 'data-lang': 'th', 'hreflang': 'th'}\n",
            "{'class': ['bui-list-item', 'bui-list-item--size-small', 'js-header-language-item'], 'href': '/city/fr/le-mont-saint-michel.et.html', 'data-lang': 'et', 'hreflang': 'et'}\n",
            "{'class': ['bui-list-item', 'bui-list-item--size-small', 'js-header-language-item'], 'href': '/city/fr/le-mont-saint-michel.hr.html', 'data-lang': 'hr', 'hreflang': 'hr'}\n",
            "{'class': ['bui-list-item', 'bui-list-item--size-small', 'js-header-language-item'], 'href': '/city/fr/le-mont-saint-michel.lt.html', 'data-lang': 'lt', 'hreflang': 'lt'}\n",
            "{'class': ['bui-list-item', 'bui-list-item--size-small', 'js-header-language-item'], 'href': '/city/fr/le-mont-saint-michel.sk.html', 'data-lang': 'sk', 'hreflang': 'sk'}\n",
            "{'class': ['bui-list-item', 'bui-list-item--size-small', 'js-header-language-item'], 'href': '/city/fr/le-mont-saint-michel.sr.html', 'data-lang': 'sr', 'hreflang': 'sr'}\n",
            "{'class': ['bui-list-item', 'bui-list-item--size-small', 'js-header-language-item'], 'href': '/city/fr/le-mont-saint-michel.sl.html', 'data-lang': 'sl', 'hreflang': 'sl'}\n",
            "{'class': ['bui-list-item', 'bui-list-item--size-small', 'js-header-language-item'], 'href': '/city/fr/le-mont-saint-michel.vi.html', 'data-lang': 'vi', 'hreflang': 'vi'}\n",
            "{'class': ['bui-list-item', 'bui-list-item--size-small', 'js-header-language-item'], 'href': '/city/fr/le-mont-saint-michel.tl.html', 'data-lang': 'tl', 'hreflang': 'tl'}\n",
            "{'class': ['bui-list-item', 'bui-list-item--size-small', 'js-header-language-item'], 'href': '/city/fr/le-mont-saint-michel.is.html', 'data-lang': 'is', 'hreflang': 'is'}\n",
            "{'class': ['bui-button', 'bui-button--light', 'bui-button--large'], 'data-bui-component': 'Tooltip', 'data-tooltip-position': 'bottom', 'title': 'Contacter le Service Clients', 'href': 'https://secure.booking.com/help.fr.html', 'data-ga-track': 'click|Click|Action: city|hc_entrypoint_top_header', 'data-et-click': ' customGoal:YTBUIHOdBOcaGPaVHXT:4 goal:web_shell_ux_header_hc_click customGoal:YTTHbXeeVJWcWPaDMWOMHTccTBLWCAWdPZKe:3 '}\n",
            "{'class': ['bui-button', 'bui-button--light', 'bui-traveller-header__product-action'], 'href': 'https://join.booking.com/?lang=fr&utm_source=topbar&utm_medium=frontend&amp;label=gen000nr-10CAMoTUIUbGUtbW9udC1zYWludC1taWNoZWxIDVgEaE2IAQGYATO4AQXIAR7YAQPoAQH4AQGIAgGoAgG4As2i8KQGwAIB0gIkZDYzYWI4NWQtODI1YS00YTI3LTlkYjctZmM2NjNhYjFmNWEy2AIB4AIB&amp;aid=304142', 'target': '_blank', 'style': 'position: relative', 'data-et-click': ' customGoal:YTBUIHOdBOcaGPaVHXT:3 goal:web_shell_ux_header_list_property_click customGoal:YTTHbXeeVJWcWPaDMWOMHTccTBLWCAWdPZKe:5 '}\n",
            "{'class': ['bui-button', 'bui-button--secondary', 'js-header-login-link'], 'href': 'https://account.booking.com/auth/oauth2?state=Ut4BSwJNRcDRZUvDoT4ForunDqDOARrQeOG6cJOSyEhK24lpJTPIGF9rTSJhQCd8y4y1WsvK5IJhFzYzLMvJIcAUWMrTUfbhkOEDG31eT1II6_RAtRMifqL-77GiOcZYgZqaCWvYEbdI2KFjFYSE11YgSbjdNEAizCN6s60tnWhQQKtSlO6XVrviKu7qpgQMhqcMiLuxM74bLkMTkCqSNGAmvwUioQF52m-mWZgyYsNDpk_mSH1h3lExvm4i6dFX8SH5DaODtvfunUT0vCh_dyofo1fAggWwTJBIOAGtNFOp&prompt=register&dt=1687949646&response_type=code&client_id=vO1Kblk7xX9tUn2cpZLS&redirect_uri=https%3A%2F%2Fsecure.booking.com%2Flogin.html%3Fop%3Doauth_return&bkng_action=city&lang=fr&aid=304142', 'data-google-track': 'Click/Action: city/header_logged_out_link_box', 'data-et-click': ' customGoal:YTBUIHOdBOcaGPaVHXT:1 customGoal:cCHObTVXBUPACQVZMYCdKNKNKZQWe:3 goal:web_shell_ux_header_profile_register_click_www '}\n",
            "{'class': ['bui-button', 'bui-button--secondary', 'js-header-login-link'], 'href': 'https://account.booking.com/auth/oauth2?state=Ut4BSwJNRcDRZUurVUTaCn3Xr2KlskVT-imvil4fGLPMVX69YpvM-LiK4tltO31p9HILeAOIAIXZl7VFluApZ4nWBx2YnE5EvPhXTsokPZhOxu8Sapsu0PcW59HaEidL3a7-TRYkdht8eBKlrsnwtXaIR2NUZmqkxg3je_wk8oaeWnRqNeDFvHCYrtvhZmvTA-dCYrYxUAGMUDbEKu2xZystO3nXiw_5BpZVjEbG7QLn_FGBkrqD-uUSV-FILRCiaIDiodA_GKqHYTTJ2N2BlWC9tyrY9NdBTF6W_VdKaoSw&dt=1687949646&response_type=code&client_id=vO1Kblk7xX9tUn2cpZLS&aid=304142&redirect_uri=https%3A%2F%2Fsecure.booking.com%2Flogin.html%3Fop%3Doauth_return&bkng_action=city&lang=fr', 'data-google-track': 'Click/Action: city/header_logged_out_link_box', 'data-component': 'dropdown-onload-shower', 'data-component-delay': '2000', 'data-component-position': 'bottom right', 'data-component-content': 'header_signin_prompt', 'data-component-show-once-key': 'header_signin_prompt', 'data-component-extra-class': 'bui-traveller-header__popover', 'data-component-ignore-clicks-outside': 'true', 'data-component-ignore-clicks-class': '#cookie_warning .close_warning', 'data-et-click': ' customGoal:YTBUIHOdBOcaGPaVHXT:2 customGoal:cCHObTVXBUPACQVZMYCdKNKNKZQWe:4 goal:web_shell_ux_header_profile_login_click goal:web_shell_ux_header_profile_login_click_www '}\n",
            "{'aria-current': 'page', 'class': ['bui-tab__link', 'bui-tab__link--selected'], 'href': '/index.fr.html', 'data-et-click': '\\ngoal:xpb_accommodation goal:xpb_total_clicks\\n', 'data-ga-track': 'click|Product Expansion|accommodation|booking (index)'}\n",
            "{'class': ['bui-tab__link'], 'href': '/flights/index.fr.html', 'data-decider-header': 'flights', 'data-et-click': 'goal:xpb_flights goal:xpb_total_clicks', 'data-ga-track': 'click|Product Expansion|flights|kayak (index)'}\n",
            "{'class': ['bui-tab__link'], 'data-et-click': '\\ngoal:xpb_packages\\ngoal:xpb_total_clicks\\n', 'rel': ['nofollow'], 'href': 'https://booking.com/pxgo?url=https%3A%2F%2Fbooking-dp-fr.lastminute.com&lang=fr&token=UmFuZG9tSVYkc2RlIyh9Yek6N0IyIDltefIeZonXohiS7rHkXGNTwiAxknBH5pZJOtSyjB-Bkp20aUoHyi_ImxQ9ngyIsUalh5AVjSSDWKRMNy8aqpZHOjdu8aoOTXNreXpjI3B_ZgQaaGiiZEIMqwDBDNesroYhGKzchB-hT25J_ruEk719CwJK1wj2FmYD6agPNoGBiCdb-NCGDYSPFuYopgb4tT-FlUy49aZ6-NBScKhEF2ViKCaSTbbTt0tDDg--ad2s6TDU_dqbjyKomnjper4y1EqA6HF4ORe-ztCg9DiEanrYV7plqqTCy9qfp9aKnjnRP_-D9aK5ubV9GFVNDqSelORqs6c01CqwDOwzdVy--Qfyw0WdnNPUjFFagGoiI6nLbMmiZBekpVXc4rmrNE-6V78dCGgZHXHOaRxxmcQL6jcZQRtTawFjOs9o1vuoQWT1wVwe4kp2iFdZ60Ry7jhBhjPzELfPpZHkW-nhGmCyEDMJYWZLqxOEVTtuxmi6dbBX-O6w2fAcdvdUBywjwbOlKwvtegS-QEKw8LM&aid=304142&label=gen000nr-10CAMoTUIUbGUtbW9udC1zYWludC1taWNoZWxIDVgEaE2IAQGYATO4AQXIAR7YAQPoAQH4AQGIAgGoAgG4As2i8KQGwAIB0gIkZDYzYWI4NWQtODI1YS00YTI3LTlkYjctZmM2NjNhYjFmNWEy2AIB4AIB', 'data-ga-track': 'click|Product Expansion|packages|lastminute (index)'}\n",
            "{'class': ['bui-tab__link'], 'href': '/cars/index.fr.html', 'data-decider-header': 'bookinggo', 'data-et-click': '\\ngoal:xpb_rentalcars goal:xpb_total_clicks\\n', 'data-ga-track': 'click|Product Expansion|cars|rentalcars (city)'}\n",
            "{'class': ['bui-tab__link'], 'href': '/attractions/city/fr/le-mont-saint-michel.fr.html', 'data-et-click': '\\ngoal:xpb_total_clicks\\n', 'data-decider-header': 'attractions', 'data-ga-track': 'click|Product Expansion|attractions|booking (index)'}\n",
            "{'class': ['bui-tab__link'], 'href': '/taxi/index.fr.html', 'data-decider-header': 'rideways', 'data-et-click': '\\ngoal:xpb_rideways\\ngoal:xpb_total_clicks\\n', 'data-ga-track': 'click|Product Expansion|airport_taxis|rideways (index)'}\n",
            "{'itemprop': 'item', 'href': '/index.fr.html', 'class': ['bui-link', 'bui-link--primary', 'bui_breadcrumb__link'], 'title': 'Booking.com', 'data-lp-ga-click': 'breadcrumbs:click'}\n",
            "{'itemprop': 'item', 'href': '/country/fr.fr.html', 'class': ['bui-link', 'bui-link--primary', 'bui_breadcrumb__link'], 'title': 'Hôtels en France', 'data-lp-ga-click': 'breadcrumbs:click'}\n",
            "{'class': ['bui-dropdown_link_trigger'], 'data-bui-ref': 'dropdown-button', 'aria-haspopup': 'true', 'data-et-click': '  customGoal:aXTfOFJZMYeKTcEKTUTZCWYO:4  '}\n",
            "{'href': '/apartments/country/fr.fr.html', 'class': ['bui-dropdown-menu__button'], 'title': 'Appartements en France', 'data-bui-ref': 'dropdown-item', 'role': 'link', 'tabindex': '1', 'data-lp-ga-click': 'breadcrumbs:click'}\n",
            "{'itemprop': 'item', 'href': '/region/fr/normandie.fr.html', 'class': ['bui-link', 'bui-link--primary', 'bui_breadcrumb__link'], 'title': 'Hôtels de cette région\\xa0:\\xa0Normandie', 'data-lp-ga-click': 'breadcrumbs:click'}\n",
            "{'class': ['bui-dropdown_link_trigger'], 'data-bui-ref': 'dropdown-button', 'aria-haspopup': 'true', 'data-et-click': '  customGoal:aXTfOFJZMYeKTcEKTUTZCWYO:4  '}\n",
            "{'href': '/apartments/region/fr/normandie.fr.html', 'class': ['bui-dropdown-menu__button'], 'title': 'Appartements de cette région : Normandie\\n', 'data-bui-ref': 'dropdown-item', 'role': 'link', 'tabindex': '1', 'data-lp-ga-click': 'breadcrumbs:click'}\n",
            "{'class': ['bui_breadcrumb__link_masked'], 'itemprop': 'item', 'href': '/city/fr/le-mont-saint-michel.fr.html', 'data-lp-ga-click': 'breadcrumbs:click'}\n",
            "{'class': ['bui-dropdown_link_trigger'], 'data-bui-ref': 'dropdown-button', 'aria-haspopup': 'true', 'data-et-click': '  customGoal:aXTfOFJZMYeKTcEKTUTZCWYO:4  '}\n",
            "{'href': '/gostinicy/city/fr/le-mont-saint-michel.fr.html', 'class': ['bui-dropdown-menu__button'], 'title': 'Gostinicies au Mont-Saint-Michel', 'data-bui-ref': 'dropdown-item', 'role': 'link', 'tabindex': '1', 'data-lp-ga-click': 'breadcrumbs:click'}\n",
            "{'href': '/tourism/city/fr/le-mont-saint-michel.fr.html', 'class': ['bui-dropdown-menu__button'], 'title': 'Visitez Le Mont-Saint-Michel', 'data-bui-ref': 'dropdown-item', 'role': 'link', 'tabindex': '2', 'data-lp-ga-click': 'breadcrumbs:click'}\n",
            "{'href': '/searchresults.fr.html?dest_id=900039327&dest_type=city&;map=1'}\n",
            "{'href': '/searchresults.fr.html?dest_id=900039327&dest_type=city&', 'aria-hidden': 'false', 'data-lp-ga-click': 'sr-snippet:click-image:1', 'data-et-click': 'customGoal:OATBaQJbVTbZXWSYHCSdUWAUC:1'}\n",
            "{'href': '/hotel/fr/vert.fr.html', 'title': 'Hôtel Vert - \\nHôtel au Mont-Saint-Michel \\n', 'data-lp-ga-click': 'sr-snippet:click-title:1', 'data-et-click': 'customGoal:OATBaQJbVTbZXWSYHCSdUWAUC:2'}\n",
            "{'class': ['bui-button', 'bui-button--primary'], 'href': '/searchresults.fr.html?dest_id=900039327&dest_type=city&', 'type': 'button', 'data-lp-ga-click': 'sr-snippet:click-cta:1'}\n",
            "{'href': '/searchresults.fr.html?dest_id=900039327&dest_type=city&', 'aria-hidden': 'false', 'data-lp-ga-click': 'sr-snippet:click-image:2', 'data-et-click': 'customGoal:OATBaQJbVTbZXWSYHCSdUWAUC:1'}\n",
            "{'href': '/hotel/fr/mont-saint-michel.fr.html', 'title': 'Mercure Mont Saint Michel - \\nHôtel au Mont-Saint-Michel \\n', 'data-lp-ga-click': 'sr-snippet:click-title:2', 'data-et-click': 'customGoal:OATBaQJbVTbZXWSYHCSdUWAUC:2'}\n",
            "{'class': ['bui-button', 'bui-button--primary'], 'href': '/searchresults.fr.html?dest_id=900039327&dest_type=city&', 'type': 'button', 'data-lp-ga-click': 'sr-snippet:click-cta:2'}\n",
            "{'href': '/searchresults.fr.html?dest_id=900039327&dest_type=city&', 'aria-hidden': 'false', 'data-lp-ga-click': 'sr-snippet:click-image:3', 'data-et-click': 'customGoal:OATBaQJbVTbZXWSYHCSdUWAUC:1'}\n",
            "{'href': '/hotel/fr/le-relais-saint-michel.fr.html', 'title': 'Le Relais Saint Michel - \\nHôtel au Mont-Saint-Michel \\n', 'data-lp-ga-click': 'sr-snippet:click-title:3', 'data-et-click': 'customGoal:OATBaQJbVTbZXWSYHCSdUWAUC:2'}\n",
            "{'class': ['bui-button', 'bui-button--primary'], 'href': '/searchresults.fr.html?dest_id=900039327&dest_type=city&', 'type': 'button', 'data-lp-ga-click': 'sr-snippet:click-cta:3'}\n",
            "{'href': '/searchresults.fr.html?dest_id=900039327&dest_type=city&', 'aria-hidden': 'false', 'data-lp-ga-click': 'sr-snippet:click-image:4', 'data-et-click': 'customGoal:OATBaQJbVTbZXWSYHCSdUWAUC:1'}\n",
            "{'href': '/hotel/fr/les-terrasses-poulard.fr.html', 'title': 'Les Terrasses Poulard - \\nHôtel au Mont-Saint-Michel \\n', 'data-lp-ga-click': 'sr-snippet:click-title:4', 'data-et-click': 'customGoal:OATBaQJbVTbZXWSYHCSdUWAUC:2'}\n",
            "{'class': ['bui-button', 'bui-button--primary'], 'href': '/searchresults.fr.html?dest_id=900039327&dest_type=city&', 'type': 'button', 'data-lp-ga-click': 'sr-snippet:click-cta:4'}\n",
            "{'href': '/searchresults.fr.html?dest_id=900039327&dest_type=city&', 'aria-hidden': 'false', 'data-lp-ga-click': 'sr-snippet:click-image:5', 'data-et-click': 'customGoal:OATBaQJbVTbZXWSYHCSdUWAUC:1'}\n",
            "{'href': '/hotel/fr/la-mere-poulard.fr.html', 'title': 'La Mère Poulard - \\nHôtel au Mont-Saint-Michel \\n', 'data-lp-ga-click': 'sr-snippet:click-title:5', 'data-et-click': 'customGoal:OATBaQJbVTbZXWSYHCSdUWAUC:2'}\n",
            "{'class': ['bui-button', 'bui-button--primary'], 'href': '/searchresults.fr.html?dest_id=900039327&dest_type=city&', 'type': 'button', 'data-lp-ga-click': 'sr-snippet:click-cta:5'}\n",
            "{'href': '/searchresults.fr.html?dest_id=900039327&dest_type=city&', 'aria-hidden': 'false', 'data-lp-ga-click': 'sr-snippet:click-image:6', 'data-et-click': 'customGoal:OATBaQJbVTbZXWSYHCSdUWAUC:1'}\n",
            "{'href': '/hotel/fr/de-la-digue.fr.html', 'title': 'Hotel De La Digue - \\nHôtel au Mont-Saint-Michel \\n', 'data-lp-ga-click': 'sr-snippet:click-title:6', 'data-et-click': 'customGoal:OATBaQJbVTbZXWSYHCSdUWAUC:2'}\n",
            "{'class': ['bui-button', 'bui-button--primary'], 'href': '/searchresults.fr.html?dest_id=900039327&dest_type=city&', 'type': 'button', 'data-lp-ga-click': 'sr-snippet:click-cta:6'}\n",
            "{'href': '/searchresults.fr.html?dest_id=900039327&dest_type=city&', 'aria-hidden': 'false', 'data-lp-ga-click': 'sr-snippet:click-image:7', 'data-et-click': 'customGoal:OATBaQJbVTbZXWSYHCSdUWAUC:1'}\n",
            "{'href': '/hotel/fr/hotel-gabriel.fr.html', 'title': 'Hotel Gabriel - \\nHôtel au Mont-Saint-Michel \\n', 'data-lp-ga-click': 'sr-snippet:click-title:7', 'data-et-click': 'customGoal:OATBaQJbVTbZXWSYHCSdUWAUC:2'}\n",
            "{'class': ['bui-button', 'bui-button--primary'], 'href': '/searchresults.fr.html?dest_id=900039327&dest_type=city&', 'type': 'button', 'data-lp-ga-click': 'sr-snippet:click-cta:7'}\n",
            "{'href': '/searchresults.fr.html?dest_id=900039327&dest_type=city&', 'aria-hidden': 'false', 'data-lp-ga-click': 'sr-snippet:click-image:8', 'data-et-click': 'customGoal:OATBaQJbVTbZXWSYHCSdUWAUC:1'}\n",
            "{'href': '/hotel/fr/le-mouton-blanc-le-mont-saint-michel.fr.html', 'title': 'Le Mouton Blanc - \\nHôtel au Mont-Saint-Michel \\n', 'data-lp-ga-click': 'sr-snippet:click-title:8', 'data-et-click': 'customGoal:OATBaQJbVTbZXWSYHCSdUWAUC:2'}\n",
            "{'class': ['bui-button', 'bui-button--primary'], 'href': '/searchresults.fr.html?dest_id=900039327&dest_type=city&', 'type': 'button', 'data-lp-ga-click': 'sr-snippet:click-cta:8'}\n",
            "{'href': '/searchresults.fr.html?dest_id=900039327&dest_type=city&', 'aria-hidden': 'false', 'data-lp-ga-click': 'sr-snippet:click-image:9', 'data-et-click': 'customGoal:OATBaQJbVTbZXWSYHCSdUWAUC:1'}\n",
            "{'href': '/hotel/fr/la-vieille-auberge-le-mont-saint-michel.fr.html', 'title': 'La Vieille Auberge - \\nHôtel au Mont-Saint-Michel \\n', 'data-lp-ga-click': 'sr-snippet:click-title:9', 'data-et-click': 'customGoal:OATBaQJbVTbZXWSYHCSdUWAUC:2'}\n",
            "{'class': ['bui-button', 'bui-button--primary'], 'href': '/searchresults.fr.html?dest_id=900039327&dest_type=city&', 'type': 'button', 'data-lp-ga-click': 'sr-snippet:click-cta:9'}\n",
            "{'href': '/searchresults.fr.html?dest_id=900039327&dest_type=city&', 'aria-hidden': 'false', 'data-lp-ga-click': 'sr-snippet:click-image:10', 'data-et-click': 'customGoal:OATBaQJbVTbZXWSYHCSdUWAUC:1'}\n",
            "{'href': '/hotel/fr/hotel-saint-aubert.fr.html', 'title': 'Le Saint Aubert - \\nHôtel au Mont-Saint-Michel \\n', 'data-lp-ga-click': 'sr-snippet:click-title:10', 'data-et-click': 'customGoal:OATBaQJbVTbZXWSYHCSdUWAUC:2'}\n",
            "{'class': ['bui-button', 'bui-button--primary'], 'href': '/searchresults.fr.html?dest_id=900039327&dest_type=city&', 'type': 'button', 'data-lp-ga-click': 'sr-snippet:click-cta:10'}\n",
            "{'href': '/searchresults.fr.html?city=900039327&', 'title': '\\nVoir les 13 hôtels au Mont-Saint-Michel\\n', 'class': ['bui-button', 'bui-button--wide', 'bui-button--primary'], 'data-lp-ga-click': 'sr-snippet:cilck-see-all-cta'}\n",
            "{'href': 'https://www.booking.com/hotel/fr/vert.fr.html', 'class': ['ec0034bf31'], 'data-testid': 'hotelLink', 'title': 'Hôtel Vert'}\n",
            "{'href': 'https://www.booking.com/hotel/fr/le-relais-saint-michel.fr.html', 'class': ['ec0034bf31'], 'data-testid': 'hotelLink', 'title': 'Le Relais Saint Michel'}\n",
            "{'href': 'https://www.booking.com/hotel/fr/mont-saint-michel.fr.html', 'class': ['ec0034bf31'], 'data-testid': 'hotelLink', 'title': 'Mercure Mont Saint Michel'}\n",
            "{'href': 'https://www.booking.com/hotel/fr/la-mere-poulard.fr.html', 'class': ['ec0034bf31'], 'data-testid': 'hotelLink', 'title': 'La Mère Poulard'}\n",
            "{'href': 'https://www.booking.com/hotel/fr/hotel-gabriel.fr.html', 'class': ['ec0034bf31'], 'data-testid': 'hotelLink', 'title': 'Hotel Gabriel'}\n",
            "{'href': 'https://www.booking.com/hotel/fr/les-terrasses-poulard.fr.html', 'class': ['ec0034bf31'], 'data-testid': 'hotelLink', 'title': 'Les Terrasses Poulard'}\n",
            "{'href': 'https://www.booking.com/hotel/fr/le-relais-du-roy.fr.html', 'class': ['ec0034bf31'], 'data-testid': 'hotelLink', 'title': 'Le Relais Du Roy'}\n",
            "{'href': 'https://www.booking.com/hotel/fr/le-mouton-blanc-le-mont-saint-michel.fr.html', 'class': ['ec0034bf31'], 'data-testid': 'hotelLink', 'title': 'Le Mouton Blanc'}\n",
            "{'href': 'https://www.booking.com/hotel/fr/auberge-saint-pierre.fr.html', 'class': ['ec0034bf31'], 'data-testid': 'hotelLink', 'title': 'Auberge Saint Pierre'}\n",
            "{'href': 'https://www.booking.com/hotel/fr/la-vieille-auberge-le-mont-saint-michel.fr.html', 'class': ['ec0034bf31'], 'data-testid': 'hotelLink', 'title': 'La Vieille Auberge'}\n",
            "{'href': '/tourism/city/fr/le-mont-saint-michel.fr.html', 'class': ['bui-button', 'bui-button--secondary', 'bui-banner__button'], 'data-lp-ga-click': 'city-tourism-banner:click'}\n",
            "{'class': ['bui-card__header_full_link_wrap'], 'href': '/hotel/fr/de-la-digue.fr.html', 'data-lp-ga-click': 'reviews-targeted-hotel:click-title'}\n",
            "{'class': ['bui-card__header_full_link_wrap'], 'href': '/hotel/fr/ha-el-la-croix-blanche.fr.html', 'data-lp-ga-click': 'reviews-targeted-hotel:click-title'}\n",
            "{'class': ['bui-card__header_full_link_wrap'], 'href': '/hotel/fr/vert.fr.html', 'data-lp-ga-click': 'reviews-targeted-hotel:click-title'}\n",
            "{'class': ['bui-card__header_full_link_wrap'], 'href': '/hotel/fr/le-relais-saint-michel.fr.html', 'data-lp-ga-click': 'reviews-targeted-hotel:click-title'}\n",
            "{'class': ['bui-card__header_full_link_wrap'], 'href': '/hotel/fr/le-relais-du-roy.fr.html', 'data-lp-ga-click': 'reviews-targeted-hotel:click-title'}\n",
            "{'class': ['bui-card__header_full_link_wrap'], 'href': '/hotel/fr/les-terrasses-poulard.fr.html', 'data-lp-ga-click': 'reviews-targeted-hotel:click-title'}\n",
            "{'class': ['bui-card__header_full_link_wrap'], 'href': '/hotel/fr/auberge-saint-pierre.fr.html', 'data-lp-ga-click': 'reviews-targeted-hotel:click-title'}\n",
            "{'class': ['bui-card__header_full_link_wrap'], 'href': '/hotel/fr/la-vieille-auberge-le-mont-saint-michel.fr.html', 'data-lp-ga-click': 'reviews-targeted-hotel:click-title'}\n",
            "{'class': ['bui-card__header_full_link_wrap'], 'href': '/hotel/fr/la-mere-poulard.fr.html', 'data-lp-ga-click': 'reviews-targeted-hotel:click-title'}\n",
            "{'href': 'https://www.booking.com/region/fr/normandie.fr.html', 'class': ['bfb75da26c'], 'title': 'Hôtels dans cette région\\xa0: Normandie'}\n",
            "{'class': ['a938fc6438'], 'href': 'https://www.booking.com/region/fr/baie-du-mont-saint-michel.fr.html', 'title': 'Hôtels dans cette région\\xa0: Baie du mont Saint-Michel'}\n",
            "{'class': ['a938fc6438'], 'href': 'https://www.booking.com/city/fr/cancale.fr.html', 'title': 'Hôtels à Cancale'}\n",
            "{'href': 'https://www.booking.com/city/fr/granville.fr.html', 'class': ['d82d1233cd'], 'title': 'Hôtels à Granville'}\n",
            "{'href': 'https://www.booking.com/city/fr/saint-malo.fr.html', 'class': ['d82d1233cd'], 'title': 'Hôtels à Saint-Malo'}\n",
            "{'href': 'https://www.booking.com/city/fr/pontorson.fr.html', 'class': ['d82d1233cd'], 'title': 'Hôtels à Pontorson'}\n",
            "{'href': 'https://www.booking.com/romantic/city/fr/le-mont-saint-michel.fr.html', 'class': ['bfb75da26c'], 'title': 'Hôtels romantiques au Mont-Saint-Michel'}\n",
            "{'class': ['a938fc6438'], 'href': 'https://www.booking.com/pets/city/fr/le-mont-saint-michel.fr.html', 'title': 'Hôtels acceptant les animaux domestiques au Mont-Saint-Michel'}\n",
            "{'class': ['a938fc6438'], 'href': 'https://www.booking.com/family/city/fr/le-mont-saint-michel.fr.html', 'title': 'Hôtels pour les familles au Mont-Saint-Michel'}\n",
            "{'href': 'https://www.booking.com/best-time/country/fr.fr.html', 'class': ['d82d1233cd'], 'title': 'Quand visiter la France'}\n",
            "{'href': 'https://www.booking.com/city/fr/paris.fr.html', 'class': ['d82d1233cd'], 'title': 'Hôtels à Paris'}\n",
            "{'href': 'https://www.booking.com/city/fr/lyon.fr.html', 'class': ['d82d1233cd'], 'title': 'Hôtels à Lyon'}\n",
            "{'href': 'https://www.booking.com/landmark/fr/abbaye-du-mont-saint-michel.fr.html', 'class': ['bfb75da26c'], 'title': 'Hôtels près de\\xa0: Abbaye du Mont Saint Michel'}\n",
            "{'class': ['a938fc6438'], 'href': 'https://www.booking.com/landmark/fr/parc-des-expositions-de-rennes.fr.html', 'title': 'Hôtels près de\\xa0: Parc Expo Rennes Aéroport'}\n",
            "{'class': ['a938fc6438'], 'href': 'https://www.booking.com/tourism/city/fr/le-mont-saint-michel.fr.html', 'title': 'Visitez Le Mont-Saint-Michel'}\n",
            "{'href': 'https://www.booking.com/airport/fr/rns.fr.html', 'class': ['d82d1233cd'], 'title': 'Hôtels près de\\xa0: Aéroport de Rennes - Saint-Jacques'}\n",
            "{'href': 'https://www.booking.com/airport/fr/cfr.fr.html', 'class': ['d82d1233cd'], 'title': 'Hôtels près de\\xa0: Aéroport de Caen - Carpiquet'}\n",
            "{'href': 'https://www.booking.com/country/fr.fr.html', 'class': ['d82d1233cd'], 'title': 'Hôtels en France'}\n",
            "{'ref': 'nofollow', 'href': 'https://join.booking.com/?lang=fr&aid=304142&utm_source=footer_menu&utm_medium=frontend&label=gen000nr-10CAMoTUIUbGUtbW9udC1zYWludC1taWNoZWxIDVgEaE2IAQGYATO4AQXIAR7YAQPoAQH4AQGIAgGoAgG4As2i8KQGwAIB0gIkZDYzYWI4NWQtODI1YS00YTI3LTlkYjctZmM2NjNhYjFmNWEy2AIB4AIB', 'target': '_blank', 'data-ga-track': 'click|pageview:/internallink/partner/footer/hotellink/city/fr', 'data-et-click': '\\ncustomGoal:cCHObTRVDEZRdPQBcGCfTKYCcZeKe:4\\ncustomGoal:YTTHbXeeVLCBLfZUTPdKNKNKWe:1\\n', 'data-et-view': 'HCZEZUaNZIUONSFTUQODZEYTYeYINXGET:1', 'class': ['footer-top-button'], 'data-qa': 'joinapp_ep'}\n",
            "{'rel': ['nofollow'], 'href': 'https://www.booking.com/city/fr/le-mont-saint-michel.fr.html'}\n",
            "{'href': 'https://account.booking.com/auth/oauth2?dt=1687949646&state=UuUBSwJNRcDRZUv6HFWlVwf850Len6J3PE6W1zArCdWjpME_kTLyd5iOPk_P7jWFqm78pYqTbqp4xxBdNq1ltJKotC39crvbpMMAad3sJuW4fKXf-oRqDP0RyCzzdNCHx3AIWQjr-rlBriJsE14DIC2ZUsfEVMh3G2qncRZ-JNYvhPNPiWtAJKSZEVmWEPPIs4JaPQY63yQeFb0g5fOnC1wA8VUvRKyoAQ-pNhoq_2Iw58qlac_uMJzeX-goQd8G9HEkpFp2sk_bzlWCfqpeFBFajw45KokrGgF1M14gGgyLWHR1fEt4-Q&redirect_uri=https%3A%2F%2Fsecure.booking.com%2Flogin.html%3Fop%3Doauth_return&bkng_action=city&lang=fr&aid=304142&response_type=code&client_id=vO1Kblk7xX9tUn2cpZLS'}\n",
            "{'class': ['tracked'], 'href': 'https://secure.booking.com/content/cs.fr.html'}\n",
            "{'class': ['cuca'], 'href': 'https://secure.booking.com/help.fr.html#/?source=blue_footer', 'data-ga-track': 'click|Click|Action: city|hc_entrypoint_blue_footer', 'data-bui-component': 'Tooltip', 'title': 'Votre référence (ID)  “2F61AF7”', 'data-et-click': 'customGoal:YTTHbXeeVLCBLfZUTPdKNKNKWe:3'}\n",
            "{'href': '\\nhttps://www.booking.com/affiliate-program/v2/index.fr.html\\n', 'data-bui-component': 'Tooltip', 'title': 'Devenir affilié', 'class': ['footer_become_affiliate'], 'data-ga-track': 'click|pageview:/internallink/partner/footer/affiliatelink/city/fr', 'data-et-click': 'customGoal:YTTHbXeeVLCBLfZUTPdKNKNKWe:4'}\n",
            "{'href': 'https://business.booking.com/', 'class': ['tracked'], 'data-google-track': 'Click/Action: city/BBTool Footer BBZ', 'data-et-click': 'customGoal:YTTHbXeeVLCBLfZUTPdKNKNKWe:5'}\n",
            "{'href': 'https://www.booking.com/country.fr.html', 'data-ga': 'seoindexlinks', 'rel': ['nofollow']}\n",
            "{'href': 'https://www.booking.com/region.fr.html', 'data-ga': 'seoindexlinks', 'rel': ['nofollow']}\n",
            "{'href': 'https://www.booking.com/city.fr.html', 'data-ga': 'seoindexlinks', 'rel': ['nofollow']}\n",
            "{'href': 'https://www.booking.com/district.fr.html', 'data-ga': 'seoindexlinks', 'rel': ['nofollow']}\n",
            "{'href': 'https://www.booking.com/airport.fr.html', 'data-ga': 'seoindexlinks', 'rel': ['nofollow']}\n",
            "{'href': 'https://www.booking.com/hotel/index.fr.html', 'data-ga': 'seoindexlinks', 'rel': ['nofollow']}\n",
            "{'href': 'https://www.booking.com/landmark.fr.html', 'data-ga': 'seoindexlinks', 'rel': ['nofollow']}\n",
            "{'href': 'https://www.booking.com/booking-home/index.fr.html', 'data-ga': 'booking-home'}\n",
            "{'href': 'https://www.booking.com/apartments/index.fr.html', 'data-ga': 'apartments'}\n",
            "{'href': 'https://www.booking.com/resorts/index.fr.html', 'data-ga': 'resorts'}\n",
            "{'href': 'https://www.booking.com/villas/index.fr.html', 'data-ga': 'villas'}\n",
            "{'href': 'https://www.booking.com/hostels/index.fr.html', 'data-ga': 'hostels'}\n",
            "{'href': 'https://www.booking.com/bed-and-breakfast/index.fr.html', 'data-ga': 'bed_and_breakfast'}\n",
            "{'href': 'https://www.booking.com/guest-house/index.fr.html', 'data-ga': 'guest_house'}\n",
            "{'href': 'https://www.booking.com/accommodations.fr.html', 'data-ga': 'accommodations'}\n",
            "{'href': '/destination/city/fr/le-mont-saint-michel.fr.html'}\n",
            "{'href': 'https://www.booking.com/reviews\\n.fr.html\\n', 'data-ga': 'seoindexlinks', 'class': ['js-reviews-footer-link']}\n",
            "{'href': 'https://www.booking.com/extended-stays/index.fr.html', 'data-ga': 'extended-stays'}\n",
            "{'href': 'https://booking.com/articles.fr.html', 'type': 'nav', 'location': 'main-site-footer', 'category': 'articles-link'}\n",
            "{'href': 'https://www.booking.com/deals/index.fr.html', 'title': 'Offres de voyage saisonnières'}\n",
            "{'href': 'https://www.booking.com/traveller-awards/index.fr.html'}\n",
            "{'rel': ['nofollow'], 'href': 'http://cars.booking.com/Home.do?affiliateCode=booking-com&adplat=footer&preflang=fr', 'target': '_blank', 'data-google-track': 'Click/Rental cars footer link click (loy_footer_rentalcars_copy: 0)/city', 'data-ga-track': 'click|pageview:/outgoinglink/traveljigsaw/fr'}\n",
            "{'rel': ['nofollow'], 'href': 'https://booking.com/pxgo?aid=304142&token=UmFuZG9tSVYkc2RlIyh9YY_oTPIGnIwxsTOANoogQKGNEFJ5I89K1x0MTe3nNboR0rkoCHEgPvEC9kidCx0Kkaw3u6OjYEyGgg2tat5JC4AxqSLGE-p6FxjlvSIgWE_vUR3kiAd9J6Q6Vpusf3OPwtRj_-t1mH49S4rUQ1t10FPNBYq0-J5IWWn-g4bASa7Y5S1Yd9vAmmgww5CEGNA51GdbCJH1J7J_LAYFiRSabY4wQaUPT-UiFJHkqrNQXKRxFoBFpqGY5oJAdtf9Sh2B1ohbUnLTAMCSGNF1pM2DQsiXFvGeAnV4MCXMHPnlvmMMdYZFvUqVs7FaNxAlJ31cCQ&lang=fr&url=https%3A%2F%2Fbooking.kayak.com%2Fin', 'target': '_blank', 'data-google-track': 'Click/Kayak footer link/city', 'data-ga-track': 'click|pageview:/outgoinglink/kayaklink'}\n",
            "{'rel': ['nofollow'], 'href': 'http://www.opentable.com?ref=16087', 'target': '_blank', 'data-google-track': 'Click/Opentable footer link/city', 'data-ga-track': 'click|pageview:/outgoinglink/opentablelink'}\n",
            "{'href': '\\nhttps://www.booking.com/affiliate-program/v2/index.fr.html\\n', 'title': 'Booking.com for Travel Advisers', 'data-ga-track': 'click|pageview:/internallink/partner/footer/adviserslink/city/fr'}\n",
            "{'href': 'https://www.booking.com/covid-19-booking-faqs.fr.html'}\n",
            "{'href': 'https://www.booking.com/content/about.fr.html'}\n",
            "{'href': 'https://secure.booking.com/help.fr.html#/?source=footer_navigation', 'data-et-click': 'customGoal:YTTHbXeeVLCBLfZUTPdKNKNKWe:3', 'data-ga-track': 'click|Click|Action: city|hc_entrypoint_footer_navigation'}\n",
            "{'href': 'https://partner.booking.com/en-gb?utm_campaign=footer_list&utm_medium=frontend_footer&utm_source=booking.com'}\n",
            "{'href': 'https://careers.booking.com/?utm_source=corporate&utm_medium=footer', 'data-ga-track': 'click|pageview:/outgoinglink/footer/careerlink/fr'}\n",
            "{'href': 'https://sustainability.booking.com/', 'data-ga-track': 'click|pageview:/outgoinglink/footer/sustainabilitylink/fr'}\n",
            "{'class': ['tracked'], 'data-google-track': 'Click/Action: about_us/press', 'href': 'https://news.booking.com/fr/'}\n",
            "{'href': 'https://www.booking.com/trust-and-safety.fr.html', 'class': ['tracked']}\n",
            "{'class': ['tracked'], 'data-google-track': 'Click/Action: about_us/investor_relations', 'href': 'https://www.bookingholdings.com/'}\n",
            "{'href': 'https://www.booking.com/content/terms.fr.html'}\n",
            "{'href': 'https://secure.booking.com/content/complaints.fr.html'}\n",
            "{'href': 'https://www.booking.com/content/how_we_work.fr.html'}\n",
            "{'href': 'https://www.booking.com/content/privacy.fr.html'}\n",
            "{'href': '#', 'class': ['ot-preference-center-footer']}\n",
            "{'href': 'https://www.bookingholdings.com/about/compliance-and-ethics/'}\n",
            "{'href': 'https://www.booking.com/content/contact-us.fr.html'}\n",
            "{'href': '/content-moderation-policy/overview-page.fr.html', 'data-et-click': 'customGoal:THHSOJZTOeTFKMOaVRVKaMUHYbTLZBeMGKSaT:1'}\n",
            "{'class': ['extranet_link'], 'href': 'https://admin.booking.com/?lang=fr&utm_source=extranet_login_footer&utm_medium=frontend&utm_campaign=login_footer_v0', 'data-ga-track': 'click|Footer|Click - Extranet login|city', 'data-et-click': 'customGoal:YTTHbXeeVLCBLfZUTPdKNKNKWe:2'}\n",
            "{'href': 'https://secure.booking.com/reviewtimeline.fr.html', 'class': ['revc_write_a_review_login_button']}\n",
            "{'href': '#', 'class': ['prevmonth', 'disabled']}\n",
            "{'href': '#', 'class': ['nextmonth']}\n",
            "{'href': 'https://account.booking.com/auth/oauth2?client_id=vO1Kblk7xX9tUn2cpZLS&response_type=code&bkng_action=city&lang=fr&redirect_uri=https%3A%2F%2Fsecure.booking.com%2Flogin.html%3Fop%3Doauth_return&aid=304142&state=UtABSwJNRcDRZUtwPLLEV2-sUVkA5ESBoG38UUWub9q3tRR_wRd2XedFwASY1_bRlL27ewFh4k_obFtc9_KhCktAk_jagk71Wpe3kokbtqOZ9Mv7Bwk5IY2lkTvLnbhmrJBej-ossgiYATiIed-V69cfU_Q0OUCzDxPFcbkJVNcwj1xqxASHy8oBVjcbtb4b6NG3LiLB5lYC1Z4D6dPnI3Z5jBGk699K3d3zl-gi3JBwsg574Pjccmysa71bGP1khF8Xla4OVR7DrKkBnZaFwsOpKg&dt=1687949646', 'class': ['iam_login_btn--email', 'bui-button', 'bui-button--large', 'bui-button--wide', 'bui-spacer'], 'role': 'button', 'data-bui-component': 'Button'}\n",
            "{'href': 'https://account.booking.com/auth/oauth2?client_id=vO1Kblk7xX9tUn2cpZLS&response_type=code&bkng_action=city&lang=fr&redirect_uri=https%3A%2F%2Fsecure.booking.com%2Flogin.html%3Fop%3Doauth_return&aid=304142&state=UtABSwJNRcDRZUtwPLLEV2-sUVkA5ESBoG38UUWub9q3tRR_wRd2XedFwASY1_bRlL27ewFh4k_obFtc9_KhCktAk_jagk71Wpe3kokbtqOZ9Mv7Bwk5IY2lkTvLnbhmrJBej-ossgiYATiIed-V69cfU_Q0OUCzDxPFcbkJVNcwj1xqxASHy8oBVjcbtb4b6NG3LiLB5lYC1Z4D6dPnI3Z5jBGk699K3d3zl-gi3JBwsg574Pjccmysa71bGP1khF8Xla4OVR7DrKkBnZaFwsOpKg&dt=1687949646&prompt=facebook', 'data-popup-href': 'https://account.booking.com/auth/oauth2?state=UtoBSwJNRcDRZUtYv3Xioc5FXwmy8HybhA8jHBuuvTuQAdofueE1IYUaAHAh4_iGdDZGeUX1Wmclf4pKfhQ0KtyegmLDbp-TWRZzVYfmyGH8tsyaL8ahKvUfdp0X0kVFbcBiilv_APXuE71xn1nT3gum-RWtd9c7IYTTVemW7foZu0OSzaM0EDCr4ncjHSz_ErJAtwdDJri1t4dDSH7TNq4qSvs2CXxXnqifv7Ysi2m_-38fnDFSbE7udsTDvd4AU4r-JPaILBoNzedoAbOEuKBAjl1vI6khHHX1cS4&dt=1687949646&response_type=code&client_id=vO1Kblk7xX9tUn2cpZLS&aid=304142&popup=1&redirect_uri=https%3A%2F%2Fsecure.booking.com%2Flogin.html%3Fop%3Doauth_return&lang=fr&bkng_action=city&prompt=facebook', 'class': ['iam_login_form__social-button', 'iam_login_form__social-button-facebook', 'bui-button', 'bui-button--secondary'], 'title': \"S'identifier via Facebook\", 'aria-label': \"S'identifier via Facebook\", 'data-component': 'iam/social-button', 'data-mask': 'true'}\n",
            "{'href': 'https://account.booking.com/auth/oauth2?client_id=vO1Kblk7xX9tUn2cpZLS&response_type=code&bkng_action=city&lang=fr&redirect_uri=https%3A%2F%2Fsecure.booking.com%2Flogin.html%3Fop%3Doauth_return&aid=304142&state=UtABSwJNRcDRZUtwPLLEV2-sUVkA5ESBoG38UUWub9q3tRR_wRd2XedFwASY1_bRlL27ewFh4k_obFtc9_KhCktAk_jagk71Wpe3kokbtqOZ9Mv7Bwk5IY2lkTvLnbhmrJBej-ossgiYATiIed-V69cfU_Q0OUCzDxPFcbkJVNcwj1xqxASHy8oBVjcbtb4b6NG3LiLB5lYC1Z4D6dPnI3Z5jBGk699K3d3zl-gi3JBwsg574Pjccmysa71bGP1khF8Xla4OVR7DrKkBnZaFwsOpKg&dt=1687949646&prompt=google', 'data-popup-href': 'https://account.booking.com/auth/oauth2?state=UtoBSwJNRcDRZUtYv3Xioc5FXwmy8HybhA8jHBuuvTuQAdofueE1IYUaAHAh4_iGdDZGeUX1Wmclf4pKfhQ0KtyegmLDbp-TWRZzVYfmyGH8tsyaL8ahKvUfdp0X0kVFbcBiilv_APXuE71xn1nT3gum-RWtd9c7IYTTVemW7foZu0OSzaM0EDCr4ncjHSz_ErJAtwdDJri1t4dDSH7TNq4qSvs2CXxXnqifv7Ysi2m_-38fnDFSbE7udsTDvd4AU4r-JPaILBoNzedoAbOEuKBAjl1vI6khHHX1cS4&dt=1687949646&response_type=code&client_id=vO1Kblk7xX9tUn2cpZLS&aid=304142&popup=1&redirect_uri=https%3A%2F%2Fsecure.booking.com%2Flogin.html%3Fop%3Doauth_return&lang=fr&bkng_action=city&prompt=google', 'class': ['iam_login_form__social-button', 'iam_login_form__social-button-google', 'bui-button', 'bui-button--secondary'], 'title': \"S'identifier via Google\", 'aria-label': \"S'identifier via Google\", 'data-component': 'iam/social-button', 'data-mask': 'true'}\n",
            "{'href': 'https://account.booking.com/auth/oauth2?client_id=vO1Kblk7xX9tUn2cpZLS&response_type=code&bkng_action=city&lang=fr&redirect_uri=https%3A%2F%2Fsecure.booking.com%2Flogin.html%3Fop%3Doauth_return&aid=304142&state=UtABSwJNRcDRZUtwPLLEV2-sUVkA5ESBoG38UUWub9q3tRR_wRd2XedFwASY1_bRlL27ewFh4k_obFtc9_KhCktAk_jagk71Wpe3kokbtqOZ9Mv7Bwk5IY2lkTvLnbhmrJBej-ossgiYATiIed-V69cfU_Q0OUCzDxPFcbkJVNcwj1xqxASHy8oBVjcbtb4b6NG3LiLB5lYC1Z4D6dPnI3Z5jBGk699K3d3zl-gi3JBwsg574Pjccmysa71bGP1khF8Xla4OVR7DrKkBnZaFwsOpKg&dt=1687949646&prompt=apple', 'data-popup-href': 'https://account.booking.com/auth/oauth2?state=UtoBSwJNRcDRZUtYv3Xioc5FXwmy8HybhA8jHBuuvTuQAdofueE1IYUaAHAh4_iGdDZGeUX1Wmclf4pKfhQ0KtyegmLDbp-TWRZzVYfmyGH8tsyaL8ahKvUfdp0X0kVFbcBiilv_APXuE71xn1nT3gum-RWtd9c7IYTTVemW7foZu0OSzaM0EDCr4ncjHSz_ErJAtwdDJri1t4dDSH7TNq4qSvs2CXxXnqifv7Ysi2m_-38fnDFSbE7udsTDvd4AU4r-JPaILBoNzedoAbOEuKBAjl1vI6khHHX1cS4&dt=1687949646&response_type=code&client_id=vO1Kblk7xX9tUn2cpZLS&aid=304142&popup=1&redirect_uri=https%3A%2F%2Fsecure.booking.com%2Flogin.html%3Fop%3Doauth_return&lang=fr&bkng_action=city&prompt=apple', 'class': ['iam_login_form__social-button', 'iam_login_form__social-button-apple', 'bui-button', 'bui-button--secondary'], 'title': \"S'identifier via Apple\", 'aria-label': \"S'identifier via Apple\", 'data-component': 'iam/social-button', 'data-mask': 'true'}\n",
            "{'href': 'https://account.booking.com/auth/oauth2?client_id=vO1Kblk7xX9tUn2cpZLS&response_type=code&bkng_action=city&lang=fr&redirect_uri=https%3A%2F%2Fsecure.booking.com%2Flogin.html%3Fop%3Doauth_return&aid=304142&state=UtABSwJNRcDRZUtwPLLEV2-sUVkA5ESBoG38UUWub9q3tRR_wRd2XedFwASY1_bRlL27ewFh4k_obFtc9_KhCktAk_jagk71Wpe3kokbtqOZ9Mv7Bwk5IY2lkTvLnbhmrJBej-ossgiYATiIed-V69cfU_Q0OUCzDxPFcbkJVNcwj1xqxASHy8oBVjcbtb4b6NG3LiLB5lYC1Z4D6dPnI3Z5jBGk699K3d3zl-gi3JBwsg574Pjccmysa71bGP1khF8Xla4OVR7DrKkBnZaFwsOpKg&dt=1687949646&prompt=register', 'class': ['iam_login_link']}\n"
          ]
        }
      ]
    },
    {
      "cell_type": "code",
      "source": [
        "#il faut avoir +200 cell\n",
        "print(len(soup2.find_all('a')) )"
      ],
      "metadata": {
        "colab": {
          "base_uri": "https://localhost:8080/"
        },
        "id": "rAZDUKPBFfWZ",
        "outputId": "4f7da88d-e1f7-4910-fc8b-37f9d09f1de5"
      },
      "execution_count": 6,
      "outputs": [
        {
          "output_type": "stream",
          "name": "stdout",
          "text": [
            "200\n"
          ]
        }
      ]
    },
    {
      "cell_type": "code",
      "source": [
        "hello=soup2.find_all('a',attrs={'class':\"bui-card__header_full_link_wrap\"})[0]\n",
        "print(hello)"
      ],
      "metadata": {
        "colab": {
          "base_uri": "https://localhost:8080/"
        },
        "id": "lj-a6ZfgFq6C",
        "outputId": "380eed1c-845e-4ec5-e6d3-f22aaee9f35d"
      },
      "execution_count": 7,
      "outputs": [
        {
          "output_type": "stream",
          "name": "stdout",
          "text": [
            "<a class=\"bui-card__header_full_link_wrap\" data-lp-ga-click=\"reviews-targeted-hotel:click-title\" href=\"/hotel/fr/de-la-digue.fr.html\">\n",
            "<h3 class=\"bui-card__title\">Hotel De La Digue</h3>\n",
            "<p class=\"bui-card__subtitle\">\n",
            "Hôtel dans ce quartier : Le Mont-Saint-Michel\n",
            "</p>\n",
            "</a>\n"
          ]
        }
      ]
    },
    {
      "cell_type": "code",
      "source": [
        "#hotel name\n",
        "testotelname=hello.text.split('\\n')[2]\n",
        "testotelname"
      ],
      "metadata": {
        "colab": {
          "base_uri": "https://localhost:8080/",
          "height": 36
        },
        "id": "xRMrFHJd_Sb1",
        "outputId": "9df497e6-32b9-4e57-bd23-1db632144771"
      },
      "execution_count": 8,
      "outputs": [
        {
          "output_type": "execute_result",
          "data": {
            "text/plain": [
              "''"
            ],
            "application/vnd.google.colaboratory.intrinsic+json": {
              "type": "string"
            }
          },
          "metadata": {},
          "execution_count": 8
        }
      ]
    },
    {
      "cell_type": "code",
      "source": [
        "#test on 1 hotel  before test on all\n",
        "a=str(hello).split('href=')[1].split( 'title=')[0].split('\"')[1]\n",
        "print(a)"
      ],
      "metadata": {
        "colab": {
          "base_uri": "https://localhost:8080/"
        },
        "id": "Jh_RiF5gFvZq",
        "outputId": "bba2ea31-dbd8-41e7-d4e6-98edc18dac52"
      },
      "execution_count": 9,
      "outputs": [
        {
          "output_type": "stream",
          "name": "stdout",
          "text": [
            "/hotel/fr/de-la-digue.fr.html\n"
          ]
        }
      ]
    },
    {
      "cell_type": "code",
      "source": [
        "#how many links\n",
        "n=len(soup2.find_all('a',attrs={'class':\"bui-card__header_full_link_wrap\"}))\n",
        "print(\"we will get\",n, \"links\")"
      ],
      "metadata": {
        "colab": {
          "base_uri": "https://localhost:8080/"
        },
        "id": "_hVeSM30GACC",
        "outputId": "c3a95616-f4eb-4654-c6da-d2e1da66d21e"
      },
      "execution_count": 10,
      "outputs": [
        {
          "output_type": "stream",
          "name": "stdout",
          "text": [
            "we will get 9 links\n"
          ]
        }
      ]
    },
    {
      "cell_type": "code",
      "source": [
        "#lets get them\n",
        "links=[]\n",
        "names=[]\n",
        "\n",
        "for i in range(n):\n",
        "  c=soup2.find_all('a',attrs={'class':\"bui-card__header_full_link_wrap\"})[i]\n",
        "\n",
        "  #split on c to get link nd put it in list\n",
        "  names.append(c.text.split('\\n')[2])\n",
        "\n",
        "  links.append('https://www.booking.com'+ str(c).split('href=')[1].split( 'title=')[0].split('\"')[1])  #here we add 'https://www.booking.com/' to the hrefs\n",
        "\n",
        "\n",
        "\n",
        "print(links)\n",
        "print(names)"
      ],
      "metadata": {
        "colab": {
          "base_uri": "https://localhost:8080/"
        },
        "id": "Yqkvm0LdGVvY",
        "outputId": "adb62380-8d50-468b-ceec-d021197cb31d"
      },
      "execution_count": 11,
      "outputs": [
        {
          "output_type": "stream",
          "name": "stdout",
          "text": [
            "['https://www.booking.com/hotel/fr/de-la-digue.fr.html', 'https://www.booking.com/hotel/fr/ha-el-la-croix-blanche.fr.html', 'https://www.booking.com/hotel/fr/vert.fr.html', 'https://www.booking.com/hotel/fr/le-relais-saint-michel.fr.html', 'https://www.booking.com/hotel/fr/le-relais-du-roy.fr.html', 'https://www.booking.com/hotel/fr/les-terrasses-poulard.fr.html', 'https://www.booking.com/hotel/fr/auberge-saint-pierre.fr.html', 'https://www.booking.com/hotel/fr/la-vieille-auberge-le-mont-saint-michel.fr.html', 'https://www.booking.com/hotel/fr/la-mere-poulard.fr.html']\n",
            "['', '', '', '', '', '', '', '', '']\n"
          ]
        }
      ]
    },
    {
      "cell_type": "code",
      "source": [
        "# #let s add www.book...\n",
        "# urls=[]\n",
        "# for i in listvide:\n",
        "#   urls.append('https://www.booking.com/'+i)\n",
        "# print(urls[0:4])"
      ],
      "metadata": {
        "id": "iZbBaCC1G6ig"
      },
      "execution_count": 12,
      "outputs": []
    },
    {
      "cell_type": "code",
      "source": [
        "#we convert it into dataframe\n",
        "df=pd.DataFrame()\n",
        "# df['names']=names[0:3]  #on va prendre que les 3 premiers pour scraper vite apres un page par page...\n",
        "df['names']=names\n",
        "df['links']=links\n",
        "df['lat']=np.nan\n",
        "df['lon']=np.nan\n",
        "df['hotel_note']=np.nan\n",
        "df['description']=np.nan\n",
        "display(df.head() )\n"
      ],
      "metadata": {
        "colab": {
          "base_uri": "https://localhost:8080/",
          "height": 206
        },
        "id": "8_ZHCqMsHHZ9",
        "outputId": "a3b3d545-f1bf-4f5b-cce5-4b225ef2629f"
      },
      "execution_count": 13,
      "outputs": [
        {
          "output_type": "display_data",
          "data": {
            "text/plain": [
              "  names                                              links  lat  lon  \\\n",
              "0        https://www.booking.com/hotel/fr/de-la-digue.f...  NaN  NaN   \n",
              "1        https://www.booking.com/hotel/fr/ha-el-la-croi...  NaN  NaN   \n",
              "2            https://www.booking.com/hotel/fr/vert.fr.html  NaN  NaN   \n",
              "3        https://www.booking.com/hotel/fr/le-relais-sai...  NaN  NaN   \n",
              "4        https://www.booking.com/hotel/fr/le-relais-du-...  NaN  NaN   \n",
              "\n",
              "   hotel_note  description  \n",
              "0         NaN          NaN  \n",
              "1         NaN          NaN  \n",
              "2         NaN          NaN  \n",
              "3         NaN          NaN  \n",
              "4         NaN          NaN  "
            ],
            "text/html": [
              "\n",
              "  <div id=\"df-9e5808d5-4553-46f6-8494-07ff45de3de5\">\n",
              "    <div class=\"colab-df-container\">\n",
              "      <div>\n",
              "<style scoped>\n",
              "    .dataframe tbody tr th:only-of-type {\n",
              "        vertical-align: middle;\n",
              "    }\n",
              "\n",
              "    .dataframe tbody tr th {\n",
              "        vertical-align: top;\n",
              "    }\n",
              "\n",
              "    .dataframe thead th {\n",
              "        text-align: right;\n",
              "    }\n",
              "</style>\n",
              "<table border=\"1\" class=\"dataframe\">\n",
              "  <thead>\n",
              "    <tr style=\"text-align: right;\">\n",
              "      <th></th>\n",
              "      <th>names</th>\n",
              "      <th>links</th>\n",
              "      <th>lat</th>\n",
              "      <th>lon</th>\n",
              "      <th>hotel_note</th>\n",
              "      <th>description</th>\n",
              "    </tr>\n",
              "  </thead>\n",
              "  <tbody>\n",
              "    <tr>\n",
              "      <th>0</th>\n",
              "      <td></td>\n",
              "      <td>https://www.booking.com/hotel/fr/de-la-digue.f...</td>\n",
              "      <td>NaN</td>\n",
              "      <td>NaN</td>\n",
              "      <td>NaN</td>\n",
              "      <td>NaN</td>\n",
              "    </tr>\n",
              "    <tr>\n",
              "      <th>1</th>\n",
              "      <td></td>\n",
              "      <td>https://www.booking.com/hotel/fr/ha-el-la-croi...</td>\n",
              "      <td>NaN</td>\n",
              "      <td>NaN</td>\n",
              "      <td>NaN</td>\n",
              "      <td>NaN</td>\n",
              "    </tr>\n",
              "    <tr>\n",
              "      <th>2</th>\n",
              "      <td></td>\n",
              "      <td>https://www.booking.com/hotel/fr/vert.fr.html</td>\n",
              "      <td>NaN</td>\n",
              "      <td>NaN</td>\n",
              "      <td>NaN</td>\n",
              "      <td>NaN</td>\n",
              "    </tr>\n",
              "    <tr>\n",
              "      <th>3</th>\n",
              "      <td></td>\n",
              "      <td>https://www.booking.com/hotel/fr/le-relais-sai...</td>\n",
              "      <td>NaN</td>\n",
              "      <td>NaN</td>\n",
              "      <td>NaN</td>\n",
              "      <td>NaN</td>\n",
              "    </tr>\n",
              "    <tr>\n",
              "      <th>4</th>\n",
              "      <td></td>\n",
              "      <td>https://www.booking.com/hotel/fr/le-relais-du-...</td>\n",
              "      <td>NaN</td>\n",
              "      <td>NaN</td>\n",
              "      <td>NaN</td>\n",
              "      <td>NaN</td>\n",
              "    </tr>\n",
              "  </tbody>\n",
              "</table>\n",
              "</div>\n",
              "      <button class=\"colab-df-convert\" onclick=\"convertToInteractive('df-9e5808d5-4553-46f6-8494-07ff45de3de5')\"\n",
              "              title=\"Convert this dataframe to an interactive table.\"\n",
              "              style=\"display:none;\">\n",
              "        \n",
              "  <svg xmlns=\"http://www.w3.org/2000/svg\" height=\"24px\"viewBox=\"0 0 24 24\"\n",
              "       width=\"24px\">\n",
              "    <path d=\"M0 0h24v24H0V0z\" fill=\"none\"/>\n",
              "    <path d=\"M18.56 5.44l.94 2.06.94-2.06 2.06-.94-2.06-.94-.94-2.06-.94 2.06-2.06.94zm-11 1L8.5 8.5l.94-2.06 2.06-.94-2.06-.94L8.5 2.5l-.94 2.06-2.06.94zm10 10l.94 2.06.94-2.06 2.06-.94-2.06-.94-.94-2.06-.94 2.06-2.06.94z\"/><path d=\"M17.41 7.96l-1.37-1.37c-.4-.4-.92-.59-1.43-.59-.52 0-1.04.2-1.43.59L10.3 9.45l-7.72 7.72c-.78.78-.78 2.05 0 2.83L4 21.41c.39.39.9.59 1.41.59.51 0 1.02-.2 1.41-.59l7.78-7.78 2.81-2.81c.8-.78.8-2.07 0-2.86zM5.41 20L4 18.59l7.72-7.72 1.47 1.35L5.41 20z\"/>\n",
              "  </svg>\n",
              "      </button>\n",
              "      \n",
              "  <style>\n",
              "    .colab-df-container {\n",
              "      display:flex;\n",
              "      flex-wrap:wrap;\n",
              "      gap: 12px;\n",
              "    }\n",
              "\n",
              "    .colab-df-convert {\n",
              "      background-color: #E8F0FE;\n",
              "      border: none;\n",
              "      border-radius: 50%;\n",
              "      cursor: pointer;\n",
              "      display: none;\n",
              "      fill: #1967D2;\n",
              "      height: 32px;\n",
              "      padding: 0 0 0 0;\n",
              "      width: 32px;\n",
              "    }\n",
              "\n",
              "    .colab-df-convert:hover {\n",
              "      background-color: #E2EBFA;\n",
              "      box-shadow: 0px 1px 2px rgba(60, 64, 67, 0.3), 0px 1px 3px 1px rgba(60, 64, 67, 0.15);\n",
              "      fill: #174EA6;\n",
              "    }\n",
              "\n",
              "    [theme=dark] .colab-df-convert {\n",
              "      background-color: #3B4455;\n",
              "      fill: #D2E3FC;\n",
              "    }\n",
              "\n",
              "    [theme=dark] .colab-df-convert:hover {\n",
              "      background-color: #434B5C;\n",
              "      box-shadow: 0px 1px 3px 1px rgba(0, 0, 0, 0.15);\n",
              "      filter: drop-shadow(0px 1px 2px rgba(0, 0, 0, 0.3));\n",
              "      fill: #FFFFFF;\n",
              "    }\n",
              "  </style>\n",
              "\n",
              "      <script>\n",
              "        const buttonEl =\n",
              "          document.querySelector('#df-9e5808d5-4553-46f6-8494-07ff45de3de5 button.colab-df-convert');\n",
              "        buttonEl.style.display =\n",
              "          google.colab.kernel.accessAllowed ? 'block' : 'none';\n",
              "\n",
              "        async function convertToInteractive(key) {\n",
              "          const element = document.querySelector('#df-9e5808d5-4553-46f6-8494-07ff45de3de5');\n",
              "          const dataTable =\n",
              "            await google.colab.kernel.invokeFunction('convertToInteractive',\n",
              "                                                     [key], {});\n",
              "          if (!dataTable) return;\n",
              "\n",
              "          const docLinkHtml = 'Like what you see? Visit the ' +\n",
              "            '<a target=\"_blank\" href=https://colab.research.google.com/notebooks/data_table.ipynb>data table notebook</a>'\n",
              "            + ' to learn more about interactive tables.';\n",
              "          element.innerHTML = '';\n",
              "          dataTable['output_type'] = 'display_data';\n",
              "          await google.colab.output.renderOutput(dataTable, element);\n",
              "          const docLink = document.createElement('div');\n",
              "          docLink.innerHTML = docLinkHtml;\n",
              "          element.appendChild(docLink);\n",
              "        }\n",
              "      </script>\n",
              "    </div>\n",
              "  </div>\n",
              "  "
            ]
          },
          "metadata": {}
        }
      ]
    },
    {
      "cell_type": "markdown",
      "source": [
        "# ***now page after page***"
      ],
      "metadata": {
        "id": "tYMV3x1MKMDM"
      }
    },
    {
      "cell_type": "code",
      "source": [
        "for i in df['links']:\n",
        "  print(i)"
      ],
      "metadata": {
        "colab": {
          "base_uri": "https://localhost:8080/"
        },
        "id": "g9Uh4EXOmUdT",
        "outputId": "c97d51f8-c3a1-4d25-f164-b57dbd8e2009"
      },
      "execution_count": 14,
      "outputs": [
        {
          "output_type": "stream",
          "name": "stdout",
          "text": [
            "https://www.booking.com/hotel/fr/de-la-digue.fr.html\n",
            "https://www.booking.com/hotel/fr/ha-el-la-croix-blanche.fr.html\n",
            "https://www.booking.com/hotel/fr/vert.fr.html\n",
            "https://www.booking.com/hotel/fr/le-relais-saint-michel.fr.html\n",
            "https://www.booking.com/hotel/fr/le-relais-du-roy.fr.html\n",
            "https://www.booking.com/hotel/fr/les-terrasses-poulard.fr.html\n",
            "https://www.booking.com/hotel/fr/auberge-saint-pierre.fr.html\n",
            "https://www.booking.com/hotel/fr/la-vieille-auberge-le-mont-saint-michel.fr.html\n",
            "https://www.booking.com/hotel/fr/la-mere-poulard.fr.html\n"
          ]
        }
      ]
    },
    {
      "cell_type": "code",
      "source": [
        "description=[]\n",
        "hotel_note=[]\n",
        "lat=[]\n",
        "lon=[]\n",
        "p,_=df.shape\n",
        "p\n",
        "for i in range(p):\n",
        "\n",
        "  r=requests.get(df['links'][i])\n",
        "  print(df['links'][i])\n",
        "  soup2=BeautifulSoup(r.text,'html.parser')\n",
        "#=================================================================\n",
        "\n",
        "  #to get the decription inside the page\n",
        "\n",
        "  hi=soup2.find('div',{'id':'property_description_content'}).text\n",
        "  description.append(hi)\n",
        "\n",
        "  # print(description)\n",
        "\n",
        "#================================================================\n",
        "#user note\n",
        "  notebyuser=soup2.find('div',{'class':\"b5cd09854e d10a6220b4\"}).text\n",
        "\n",
        "  hotel_note.append(notebyuser[0:3])\n",
        "\n",
        "\n",
        "  print(hotel_note[i])\n",
        "\n",
        "#================================================================\n",
        "#gps work\n",
        "#i get the code after looking doing this : gps=soup.find('p',{'class':\"address address_clean\"}) print(gps)\n",
        "  t1=str(soup2.find('a',{'id':\"hotel_header\"})).split('bbox=\"')[1].split(',')[0]\n",
        "  t2=str(soup2.find('a',{'id':\"hotel_header\"})).split('bbox=\"')[1].split(',')[1]\n",
        "\n",
        "  lat.append(t1)\n",
        "\n",
        "  lon.append(t2)\n",
        "\n",
        "  print(lat[i])\n",
        "  print(lon[i])\n",
        "  #petit condition is on a pas scraper de la 1er page de recherche on recupere les info via la page de chaque hotel\n",
        "  if df['names'][i]=='':\n",
        "    df['names'][i]=soup2.find('h2',{'class':\"d2fee87262 pp-header__title\"}).text\n",
        "  else:\n",
        "    df['names'][i]\n"
      ],
      "metadata": {
        "colab": {
          "base_uri": "https://localhost:8080/"
        },
        "id": "Nw-t_NgIuWVz",
        "outputId": "7e99f707-8720-42c8-f4de-96ac8289ff8a"
      },
      "execution_count": 15,
      "outputs": [
        {
          "output_type": "stream",
          "name": "stdout",
          "text": [
            "https://www.booking.com/hotel/fr/de-la-digue.fr.html\n",
            "7,1\n",
            "48.5989161328681\n",
            "-1.53814339058278\n"
          ]
        },
        {
          "output_type": "stream",
          "name": "stderr",
          "text": [
            "<ipython-input-15-e14a69618c91>:44: SettingWithCopyWarning: \n",
            "A value is trying to be set on a copy of a slice from a DataFrame\n",
            "\n",
            "See the caveats in the documentation: https://pandas.pydata.org/pandas-docs/stable/user_guide/indexing.html#returning-a-view-versus-a-copy\n",
            "  df['names'][i]=soup2.find('h2',{'class':\"d2fee87262 pp-header__title\"}).text\n"
          ]
        },
        {
          "output_type": "stream",
          "name": "stdout",
          "text": [
            "https://www.booking.com/hotel/fr/ha-el-la-croix-blanche.fr.html\n",
            "7,7\n",
            "48.6177686476982\n",
            "-1.53709677268398\n",
            "https://www.booking.com/hotel/fr/vert.fr.html\n",
            "8,0\n",
            "48.5967350697173\n",
            "-1.53684134303157\n",
            "https://www.booking.com/hotel/fr/le-relais-saint-michel.fr.html\n",
            "7,9\n",
            "48.5996218550758\n",
            "-1.53762208153347\n",
            "https://www.booking.com/hotel/fr/le-relais-du-roy.fr.html\n",
            "8,0\n",
            "48.5982972879393\n",
            "-1.53813098690421\n",
            "https://www.booking.com/hotel/fr/les-terrasses-poulard.fr.html\n",
            "7,3\n",
            "48.6173840090681\n",
            "-1.53761423137484\n",
            "https://www.booking.com/hotel/fr/auberge-saint-pierre.fr.html\n",
            "7,9\n",
            "48.6177225621183\n",
            "-1.53711820547634\n",
            "https://www.booking.com/hotel/fr/la-vieille-auberge-le-mont-saint-michel.fr.html\n",
            "7,2\n",
            "48.6180975834269\n",
            "-1.53869289822871\n",
            "https://www.booking.com/hotel/fr/la-mere-poulard.fr.html\n",
            "7,1\n",
            "48.6171199006609\n",
            "-1.53777502133808\n"
          ]
        }
      ]
    },
    {
      "cell_type": "code",
      "source": [
        "df['lat']=lat\n",
        "df['description']=description\n",
        "df['lon']=lon\n",
        "df['hotel_note']=hotel_note"
      ],
      "metadata": {
        "id": "FBbInTeowxNC"
      },
      "execution_count": 16,
      "outputs": []
    },
    {
      "cell_type": "code",
      "source": [
        "df[0:20]"
      ],
      "metadata": {
        "colab": {
          "base_uri": "https://localhost:8080/",
          "height": 332
        },
        "id": "SohxFM5mw152",
        "outputId": "c7d7f741-2389-442f-ef91-fb5533b3c3ba"
      },
      "execution_count": 17,
      "outputs": [
        {
          "output_type": "execute_result",
          "data": {
            "text/plain": [
              "                    names                                              links  \\\n",
              "0       Hotel De La Digue  https://www.booking.com/hotel/fr/de-la-digue.f...   \n",
              "1  Hôtel la Croix Blanche  https://www.booking.com/hotel/fr/ha-el-la-croi...   \n",
              "2              Hôtel Vert      https://www.booking.com/hotel/fr/vert.fr.html   \n",
              "3  Le Relais Saint Michel  https://www.booking.com/hotel/fr/le-relais-sai...   \n",
              "4        Le Relais Du Roy  https://www.booking.com/hotel/fr/le-relais-du-...   \n",
              "5   Les Terrasses Poulard  https://www.booking.com/hotel/fr/les-terrasses...   \n",
              "6    Auberge Saint Pierre  https://www.booking.com/hotel/fr/auberge-saint...   \n",
              "7      La Vieille Auberge  https://www.booking.com/hotel/fr/la-vieille-au...   \n",
              "8         La Mère Poulard  https://www.booking.com/hotel/fr/la-mere-poula...   \n",
              "\n",
              "                lat                lon hotel_note  \\\n",
              "0  48.5989161328681  -1.53814339058278        7,1   \n",
              "1  48.6177686476982  -1.53709677268398        7,7   \n",
              "2  48.5967350697173  -1.53684134303157        8,0   \n",
              "3  48.5996218550758  -1.53762208153347        7,9   \n",
              "4  48.5982972879393  -1.53813098690421        8,0   \n",
              "5  48.6173840090681  -1.53761423137484        7,3   \n",
              "6  48.6177225621183  -1.53711820547634        7,9   \n",
              "7  48.6180975834269  -1.53869289822871        7,2   \n",
              "8  48.6171199006609  -1.53777502133808        7,1   \n",
              "\n",
              "                                         description  \n",
              "0  \\n L'hôtel De La Digue est un établissement tr...  \n",
              "1  \\n Situé au cœur du village médiéval du Mont-S...  \n",
              "2  \\nVous pouvez bénéficier d'une réduction Geniu...  \n",
              "3  \\nVous pouvez bénéficier d'une réduction Geniu...  \n",
              "4  \\nVous pouvez bénéficier d'une réduction Geniu...  \n",
              "5  \\nVous pouvez bénéficier d'une réduction Geniu...  \n",
              "6  \\n L'Auberge Saint-Pierre occupe une maison à ...  \n",
              "7  \\n La Vieille Auberge vous accueille dans le v...  \n",
              "8  \\nVous pouvez bénéficier d'une réduction Geniu...  "
            ],
            "text/html": [
              "\n",
              "  <div id=\"df-b2d136e3-0487-4329-9cef-22c81d22799c\">\n",
              "    <div class=\"colab-df-container\">\n",
              "      <div>\n",
              "<style scoped>\n",
              "    .dataframe tbody tr th:only-of-type {\n",
              "        vertical-align: middle;\n",
              "    }\n",
              "\n",
              "    .dataframe tbody tr th {\n",
              "        vertical-align: top;\n",
              "    }\n",
              "\n",
              "    .dataframe thead th {\n",
              "        text-align: right;\n",
              "    }\n",
              "</style>\n",
              "<table border=\"1\" class=\"dataframe\">\n",
              "  <thead>\n",
              "    <tr style=\"text-align: right;\">\n",
              "      <th></th>\n",
              "      <th>names</th>\n",
              "      <th>links</th>\n",
              "      <th>lat</th>\n",
              "      <th>lon</th>\n",
              "      <th>hotel_note</th>\n",
              "      <th>description</th>\n",
              "    </tr>\n",
              "  </thead>\n",
              "  <tbody>\n",
              "    <tr>\n",
              "      <th>0</th>\n",
              "      <td>Hotel De La Digue</td>\n",
              "      <td>https://www.booking.com/hotel/fr/de-la-digue.f...</td>\n",
              "      <td>48.5989161328681</td>\n",
              "      <td>-1.53814339058278</td>\n",
              "      <td>7,1</td>\n",
              "      <td>\\n L'hôtel De La Digue est un établissement tr...</td>\n",
              "    </tr>\n",
              "    <tr>\n",
              "      <th>1</th>\n",
              "      <td>Hôtel la Croix Blanche</td>\n",
              "      <td>https://www.booking.com/hotel/fr/ha-el-la-croi...</td>\n",
              "      <td>48.6177686476982</td>\n",
              "      <td>-1.53709677268398</td>\n",
              "      <td>7,7</td>\n",
              "      <td>\\n Situé au cœur du village médiéval du Mont-S...</td>\n",
              "    </tr>\n",
              "    <tr>\n",
              "      <th>2</th>\n",
              "      <td>Hôtel Vert</td>\n",
              "      <td>https://www.booking.com/hotel/fr/vert.fr.html</td>\n",
              "      <td>48.5967350697173</td>\n",
              "      <td>-1.53684134303157</td>\n",
              "      <td>8,0</td>\n",
              "      <td>\\nVous pouvez bénéficier d'une réduction Geniu...</td>\n",
              "    </tr>\n",
              "    <tr>\n",
              "      <th>3</th>\n",
              "      <td>Le Relais Saint Michel</td>\n",
              "      <td>https://www.booking.com/hotel/fr/le-relais-sai...</td>\n",
              "      <td>48.5996218550758</td>\n",
              "      <td>-1.53762208153347</td>\n",
              "      <td>7,9</td>\n",
              "      <td>\\nVous pouvez bénéficier d'une réduction Geniu...</td>\n",
              "    </tr>\n",
              "    <tr>\n",
              "      <th>4</th>\n",
              "      <td>Le Relais Du Roy</td>\n",
              "      <td>https://www.booking.com/hotel/fr/le-relais-du-...</td>\n",
              "      <td>48.5982972879393</td>\n",
              "      <td>-1.53813098690421</td>\n",
              "      <td>8,0</td>\n",
              "      <td>\\nVous pouvez bénéficier d'une réduction Geniu...</td>\n",
              "    </tr>\n",
              "    <tr>\n",
              "      <th>5</th>\n",
              "      <td>Les Terrasses Poulard</td>\n",
              "      <td>https://www.booking.com/hotel/fr/les-terrasses...</td>\n",
              "      <td>48.6173840090681</td>\n",
              "      <td>-1.53761423137484</td>\n",
              "      <td>7,3</td>\n",
              "      <td>\\nVous pouvez bénéficier d'une réduction Geniu...</td>\n",
              "    </tr>\n",
              "    <tr>\n",
              "      <th>6</th>\n",
              "      <td>Auberge Saint Pierre</td>\n",
              "      <td>https://www.booking.com/hotel/fr/auberge-saint...</td>\n",
              "      <td>48.6177225621183</td>\n",
              "      <td>-1.53711820547634</td>\n",
              "      <td>7,9</td>\n",
              "      <td>\\n L'Auberge Saint-Pierre occupe une maison à ...</td>\n",
              "    </tr>\n",
              "    <tr>\n",
              "      <th>7</th>\n",
              "      <td>La Vieille Auberge</td>\n",
              "      <td>https://www.booking.com/hotel/fr/la-vieille-au...</td>\n",
              "      <td>48.6180975834269</td>\n",
              "      <td>-1.53869289822871</td>\n",
              "      <td>7,2</td>\n",
              "      <td>\\n La Vieille Auberge vous accueille dans le v...</td>\n",
              "    </tr>\n",
              "    <tr>\n",
              "      <th>8</th>\n",
              "      <td>La Mère Poulard</td>\n",
              "      <td>https://www.booking.com/hotel/fr/la-mere-poula...</td>\n",
              "      <td>48.6171199006609</td>\n",
              "      <td>-1.53777502133808</td>\n",
              "      <td>7,1</td>\n",
              "      <td>\\nVous pouvez bénéficier d'une réduction Geniu...</td>\n",
              "    </tr>\n",
              "  </tbody>\n",
              "</table>\n",
              "</div>\n",
              "      <button class=\"colab-df-convert\" onclick=\"convertToInteractive('df-b2d136e3-0487-4329-9cef-22c81d22799c')\"\n",
              "              title=\"Convert this dataframe to an interactive table.\"\n",
              "              style=\"display:none;\">\n",
              "        \n",
              "  <svg xmlns=\"http://www.w3.org/2000/svg\" height=\"24px\"viewBox=\"0 0 24 24\"\n",
              "       width=\"24px\">\n",
              "    <path d=\"M0 0h24v24H0V0z\" fill=\"none\"/>\n",
              "    <path d=\"M18.56 5.44l.94 2.06.94-2.06 2.06-.94-2.06-.94-.94-2.06-.94 2.06-2.06.94zm-11 1L8.5 8.5l.94-2.06 2.06-.94-2.06-.94L8.5 2.5l-.94 2.06-2.06.94zm10 10l.94 2.06.94-2.06 2.06-.94-2.06-.94-.94-2.06-.94 2.06-2.06.94z\"/><path d=\"M17.41 7.96l-1.37-1.37c-.4-.4-.92-.59-1.43-.59-.52 0-1.04.2-1.43.59L10.3 9.45l-7.72 7.72c-.78.78-.78 2.05 0 2.83L4 21.41c.39.39.9.59 1.41.59.51 0 1.02-.2 1.41-.59l7.78-7.78 2.81-2.81c.8-.78.8-2.07 0-2.86zM5.41 20L4 18.59l7.72-7.72 1.47 1.35L5.41 20z\"/>\n",
              "  </svg>\n",
              "      </button>\n",
              "      \n",
              "  <style>\n",
              "    .colab-df-container {\n",
              "      display:flex;\n",
              "      flex-wrap:wrap;\n",
              "      gap: 12px;\n",
              "    }\n",
              "\n",
              "    .colab-df-convert {\n",
              "      background-color: #E8F0FE;\n",
              "      border: none;\n",
              "      border-radius: 50%;\n",
              "      cursor: pointer;\n",
              "      display: none;\n",
              "      fill: #1967D2;\n",
              "      height: 32px;\n",
              "      padding: 0 0 0 0;\n",
              "      width: 32px;\n",
              "    }\n",
              "\n",
              "    .colab-df-convert:hover {\n",
              "      background-color: #E2EBFA;\n",
              "      box-shadow: 0px 1px 2px rgba(60, 64, 67, 0.3), 0px 1px 3px 1px rgba(60, 64, 67, 0.15);\n",
              "      fill: #174EA6;\n",
              "    }\n",
              "\n",
              "    [theme=dark] .colab-df-convert {\n",
              "      background-color: #3B4455;\n",
              "      fill: #D2E3FC;\n",
              "    }\n",
              "\n",
              "    [theme=dark] .colab-df-convert:hover {\n",
              "      background-color: #434B5C;\n",
              "      box-shadow: 0px 1px 3px 1px rgba(0, 0, 0, 0.15);\n",
              "      filter: drop-shadow(0px 1px 2px rgba(0, 0, 0, 0.3));\n",
              "      fill: #FFFFFF;\n",
              "    }\n",
              "  </style>\n",
              "\n",
              "      <script>\n",
              "        const buttonEl =\n",
              "          document.querySelector('#df-b2d136e3-0487-4329-9cef-22c81d22799c button.colab-df-convert');\n",
              "        buttonEl.style.display =\n",
              "          google.colab.kernel.accessAllowed ? 'block' : 'none';\n",
              "\n",
              "        async function convertToInteractive(key) {\n",
              "          const element = document.querySelector('#df-b2d136e3-0487-4329-9cef-22c81d22799c');\n",
              "          const dataTable =\n",
              "            await google.colab.kernel.invokeFunction('convertToInteractive',\n",
              "                                                     [key], {});\n",
              "          if (!dataTable) return;\n",
              "\n",
              "          const docLinkHtml = 'Like what you see? Visit the ' +\n",
              "            '<a target=\"_blank\" href=https://colab.research.google.com/notebooks/data_table.ipynb>data table notebook</a>'\n",
              "            + ' to learn more about interactive tables.';\n",
              "          element.innerHTML = '';\n",
              "          dataTable['output_type'] = 'display_data';\n",
              "          await google.colab.output.renderOutput(dataTable, element);\n",
              "          const docLink = document.createElement('div');\n",
              "          docLink.innerHTML = docLinkHtml;\n",
              "          element.appendChild(docLink);\n",
              "        }\n",
              "      </script>\n",
              "    </div>\n",
              "  </div>\n",
              "  "
            ]
          },
          "metadata": {},
          "execution_count": 17
        }
      ]
    },
    {
      "cell_type": "code",
      "source": [
        "len(df['description'].unique())  #"
      ],
      "metadata": {
        "colab": {
          "base_uri": "https://localhost:8080/"
        },
        "id": "2swftJ9S0nFx",
        "outputId": "b03fc8f3-d01b-4fb1-9070-270e05ad4b78"
      },
      "execution_count": 18,
      "outputs": [
        {
          "output_type": "execute_result",
          "data": {
            "text/plain": [
              "9"
            ]
          },
          "metadata": {},
          "execution_count": 18
        }
      ]
    },
    {
      "cell_type": "code",
      "source": [
        "df.isnull().any()"
      ],
      "metadata": {
        "colab": {
          "base_uri": "https://localhost:8080/"
        },
        "id": "GFHpqBU41Xvg",
        "outputId": "ffacfdef-7bf0-4387-b67e-e4d2d239db56"
      },
      "execution_count": 19,
      "outputs": [
        {
          "output_type": "execute_result",
          "data": {
            "text/plain": [
              "names          False\n",
              "links          False\n",
              "lat            False\n",
              "lon            False\n",
              "hotel_note     False\n",
              "description    False\n",
              "dtype: bool"
            ]
          },
          "metadata": {},
          "execution_count": 19
        }
      ]
    },
    {
      "cell_type": "code",
      "source": [
        "df['lat'][1][0:5]"
      ],
      "metadata": {
        "colab": {
          "base_uri": "https://localhost:8080/",
          "height": 36
        },
        "id": "6f4Yt38M-Hlw",
        "outputId": "fb547e3c-4bfc-412e-b9aa-1f2744c84474"
      },
      "execution_count": 21,
      "outputs": [
        {
          "output_type": "execute_result",
          "data": {
            "text/plain": [
              "'48.61'"
            ],
            "application/vnd.google.colaboratory.intrinsic+json": {
              "type": "string"
            }
          },
          "metadata": {},
          "execution_count": 21
        }
      ]
    },
    {
      "cell_type": "code",
      "source": [
        "df['description']=df['description'].apply(lambda x : x.replace('\\n','') ) #les \\n au debut deleted\n",
        "df['lat']=df['lat'].apply(lambda x : df['lat'][1][0:5])  # just 2 number after .\n",
        "df['lon']=df['lon'].apply(lambda x : df['lon'][1][0:5] )"
      ],
      "metadata": {
        "id": "6p83WiLQyHCI"
      },
      "execution_count": 22,
      "outputs": []
    },
    {
      "cell_type": "code",
      "source": [
        "df['lat']=pd.to_numeric(df['lat'])\n",
        "df['lon']=pd.to_numeric(df['lon'])\n",
        "type(df['lat'][0])"
      ],
      "metadata": {
        "colab": {
          "base_uri": "https://localhost:8080/"
        },
        "id": "jWiKArup9GaF",
        "outputId": "a896713e-86c8-4be5-c88c-de29bfcf00e9"
      },
      "execution_count": 23,
      "outputs": [
        {
          "output_type": "execute_result",
          "data": {
            "text/plain": [
              "numpy.float64"
            ]
          },
          "metadata": {},
          "execution_count": 23
        }
      ]
    },
    {
      "cell_type": "code",
      "source": [
        "df['hotel_note']=df['hotel_note'].apply(lambda x : x.replace(\",\",'.') )"
      ],
      "metadata": {
        "id": "7uQMWeF6Almz"
      },
      "execution_count": 25,
      "outputs": []
    },
    {
      "cell_type": "code",
      "source": [
        "df['hotel_note']=pd.to_numeric(df['hotel_note'])"
      ],
      "metadata": {
        "id": "fnTfThES_zy6"
      },
      "execution_count": 26,
      "outputs": []
    },
    {
      "cell_type": "code",
      "source": [
        "df.head()"
      ],
      "metadata": {
        "colab": {
          "base_uri": "https://localhost:8080/",
          "height": 206
        },
        "id": "8W41W9s6zAN6",
        "outputId": "5d0c0b09-8b58-4480-8a2e-3a34cf6f85c5"
      },
      "execution_count": 27,
      "outputs": [
        {
          "output_type": "execute_result",
          "data": {
            "text/plain": [
              "                    names                                              links  \\\n",
              "0       Hotel De La Digue  https://www.booking.com/hotel/fr/de-la-digue.f...   \n",
              "1  Hôtel la Croix Blanche  https://www.booking.com/hotel/fr/ha-el-la-croi...   \n",
              "2              Hôtel Vert      https://www.booking.com/hotel/fr/vert.fr.html   \n",
              "3  Le Relais Saint Michel  https://www.booking.com/hotel/fr/le-relais-sai...   \n",
              "4        Le Relais Du Roy  https://www.booking.com/hotel/fr/le-relais-du-...   \n",
              "\n",
              "     lat   lon  hotel_note                                        description  \n",
              "0  48.61 -1.53         7.1   L'hôtel De La Digue est un établissement trad...  \n",
              "1  48.61 -1.53         7.7   Situé au cœur du village médiéval du Mont-Sai...  \n",
              "2  48.61 -1.53         8.0  Vous pouvez bénéficier d'une réduction Genius ...  \n",
              "3  48.61 -1.53         7.9  Vous pouvez bénéficier d'une réduction Genius ...  \n",
              "4  48.61 -1.53         8.0  Vous pouvez bénéficier d'une réduction Genius ...  "
            ],
            "text/html": [
              "\n",
              "  <div id=\"df-15248e0a-2005-443a-acb4-b302e6d64cfa\">\n",
              "    <div class=\"colab-df-container\">\n",
              "      <div>\n",
              "<style scoped>\n",
              "    .dataframe tbody tr th:only-of-type {\n",
              "        vertical-align: middle;\n",
              "    }\n",
              "\n",
              "    .dataframe tbody tr th {\n",
              "        vertical-align: top;\n",
              "    }\n",
              "\n",
              "    .dataframe thead th {\n",
              "        text-align: right;\n",
              "    }\n",
              "</style>\n",
              "<table border=\"1\" class=\"dataframe\">\n",
              "  <thead>\n",
              "    <tr style=\"text-align: right;\">\n",
              "      <th></th>\n",
              "      <th>names</th>\n",
              "      <th>links</th>\n",
              "      <th>lat</th>\n",
              "      <th>lon</th>\n",
              "      <th>hotel_note</th>\n",
              "      <th>description</th>\n",
              "    </tr>\n",
              "  </thead>\n",
              "  <tbody>\n",
              "    <tr>\n",
              "      <th>0</th>\n",
              "      <td>Hotel De La Digue</td>\n",
              "      <td>https://www.booking.com/hotel/fr/de-la-digue.f...</td>\n",
              "      <td>48.61</td>\n",
              "      <td>-1.53</td>\n",
              "      <td>7.1</td>\n",
              "      <td>L'hôtel De La Digue est un établissement trad...</td>\n",
              "    </tr>\n",
              "    <tr>\n",
              "      <th>1</th>\n",
              "      <td>Hôtel la Croix Blanche</td>\n",
              "      <td>https://www.booking.com/hotel/fr/ha-el-la-croi...</td>\n",
              "      <td>48.61</td>\n",
              "      <td>-1.53</td>\n",
              "      <td>7.7</td>\n",
              "      <td>Situé au cœur du village médiéval du Mont-Sai...</td>\n",
              "    </tr>\n",
              "    <tr>\n",
              "      <th>2</th>\n",
              "      <td>Hôtel Vert</td>\n",
              "      <td>https://www.booking.com/hotel/fr/vert.fr.html</td>\n",
              "      <td>48.61</td>\n",
              "      <td>-1.53</td>\n",
              "      <td>8.0</td>\n",
              "      <td>Vous pouvez bénéficier d'une réduction Genius ...</td>\n",
              "    </tr>\n",
              "    <tr>\n",
              "      <th>3</th>\n",
              "      <td>Le Relais Saint Michel</td>\n",
              "      <td>https://www.booking.com/hotel/fr/le-relais-sai...</td>\n",
              "      <td>48.61</td>\n",
              "      <td>-1.53</td>\n",
              "      <td>7.9</td>\n",
              "      <td>Vous pouvez bénéficier d'une réduction Genius ...</td>\n",
              "    </tr>\n",
              "    <tr>\n",
              "      <th>4</th>\n",
              "      <td>Le Relais Du Roy</td>\n",
              "      <td>https://www.booking.com/hotel/fr/le-relais-du-...</td>\n",
              "      <td>48.61</td>\n",
              "      <td>-1.53</td>\n",
              "      <td>8.0</td>\n",
              "      <td>Vous pouvez bénéficier d'une réduction Genius ...</td>\n",
              "    </tr>\n",
              "  </tbody>\n",
              "</table>\n",
              "</div>\n",
              "      <button class=\"colab-df-convert\" onclick=\"convertToInteractive('df-15248e0a-2005-443a-acb4-b302e6d64cfa')\"\n",
              "              title=\"Convert this dataframe to an interactive table.\"\n",
              "              style=\"display:none;\">\n",
              "        \n",
              "  <svg xmlns=\"http://www.w3.org/2000/svg\" height=\"24px\"viewBox=\"0 0 24 24\"\n",
              "       width=\"24px\">\n",
              "    <path d=\"M0 0h24v24H0V0z\" fill=\"none\"/>\n",
              "    <path d=\"M18.56 5.44l.94 2.06.94-2.06 2.06-.94-2.06-.94-.94-2.06-.94 2.06-2.06.94zm-11 1L8.5 8.5l.94-2.06 2.06-.94-2.06-.94L8.5 2.5l-.94 2.06-2.06.94zm10 10l.94 2.06.94-2.06 2.06-.94-2.06-.94-.94-2.06-.94 2.06-2.06.94z\"/><path d=\"M17.41 7.96l-1.37-1.37c-.4-.4-.92-.59-1.43-.59-.52 0-1.04.2-1.43.59L10.3 9.45l-7.72 7.72c-.78.78-.78 2.05 0 2.83L4 21.41c.39.39.9.59 1.41.59.51 0 1.02-.2 1.41-.59l7.78-7.78 2.81-2.81c.8-.78.8-2.07 0-2.86zM5.41 20L4 18.59l7.72-7.72 1.47 1.35L5.41 20z\"/>\n",
              "  </svg>\n",
              "      </button>\n",
              "      \n",
              "  <style>\n",
              "    .colab-df-container {\n",
              "      display:flex;\n",
              "      flex-wrap:wrap;\n",
              "      gap: 12px;\n",
              "    }\n",
              "\n",
              "    .colab-df-convert {\n",
              "      background-color: #E8F0FE;\n",
              "      border: none;\n",
              "      border-radius: 50%;\n",
              "      cursor: pointer;\n",
              "      display: none;\n",
              "      fill: #1967D2;\n",
              "      height: 32px;\n",
              "      padding: 0 0 0 0;\n",
              "      width: 32px;\n",
              "    }\n",
              "\n",
              "    .colab-df-convert:hover {\n",
              "      background-color: #E2EBFA;\n",
              "      box-shadow: 0px 1px 2px rgba(60, 64, 67, 0.3), 0px 1px 3px 1px rgba(60, 64, 67, 0.15);\n",
              "      fill: #174EA6;\n",
              "    }\n",
              "\n",
              "    [theme=dark] .colab-df-convert {\n",
              "      background-color: #3B4455;\n",
              "      fill: #D2E3FC;\n",
              "    }\n",
              "\n",
              "    [theme=dark] .colab-df-convert:hover {\n",
              "      background-color: #434B5C;\n",
              "      box-shadow: 0px 1px 3px 1px rgba(0, 0, 0, 0.15);\n",
              "      filter: drop-shadow(0px 1px 2px rgba(0, 0, 0, 0.3));\n",
              "      fill: #FFFFFF;\n",
              "    }\n",
              "  </style>\n",
              "\n",
              "      <script>\n",
              "        const buttonEl =\n",
              "          document.querySelector('#df-15248e0a-2005-443a-acb4-b302e6d64cfa button.colab-df-convert');\n",
              "        buttonEl.style.display =\n",
              "          google.colab.kernel.accessAllowed ? 'block' : 'none';\n",
              "\n",
              "        async function convertToInteractive(key) {\n",
              "          const element = document.querySelector('#df-15248e0a-2005-443a-acb4-b302e6d64cfa');\n",
              "          const dataTable =\n",
              "            await google.colab.kernel.invokeFunction('convertToInteractive',\n",
              "                                                     [key], {});\n",
              "          if (!dataTable) return;\n",
              "\n",
              "          const docLinkHtml = 'Like what you see? Visit the ' +\n",
              "            '<a target=\"_blank\" href=https://colab.research.google.com/notebooks/data_table.ipynb>data table notebook</a>'\n",
              "            + ' to learn more about interactive tables.';\n",
              "          element.innerHTML = '';\n",
              "          dataTable['output_type'] = 'display_data';\n",
              "          await google.colab.output.renderOutput(dataTable, element);\n",
              "          const docLink = document.createElement('div');\n",
              "          docLink.innerHTML = docLinkHtml;\n",
              "          element.appendChild(docLink);\n",
              "        }\n",
              "      </script>\n",
              "    </div>\n",
              "  </div>\n",
              "  "
            ]
          },
          "metadata": {},
          "execution_count": 27
        }
      ]
    },
    {
      "cell_type": "code",
      "source": [
        "df.to_csv('bookin1exemple.csv', index=False, encoding='utf-8')"
      ],
      "metadata": {
        "id": "26UdscfVxo-Q"
      },
      "execution_count": 28,
      "outputs": []
    },
    {
      "cell_type": "code",
      "source": [
        "fig = px.scatter_mapbox(df, lat=\"lat\",\n",
        "                        lon=\"lon\",\n",
        "                        color=\"hotel_note\",\n",
        "                        zoom=10,\n",
        "                        mapbox_style=\"carto-positron\")\n",
        "fig.show()"
      ],
      "metadata": {
        "colab": {
          "base_uri": "https://localhost:8080/",
          "height": 542
        },
        "id": "H6Q1x4ri64jv",
        "outputId": "9360489a-8dd0-4d5e-e4f9-c1625b863d1c"
      },
      "execution_count": 29,
      "outputs": [
        {
          "output_type": "display_data",
          "data": {
            "text/html": [
              "<html>\n",
              "<head><meta charset=\"utf-8\" /></head>\n",
              "<body>\n",
              "    <div>            <script src=\"https://cdnjs.cloudflare.com/ajax/libs/mathjax/2.7.5/MathJax.js?config=TeX-AMS-MML_SVG\"></script><script type=\"text/javascript\">if (window.MathJax && window.MathJax.Hub && window.MathJax.Hub.Config) {window.MathJax.Hub.Config({SVG: {font: \"STIX-Web\"}});}</script>                <script type=\"text/javascript\">window.PlotlyConfig = {MathJaxConfig: 'local'};</script>\n",
              "        <script src=\"https://cdn.plot.ly/plotly-2.18.2.min.js\"></script>                <div id=\"20774df2-5309-4183-8051-b3c1f1273c19\" class=\"plotly-graph-div\" style=\"height:525px; width:100%;\"></div>            <script type=\"text/javascript\">                                    window.PLOTLYENV=window.PLOTLYENV || {};                                    if (document.getElementById(\"20774df2-5309-4183-8051-b3c1f1273c19\")) {                    Plotly.newPlot(                        \"20774df2-5309-4183-8051-b3c1f1273c19\",                        [{\"hovertemplate\":\"lat=%{lat}<br>lon=%{lon}<br>hotel_note=%{marker.color}<extra></extra>\",\"lat\":[48.61,48.61,48.61,48.61,48.61,48.61,48.61,48.61,48.61],\"legendgroup\":\"\",\"lon\":[-1.53,-1.53,-1.53,-1.53,-1.53,-1.53,-1.53,-1.53,-1.53],\"marker\":{\"color\":[7.1,7.7,8.0,7.9,8.0,7.3,7.9,7.2,7.1],\"coloraxis\":\"coloraxis\"},\"mode\":\"markers\",\"name\":\"\",\"showlegend\":false,\"subplot\":\"mapbox\",\"type\":\"scattermapbox\"}],                        {\"template\":{\"data\":{\"histogram2dcontour\":[{\"type\":\"histogram2dcontour\",\"colorbar\":{\"outlinewidth\":0,\"ticks\":\"\"},\"colorscale\":[[0.0,\"#0d0887\"],[0.1111111111111111,\"#46039f\"],[0.2222222222222222,\"#7201a8\"],[0.3333333333333333,\"#9c179e\"],[0.4444444444444444,\"#bd3786\"],[0.5555555555555556,\"#d8576b\"],[0.6666666666666666,\"#ed7953\"],[0.7777777777777778,\"#fb9f3a\"],[0.8888888888888888,\"#fdca26\"],[1.0,\"#f0f921\"]]}],\"choropleth\":[{\"type\":\"choropleth\",\"colorbar\":{\"outlinewidth\":0,\"ticks\":\"\"}}],\"histogram2d\":[{\"type\":\"histogram2d\",\"colorbar\":{\"outlinewidth\":0,\"ticks\":\"\"},\"colorscale\":[[0.0,\"#0d0887\"],[0.1111111111111111,\"#46039f\"],[0.2222222222222222,\"#7201a8\"],[0.3333333333333333,\"#9c179e\"],[0.4444444444444444,\"#bd3786\"],[0.5555555555555556,\"#d8576b\"],[0.6666666666666666,\"#ed7953\"],[0.7777777777777778,\"#fb9f3a\"],[0.8888888888888888,\"#fdca26\"],[1.0,\"#f0f921\"]]}],\"heatmap\":[{\"type\":\"heatmap\",\"colorbar\":{\"outlinewidth\":0,\"ticks\":\"\"},\"colorscale\":[[0.0,\"#0d0887\"],[0.1111111111111111,\"#46039f\"],[0.2222222222222222,\"#7201a8\"],[0.3333333333333333,\"#9c179e\"],[0.4444444444444444,\"#bd3786\"],[0.5555555555555556,\"#d8576b\"],[0.6666666666666666,\"#ed7953\"],[0.7777777777777778,\"#fb9f3a\"],[0.8888888888888888,\"#fdca26\"],[1.0,\"#f0f921\"]]}],\"heatmapgl\":[{\"type\":\"heatmapgl\",\"colorbar\":{\"outlinewidth\":0,\"ticks\":\"\"},\"colorscale\":[[0.0,\"#0d0887\"],[0.1111111111111111,\"#46039f\"],[0.2222222222222222,\"#7201a8\"],[0.3333333333333333,\"#9c179e\"],[0.4444444444444444,\"#bd3786\"],[0.5555555555555556,\"#d8576b\"],[0.6666666666666666,\"#ed7953\"],[0.7777777777777778,\"#fb9f3a\"],[0.8888888888888888,\"#fdca26\"],[1.0,\"#f0f921\"]]}],\"contourcarpet\":[{\"type\":\"contourcarpet\",\"colorbar\":{\"outlinewidth\":0,\"ticks\":\"\"}}],\"contour\":[{\"type\":\"contour\",\"colorbar\":{\"outlinewidth\":0,\"ticks\":\"\"},\"colorscale\":[[0.0,\"#0d0887\"],[0.1111111111111111,\"#46039f\"],[0.2222222222222222,\"#7201a8\"],[0.3333333333333333,\"#9c179e\"],[0.4444444444444444,\"#bd3786\"],[0.5555555555555556,\"#d8576b\"],[0.6666666666666666,\"#ed7953\"],[0.7777777777777778,\"#fb9f3a\"],[0.8888888888888888,\"#fdca26\"],[1.0,\"#f0f921\"]]}],\"surface\":[{\"type\":\"surface\",\"colorbar\":{\"outlinewidth\":0,\"ticks\":\"\"},\"colorscale\":[[0.0,\"#0d0887\"],[0.1111111111111111,\"#46039f\"],[0.2222222222222222,\"#7201a8\"],[0.3333333333333333,\"#9c179e\"],[0.4444444444444444,\"#bd3786\"],[0.5555555555555556,\"#d8576b\"],[0.6666666666666666,\"#ed7953\"],[0.7777777777777778,\"#fb9f3a\"],[0.8888888888888888,\"#fdca26\"],[1.0,\"#f0f921\"]]}],\"mesh3d\":[{\"type\":\"mesh3d\",\"colorbar\":{\"outlinewidth\":0,\"ticks\":\"\"}}],\"scatter\":[{\"fillpattern\":{\"fillmode\":\"overlay\",\"size\":10,\"solidity\":0.2},\"type\":\"scatter\"}],\"parcoords\":[{\"type\":\"parcoords\",\"line\":{\"colorbar\":{\"outlinewidth\":0,\"ticks\":\"\"}}}],\"scatterpolargl\":[{\"type\":\"scatterpolargl\",\"marker\":{\"colorbar\":{\"outlinewidth\":0,\"ticks\":\"\"}}}],\"bar\":[{\"error_x\":{\"color\":\"#2a3f5f\"},\"error_y\":{\"color\":\"#2a3f5f\"},\"marker\":{\"line\":{\"color\":\"#E5ECF6\",\"width\":0.5},\"pattern\":{\"fillmode\":\"overlay\",\"size\":10,\"solidity\":0.2}},\"type\":\"bar\"}],\"scattergeo\":[{\"type\":\"scattergeo\",\"marker\":{\"colorbar\":{\"outlinewidth\":0,\"ticks\":\"\"}}}],\"scatterpolar\":[{\"type\":\"scatterpolar\",\"marker\":{\"colorbar\":{\"outlinewidth\":0,\"ticks\":\"\"}}}],\"histogram\":[{\"marker\":{\"pattern\":{\"fillmode\":\"overlay\",\"size\":10,\"solidity\":0.2}},\"type\":\"histogram\"}],\"scattergl\":[{\"type\":\"scattergl\",\"marker\":{\"colorbar\":{\"outlinewidth\":0,\"ticks\":\"\"}}}],\"scatter3d\":[{\"type\":\"scatter3d\",\"line\":{\"colorbar\":{\"outlinewidth\":0,\"ticks\":\"\"}},\"marker\":{\"colorbar\":{\"outlinewidth\":0,\"ticks\":\"\"}}}],\"scattermapbox\":[{\"type\":\"scattermapbox\",\"marker\":{\"colorbar\":{\"outlinewidth\":0,\"ticks\":\"\"}}}],\"scatterternary\":[{\"type\":\"scatterternary\",\"marker\":{\"colorbar\":{\"outlinewidth\":0,\"ticks\":\"\"}}}],\"scattercarpet\":[{\"type\":\"scattercarpet\",\"marker\":{\"colorbar\":{\"outlinewidth\":0,\"ticks\":\"\"}}}],\"carpet\":[{\"aaxis\":{\"endlinecolor\":\"#2a3f5f\",\"gridcolor\":\"white\",\"linecolor\":\"white\",\"minorgridcolor\":\"white\",\"startlinecolor\":\"#2a3f5f\"},\"baxis\":{\"endlinecolor\":\"#2a3f5f\",\"gridcolor\":\"white\",\"linecolor\":\"white\",\"minorgridcolor\":\"white\",\"startlinecolor\":\"#2a3f5f\"},\"type\":\"carpet\"}],\"table\":[{\"cells\":{\"fill\":{\"color\":\"#EBF0F8\"},\"line\":{\"color\":\"white\"}},\"header\":{\"fill\":{\"color\":\"#C8D4E3\"},\"line\":{\"color\":\"white\"}},\"type\":\"table\"}],\"barpolar\":[{\"marker\":{\"line\":{\"color\":\"#E5ECF6\",\"width\":0.5},\"pattern\":{\"fillmode\":\"overlay\",\"size\":10,\"solidity\":0.2}},\"type\":\"barpolar\"}],\"pie\":[{\"automargin\":true,\"type\":\"pie\"}]},\"layout\":{\"autotypenumbers\":\"strict\",\"colorway\":[\"#636efa\",\"#EF553B\",\"#00cc96\",\"#ab63fa\",\"#FFA15A\",\"#19d3f3\",\"#FF6692\",\"#B6E880\",\"#FF97FF\",\"#FECB52\"],\"font\":{\"color\":\"#2a3f5f\"},\"hovermode\":\"closest\",\"hoverlabel\":{\"align\":\"left\"},\"paper_bgcolor\":\"white\",\"plot_bgcolor\":\"#E5ECF6\",\"polar\":{\"bgcolor\":\"#E5ECF6\",\"angularaxis\":{\"gridcolor\":\"white\",\"linecolor\":\"white\",\"ticks\":\"\"},\"radialaxis\":{\"gridcolor\":\"white\",\"linecolor\":\"white\",\"ticks\":\"\"}},\"ternary\":{\"bgcolor\":\"#E5ECF6\",\"aaxis\":{\"gridcolor\":\"white\",\"linecolor\":\"white\",\"ticks\":\"\"},\"baxis\":{\"gridcolor\":\"white\",\"linecolor\":\"white\",\"ticks\":\"\"},\"caxis\":{\"gridcolor\":\"white\",\"linecolor\":\"white\",\"ticks\":\"\"}},\"coloraxis\":{\"colorbar\":{\"outlinewidth\":0,\"ticks\":\"\"}},\"colorscale\":{\"sequential\":[[0.0,\"#0d0887\"],[0.1111111111111111,\"#46039f\"],[0.2222222222222222,\"#7201a8\"],[0.3333333333333333,\"#9c179e\"],[0.4444444444444444,\"#bd3786\"],[0.5555555555555556,\"#d8576b\"],[0.6666666666666666,\"#ed7953\"],[0.7777777777777778,\"#fb9f3a\"],[0.8888888888888888,\"#fdca26\"],[1.0,\"#f0f921\"]],\"sequentialminus\":[[0.0,\"#0d0887\"],[0.1111111111111111,\"#46039f\"],[0.2222222222222222,\"#7201a8\"],[0.3333333333333333,\"#9c179e\"],[0.4444444444444444,\"#bd3786\"],[0.5555555555555556,\"#d8576b\"],[0.6666666666666666,\"#ed7953\"],[0.7777777777777778,\"#fb9f3a\"],[0.8888888888888888,\"#fdca26\"],[1.0,\"#f0f921\"]],\"diverging\":[[0,\"#8e0152\"],[0.1,\"#c51b7d\"],[0.2,\"#de77ae\"],[0.3,\"#f1b6da\"],[0.4,\"#fde0ef\"],[0.5,\"#f7f7f7\"],[0.6,\"#e6f5d0\"],[0.7,\"#b8e186\"],[0.8,\"#7fbc41\"],[0.9,\"#4d9221\"],[1,\"#276419\"]]},\"xaxis\":{\"gridcolor\":\"white\",\"linecolor\":\"white\",\"ticks\":\"\",\"title\":{\"standoff\":15},\"zerolinecolor\":\"white\",\"automargin\":true,\"zerolinewidth\":2},\"yaxis\":{\"gridcolor\":\"white\",\"linecolor\":\"white\",\"ticks\":\"\",\"title\":{\"standoff\":15},\"zerolinecolor\":\"white\",\"automargin\":true,\"zerolinewidth\":2},\"scene\":{\"xaxis\":{\"backgroundcolor\":\"#E5ECF6\",\"gridcolor\":\"white\",\"linecolor\":\"white\",\"showbackground\":true,\"ticks\":\"\",\"zerolinecolor\":\"white\",\"gridwidth\":2},\"yaxis\":{\"backgroundcolor\":\"#E5ECF6\",\"gridcolor\":\"white\",\"linecolor\":\"white\",\"showbackground\":true,\"ticks\":\"\",\"zerolinecolor\":\"white\",\"gridwidth\":2},\"zaxis\":{\"backgroundcolor\":\"#E5ECF6\",\"gridcolor\":\"white\",\"linecolor\":\"white\",\"showbackground\":true,\"ticks\":\"\",\"zerolinecolor\":\"white\",\"gridwidth\":2}},\"shapedefaults\":{\"line\":{\"color\":\"#2a3f5f\"}},\"annotationdefaults\":{\"arrowcolor\":\"#2a3f5f\",\"arrowhead\":0,\"arrowwidth\":1},\"geo\":{\"bgcolor\":\"white\",\"landcolor\":\"#E5ECF6\",\"subunitcolor\":\"white\",\"showland\":true,\"showlakes\":true,\"lakecolor\":\"white\"},\"title\":{\"x\":0.05},\"mapbox\":{\"style\":\"light\"}}},\"mapbox\":{\"domain\":{\"x\":[0.0,1.0],\"y\":[0.0,1.0]},\"center\":{\"lat\":48.61,\"lon\":-1.53},\"zoom\":10,\"style\":\"carto-positron\"},\"coloraxis\":{\"colorbar\":{\"title\":{\"text\":\"hotel_note\"}},\"colorscale\":[[0.0,\"#0d0887\"],[0.1111111111111111,\"#46039f\"],[0.2222222222222222,\"#7201a8\"],[0.3333333333333333,\"#9c179e\"],[0.4444444444444444,\"#bd3786\"],[0.5555555555555556,\"#d8576b\"],[0.6666666666666666,\"#ed7953\"],[0.7777777777777778,\"#fb9f3a\"],[0.8888888888888888,\"#fdca26\"],[1.0,\"#f0f921\"]]},\"legend\":{\"tracegroupgap\":0},\"margin\":{\"t\":60}},                        {\"responsive\": true}                    ).then(function(){\n",
              "                            \n",
              "var gd = document.getElementById('20774df2-5309-4183-8051-b3c1f1273c19');\n",
              "var x = new MutationObserver(function (mutations, observer) {{\n",
              "        var display = window.getComputedStyle(gd).display;\n",
              "        if (!display || display === 'none') {{\n",
              "            console.log([gd, 'removed!']);\n",
              "            Plotly.purge(gd);\n",
              "            observer.disconnect();\n",
              "        }}\n",
              "}});\n",
              "\n",
              "// Listen for the removal of the full notebook cells\n",
              "var notebookContainer = gd.closest('#notebook-container');\n",
              "if (notebookContainer) {{\n",
              "    x.observe(notebookContainer, {childList: true});\n",
              "}}\n",
              "\n",
              "// Listen for the clearing of the current output cell\n",
              "var outputEl = gd.closest('.output');\n",
              "if (outputEl) {{\n",
              "    x.observe(outputEl, {childList: true});\n",
              "}}\n",
              "\n",
              "                        })                };                            </script>        </div>\n",
              "</body>\n",
              "</html>"
            ]
          },
          "metadata": {}
        }
      ]
    },
    {
      "cell_type": "code",
      "source": [
        "dic={\n",
        "\"Paris\":'https://www.booking.com/searchresults.fr.html?ss=Paris&ssne=Paris&ssne_untouched=Paris&label=gen173nr-1BCAEoggI46AdIM1gEaOIBiAEBmAENuAEGyAEM2AEB6AEBiAIBqAIDuAKIxpijBsACAdICJDAwNmExMDRkLTZkMmEtNDA5Yy1iNzNlLWM0N2RhMjQxZTViOdgCBeACAQ&sid=25116a3e813b55f0478b91d5b7063890&aid=304142&lang=fr&sb=1&src_elem=sb&src=index&dest_id=-1456928&dest_type=city&group_adults=2&no_rooms=1&group_children=0&sb_travel_purpose=leisure',\n",
        "\"Mont Saint Michel\":'https://www.booking.com/searchresults.fr.html?ss=Le+Mont-Saint-Michel&ssne=Le+Mont-Saint-Michel&ssne_untouched=Le+Mont-Saint-Michel&efdco=1&label=gen173nr-1BCAEoggI46AdIM1gEaOIBiAEBmAENuAEGyAEM2AEB6AEBiAIBqAIDuAKo8qOjBsACAdICJGRmY2FkMjhkLTY1MWUtNGE2Ny1hMTg5LTQzNDhlNjc1YmEyZNgCBeACAQ&sid=25116a3e813b55f0478b91d5b7063890&aid=304142&lang=fr&sb=1&src_elem=sb&src=searchresults&dest_id=900039327&dest_type=city&group_adults=2&no_rooms=1&group_children=0',\n",
        "\"St Malo\":'https://www.booking.com/searchresults.fr.html?ss=St+Malo&ssne=Saint-Malo&ssne_untouched=Saint-Malo&label=gen173nr-1BCAEoggI46AdIM1gEaOIBiAEBmAENuAEGyAEM2AEB6AEBiAIBqAIDuAKT86OjBsACAdICJDBlZjAxY2Y4LTc4OWQtNDFjZC1hNWQ4LTVhMWM1MTliM2NjM9gCBeACAQ&sid=25116a3e813b55f0478b91d5b7063890&aid=304142&lang=fr&sb=1&src_elem=sb&src=index&dest_id=-1466824&dest_type=city&ac_position=0&ac_click_type=b&ac_langcode=fr&ac_suggestion_list_length=5&search_selected=true&search_pageview_id=22f37609fbe50123&ac_meta=GhAyMmYzNzYwOWZiZTUwMTIzIAAoATICZnI6B1N0IE1hbG9AAEoAUAA%3D&group_adults=2&no_rooms=1&group_children=0&sb_travel_purpose=leisure',\n",
        "\"Bayeux\":'https://www.booking.com/searchresults.fr.html?ss=Bayeux&ssne=Bayeux&ssne_untouched=Bayeux&label=gen173nr-1BCAEoggI46AdIM1gEaOIBiAEBmAENuAEGyAEM2AEB6AEBiAIBqAIDuALw86OjBsACAdICJDFjMGE2N2Q3LTRhOTYtNGFjNC1iNjBlLWY3Mzg5NzEzMDVkZdgCBeACAQ&sid=25116a3e813b55f0478b91d5b7063890&aid=304142&lang=fr&sb=1&src_elem=sb&src=searchresults&dest_id=-1410836&dest_type=city&group_adults=2&no_rooms=1&group_children=0',\n",
        "\"Le Havre\":'https://www.booking.com/searchresults.fr.html?ss=Le+Havre&ssne=Le+Havre&ssne_untouched=Le+Havre&label=gen173nr-1BCAEoggI46AdIM1gEaOIBiAEBmAENuAEGyAEM2AEB6AEBiAIBqAIDuALw86OjBsACAdICJDFjMGE2N2Q3LTRhOTYtNGFjNC1iNjBlLWY3Mzg5NzEzMDVkZdgCBeACAQ&sid=25116a3e813b55f0478b91d5b7063890&aid=304142&lang=fr&sb=1&src_elem=sb&src=searchresults&dest_id=-1441598&dest_type=city&group_adults=2&no_rooms=1&group_children=0',\n",
        "}\n",
        "\n",
        "# \"Amiens\",\n",
        "# \"Lille\",\n",
        "# \"Strasbourg\",\n",
        "# \"Chateau du Haut Koenigsbourg\",\n",
        "# \"Colmar\",\n",
        "# \"Eguisheim\",\n",
        "# \"Besancon\",\n",
        "# \"Dijon\",\n",
        "# \"Annecy\",\n",
        "# \"Grenoble\",\n",
        "# \"Lyon\",\n",
        "# \"Gorges du Verdon\",\n",
        "# \"Bormes les Mimosas\",\n",
        "# \"Cassis\",\n",
        "# \"Marseille\",\n",
        "# \"Aix en Provence\",\n",
        "# \"Avignon\",\n",
        "# \"Uzes\",\n",
        "# \"Nimes\",\n",
        "# \"Aigues Mortes\",\n",
        "# \"Saintes Maries de la mer\",\n",
        "# \"Collioure\",\n",
        "# \"Carcassonne\",\n",
        "# \"Ariege\",\n",
        "# \"Toulouse\",\n",
        "# \"Montauban\",\n",
        "# \"Biarritz\",\n",
        "# \"Bayonne\",\n",
        "# \"La Rochelle\"}"
      ],
      "metadata": {
        "id": "KreH5bGSHa3J"
      },
      "execution_count": null,
      "outputs": []
    },
    {
      "cell_type": "code",
      "source": [
        "urls=['https://www.booking.com/searchresults.fr.html?ss=Paris&ssne=Paris&ssne_untouched=Paris&label=gen173nr-1BCAEoggI46AdIM1gEaOIBiAEBmAENuAEGyAEM2AEB6AEBiAIBqAIDuAKIxpijBsACAdICJDAwNmExMDRkLTZkMmEtNDA5Yy1iNzNlLWM0N2RhMjQxZTViOdgCBeACAQ&sid=25116a3e813b55f0478b91d5b7063890&aid=304142&lang=fr&sb=1&src_elem=sb&src=index&dest_id=-1456928&dest_type=city&group_adults=2&no_rooms=1&group_children=0&sb_travel_purpose=leisure','https://www.booking.com/searchresults.fr.html?ss=Le+Havre&ssne=Le+Havre&ssne_untouched=Le+Havre&label=gen173nr-1BCAEoggI46AdIM1gEaOIBiAEBmAENuAEGyAEM2AEB6AEBiAIBqAIDuALw86OjBsACAdICJDFjMGE2N2Q3LTRhOTYtNGFjNC1iNjBlLWY3Mzg5NzEzMDVkZdgCBeACAQ&sid=25116a3e813b55f0478b91d5b7063890&aid=304142&lang=fr&sb=1&src_elem=sb&src=searchresults&dest_id=-1441598&dest_type=city&group_adults=2&no_rooms=1&group_children=0',\n",
        "      'https://www.booking.com/searchresults.fr.html?ss=Bayeux&ssne=Bayeux&ssne_untouched=Bayeux&label=gen173nr-1BCAEoggI46AdIM1gEaOIBiAEBmAENuAEGyAEM2AEB6AEBiAIBqAIDuALw86OjBsACAdICJDFjMGE2N2Q3LTRhOTYtNGFjNC1iNjBlLWY3Mzg5NzEzMDVkZdgCBeACAQ&sid=25116a3e813b55f0478b91d5b7063890&aid=304142&lang=fr&sb=1&src_elem=sb&src=searchresults&dest_id=-1410836&dest_type=city&group_adults=2&no_rooms=1&group_children=0',\n",
        "      'https://www.booking.com/searchresults.fr.html?ss=St+Malo&ssne=Saint-Malo&ssne_untouched=Saint-Malo&label=gen173nr-1BCAEoggI46AdIM1gEaOIBiAEBmAENuAEGyAEM2AEB6AEBiAIBqAIDuAKT86OjBsACAdICJDBlZjAxY2Y4LTc4OWQtNDFjZC1hNWQ4LTVhMWM1MTliM2NjM9gCBeACAQ&sid=25116a3e813b55f0478b91d5b7063890&aid=304142&lang=fr&sb=1&src_elem=sb&src=index&dest_id=-1466824&dest_type=city&ac_position=0&ac_click_type=b&ac_langcode=fr&ac_suggestion_list_length=5&search_selected=true&search_pageview_id=22f37609fbe50123&ac_meta=GhAyMmYzNzYwOWZiZTUwMTIzIAAoATICZnI6B1N0IE1hbG9AAEoAUAA%3D&group_adults=2&no_rooms=1&group_children=0&sb_travel_purpose=leisure',\n",
        "      'https://www.booking.com/searchresults.fr.html?ss=Le+Mont-Saint-Michel&ssne=Le+Mont-Saint-Michel&ssne_untouched=Le+Mont-Saint-Michel&efdco=1&label=gen173nr-1BCAEoggI46AdIM1gEaOIBiAEBmAENuAEGyAEM2AEB6AEBiAIBqAIDuAKo8qOjBsACAdICJGRmY2FkMjhkLTY1MWUtNGE2Ny1hMTg5LTQzNDhlNjc1YmEyZNgCBeACAQ&sid=25116a3e813b55f0478b91d5b7063890&aid=304142&lang=fr&sb=1&src_elem=sb&src=searchresults&dest_id=900039327&dest_type=city&group_adults=2&no_rooms=1&group_children=0',]"
      ],
      "metadata": {
        "id": "WDKxO5DNSEq5"
      },
      "execution_count": 38,
      "outputs": []
    },
    {
      "cell_type": "code",
      "source": [
        "df2 = pd.DataFrame()\n",
        "\n",
        "for url in urls:\n",
        "    r2 = requests.get(url)\n",
        "    r2.text[0:200]\n",
        "    soup2 = BeautifulSoup(r2.text, \"html.parser\")\n",
        "    links = []\n",
        "    names = []\n",
        "    n = len(soup2.find_all('a', attrs={'class': \"bui-card__header_full_link_wrap\"}))\n",
        "\n",
        "    for i in range(n):\n",
        "        try:\n",
        "            c = soup2.find_all('a', attrs={'class': \"bui-card__header_full_link_wrap\"})[i]\n",
        "            names.append(c.text.split('\\n')[2])\n",
        "            links.append('https://www.booking.com' + str(c).split('href=')[1].split('title=')[0].split('\"')[1])\n",
        "        except IndexError:\n",
        "            raise IndexError(\"Index out of range error occurred. Please check the HTML structure or update the code.\")\n",
        "\n",
        "    df = pd.DataFrame()\n",
        "    df['names'] = names\n",
        "    df['links'] = links\n",
        "    df['lat'] = np.nan\n",
        "    df['lon'] = np.nan\n",
        "    df['hotel_note'] = np.nan\n",
        "    df['description'] = np.nan\n",
        "\n",
        "    description = []\n",
        "    hotel_note = []\n",
        "    lat = []\n",
        "    lon = []\n",
        "    p, _ = df.shape\n",
        "\n",
        "    for i in range(p):\n",
        "        r = requests.get(df['links'][i])\n",
        "\n",
        "        display(df['links'][i])\n",
        "        print('--------------------------------------------------------------------------------------------------------------------------------')\n",
        "\n",
        "        soup2 = BeautifulSoup(r.text, 'html.parser')\n",
        "        hi = soup2.find('div', {'id': 'property_description_content'}).text\n",
        "        description.append(hi)\n",
        "        notebyuser = soup2.find('div', {'class': \"b5cd09854e d10a6220b4\"}).text\n",
        "        hotel_note.append(notebyuser[0:3])\n",
        "        t1 = str(soup2.find('a', {'id': \"hotel_header\"})).split('bbox=\"')[1].split(',')[0]\n",
        "        t2 = str(soup2.find('a', {'id': \"hotel_header\"})).split('bbox=\"')[1].split(',')[1]\n",
        "        lat.append(t1)\n",
        "        lon.append(t2)\n",
        "        # print(lat[i]) #at the end we will have almost the  same lat nd lon bcs we did arround\n",
        "        if df['names'][i] == '':\n",
        "            df['names'][i] = soup2.find('h2', {'class': \"d2fee87262 pp-header__title\"}).text\n",
        "        else:\n",
        "            df['names'][i]\n",
        "\n",
        "    df['lat'] = lat\n",
        "    df['description'] = description\n",
        "    df['lon'] = lon\n",
        "    df['hotel_note'] = hotel_note\n",
        "    df['description'] = df['description'].apply(lambda x: x.replace('\\n', ''))  # delete \\n\n",
        "    df['lat'] = df['lat'].apply(lambda x: df['lat'][1][0:5])  #  2 decimal places\n",
        "    df['lon'] = df['lon'].apply(lambda x: df['lon'][1][0:5])\n",
        "    df['lat'] = pd.to_numeric(df['lat'])\n",
        "    df['lon'] = pd.to_numeric(df['lon'])\n",
        "    df['hotel_note'] = df['hotel_note'].apply(lambda x: x.replace(\",\", '.'))  # replace comma with dot\n",
        "    df['hotel_note'] = pd.to_numeric(df['hotel_note'])\n",
        "    print(\"Data is ready, moving on to the next one\")\n",
        "    print('===============================================================================================================================')\n",
        "    df2 = pd.concat([df2, df])\n",
        "    display(df)\n",
        "\n",
        "print(\"Final Data:\")\n",
        "display(df2)\n"
      ],
      "metadata": {
        "colab": {
          "base_uri": "https://localhost:8080/",
          "height": 1000
        },
        "id": "YwSmCE4eSA-L",
        "outputId": "de654893-877c-4f47-a34e-7043f1077e89"
      },
      "execution_count": 39,
      "outputs": [
        {
          "output_type": "display_data",
          "data": {
            "text/plain": [
              "'https://www.booking.com/hotel/fr/basile.fr.html'"
            ],
            "application/vnd.google.colaboratory.intrinsic+json": {
              "type": "string"
            }
          },
          "metadata": {}
        },
        {
          "output_type": "stream",
          "name": "stdout",
          "text": [
            "--------------------------------------------------------------------------------------------------------------------------------\n"
          ]
        },
        {
          "output_type": "display_data",
          "data": {
            "text/plain": [
              "'https://www.booking.com/hotel/fr/de-roubaix.fr.html'"
            ],
            "application/vnd.google.colaboratory.intrinsic+json": {
              "type": "string"
            }
          },
          "metadata": {}
        },
        {
          "output_type": "stream",
          "name": "stdout",
          "text": [
            "--------------------------------------------------------------------------------------------------------------------------------\n"
          ]
        },
        {
          "output_type": "display_data",
          "data": {
            "text/plain": [
              "'https://www.booking.com/hotel/fr/hotel-le-presbytere.fr.html'"
            ],
            "application/vnd.google.colaboratory.intrinsic+json": {
              "type": "string"
            }
          },
          "metadata": {}
        },
        {
          "output_type": "stream",
          "name": "stdout",
          "text": [
            "--------------------------------------------------------------------------------------------------------------------------------\n"
          ]
        },
        {
          "output_type": "display_data",
          "data": {
            "text/plain": [
              "'https://www.booking.com/hotel/fr/hotel-le-12.fr.html'"
            ],
            "application/vnd.google.colaboratory.intrinsic+json": {
              "type": "string"
            }
          },
          "metadata": {}
        },
        {
          "output_type": "stream",
          "name": "stdout",
          "text": [
            "--------------------------------------------------------------------------------------------------------------------------------\n"
          ]
        },
        {
          "output_type": "display_data",
          "data": {
            "text/plain": [
              "'https://www.booking.com/hotel/fr/malteopera.fr.html'"
            ],
            "application/vnd.google.colaboratory.intrinsic+json": {
              "type": "string"
            }
          },
          "metadata": {}
        },
        {
          "output_type": "stream",
          "name": "stdout",
          "text": [
            "--------------------------------------------------------------------------------------------------------------------------------\n"
          ]
        },
        {
          "output_type": "display_data",
          "data": {
            "text/plain": [
              "'https://www.booking.com/hotel/fr/legeneral.fr.html'"
            ],
            "application/vnd.google.colaboratory.intrinsic+json": {
              "type": "string"
            }
          },
          "metadata": {}
        },
        {
          "output_type": "stream",
          "name": "stdout",
          "text": [
            "--------------------------------------------------------------------------------------------------------------------------------\n"
          ]
        },
        {
          "output_type": "display_data",
          "data": {
            "text/plain": [
              "'https://www.booking.com/hotel/fr/relaishotelvieuxparis.fr.html'"
            ],
            "application/vnd.google.colaboratory.intrinsic+json": {
              "type": "string"
            }
          },
          "metadata": {}
        },
        {
          "output_type": "stream",
          "name": "stdout",
          "text": [
            "--------------------------------------------------------------------------------------------------------------------------------\n"
          ]
        },
        {
          "output_type": "display_data",
          "data": {
            "text/plain": [
              "'https://www.booking.com/hotel/fr/lejardindecluny.fr.html'"
            ],
            "application/vnd.google.colaboratory.intrinsic+json": {
              "type": "string"
            }
          },
          "metadata": {}
        },
        {
          "output_type": "stream",
          "name": "stdout",
          "text": [
            "--------------------------------------------------------------------------------------------------------------------------------\n"
          ]
        },
        {
          "output_type": "display_data",
          "data": {
            "text/plain": [
              "'https://www.booking.com/hotel/fr/des-vosges-paris.fr.html'"
            ],
            "application/vnd.google.colaboratory.intrinsic+json": {
              "type": "string"
            }
          },
          "metadata": {}
        },
        {
          "output_type": "stream",
          "name": "stdout",
          "text": [
            "--------------------------------------------------------------------------------------------------------------------------------\n"
          ]
        },
        {
          "output_type": "display_data",
          "data": {
            "text/plain": [
              "'https://www.booking.com/hotel/fr/ibis-budget-paris-nord-18eme.fr.html'"
            ],
            "application/vnd.google.colaboratory.intrinsic+json": {
              "type": "string"
            }
          },
          "metadata": {}
        },
        {
          "output_type": "stream",
          "name": "stdout",
          "text": [
            "--------------------------------------------------------------------------------------------------------------------------------\n"
          ]
        },
        {
          "output_type": "display_data",
          "data": {
            "text/plain": [
              "'https://www.booking.com/hotel/fr/luna-park.fr.html'"
            ],
            "application/vnd.google.colaboratory.intrinsic+json": {
              "type": "string"
            }
          },
          "metadata": {}
        },
        {
          "output_type": "stream",
          "name": "stdout",
          "text": [
            "--------------------------------------------------------------------------------------------------------------------------------\n"
          ]
        },
        {
          "output_type": "display_data",
          "data": {
            "text/plain": [
              "'https://www.booking.com/hotel/fr/de-l-39-europe-belleville.fr.html'"
            ],
            "application/vnd.google.colaboratory.intrinsic+json": {
              "type": "string"
            }
          },
          "metadata": {}
        },
        {
          "output_type": "stream",
          "name": "stdout",
          "text": [
            "--------------------------------------------------------------------------------------------------------------------------------\n"
          ]
        },
        {
          "output_type": "display_data",
          "data": {
            "text/plain": [
              "'https://www.booking.com/hotel/fr/hipotel-paris-bastille-saint-antoine.fr.html'"
            ],
            "application/vnd.google.colaboratory.intrinsic+json": {
              "type": "string"
            }
          },
          "metadata": {}
        },
        {
          "output_type": "stream",
          "name": "stdout",
          "text": [
            "--------------------------------------------------------------------------------------------------------------------------------\n"
          ]
        },
        {
          "output_type": "display_data",
          "data": {
            "text/plain": [
              "'https://www.booking.com/hotel/fr/grand-du-bel-air.fr.html'"
            ],
            "application/vnd.google.colaboratory.intrinsic+json": {
              "type": "string"
            }
          },
          "metadata": {}
        },
        {
          "output_type": "stream",
          "name": "stdout",
          "text": [
            "--------------------------------------------------------------------------------------------------------------------------------\n"
          ]
        },
        {
          "output_type": "display_data",
          "data": {
            "text/plain": [
              "'https://www.booking.com/hotel/fr/hotelf1-paris-porte-de-chatillon-paris.fr.html'"
            ],
            "application/vnd.google.colaboratory.intrinsic+json": {
              "type": "string"
            }
          },
          "metadata": {}
        },
        {
          "output_type": "stream",
          "name": "stdout",
          "text": [
            "--------------------------------------------------------------------------------------------------------------------------------\n"
          ]
        },
        {
          "output_type": "display_data",
          "data": {
            "text/plain": [
              "'https://www.booking.com/hotel/fr/de-l-39-union.fr.html'"
            ],
            "application/vnd.google.colaboratory.intrinsic+json": {
              "type": "string"
            }
          },
          "metadata": {}
        },
        {
          "output_type": "stream",
          "name": "stdout",
          "text": [
            "--------------------------------------------------------------------------------------------------------------------------------\n"
          ]
        },
        {
          "output_type": "display_data",
          "data": {
            "text/plain": [
              "'https://www.booking.com/hotel/fr/cheval-blanc-paris.fr.html'"
            ],
            "application/vnd.google.colaboratory.intrinsic+json": {
              "type": "string"
            }
          },
          "metadata": {}
        },
        {
          "output_type": "stream",
          "name": "stdout",
          "text": [
            "--------------------------------------------------------------------------------------------------------------------------------\n"
          ]
        },
        {
          "output_type": "display_data",
          "data": {
            "text/plain": [
              "'https://www.booking.com/hotel/fr/les-rives-de-notre-dame.fr.html'"
            ],
            "application/vnd.google.colaboratory.intrinsic+json": {
              "type": "string"
            }
          },
          "metadata": {}
        },
        {
          "output_type": "stream",
          "name": "stdout",
          "text": [
            "--------------------------------------------------------------------------------------------------------------------------------\n"
          ]
        },
        {
          "output_type": "display_data",
          "data": {
            "text/plain": [
              "'https://www.booking.com/hotel/fr/millesime-paris.fr.html'"
            ],
            "application/vnd.google.colaboratory.intrinsic+json": {
              "type": "string"
            }
          },
          "metadata": {}
        },
        {
          "output_type": "stream",
          "name": "stdout",
          "text": [
            "--------------------------------------------------------------------------------------------------------------------------------\n"
          ]
        },
        {
          "output_type": "display_data",
          "data": {
            "text/plain": [
              "'https://www.booking.com/hotel/fr/josephine-bonaparte.fr.html'"
            ],
            "application/vnd.google.colaboratory.intrinsic+json": {
              "type": "string"
            }
          },
          "metadata": {}
        },
        {
          "output_type": "stream",
          "name": "stdout",
          "text": [
            "--------------------------------------------------------------------------------------------------------------------------------\n"
          ]
        },
        {
          "output_type": "display_data",
          "data": {
            "text/plain": [
              "'https://www.booking.com/hotel/fr/saint-louis-en-l-isle.fr.html'"
            ],
            "application/vnd.google.colaboratory.intrinsic+json": {
              "type": "string"
            }
          },
          "metadata": {}
        },
        {
          "output_type": "stream",
          "name": "stdout",
          "text": [
            "--------------------------------------------------------------------------------------------------------------------------------\n"
          ]
        },
        {
          "output_type": "display_data",
          "data": {
            "text/plain": [
              "'https://www.booking.com/hotel/fr/relais-christine.fr.html'"
            ],
            "application/vnd.google.colaboratory.intrinsic+json": {
              "type": "string"
            }
          },
          "metadata": {}
        },
        {
          "output_type": "stream",
          "name": "stdout",
          "text": [
            "--------------------------------------------------------------------------------------------------------------------------------\n"
          ]
        },
        {
          "output_type": "display_data",
          "data": {
            "text/plain": [
              "'https://www.booking.com/hotel/fr/dupond-smith.fr.html'"
            ],
            "application/vnd.google.colaboratory.intrinsic+json": {
              "type": "string"
            }
          },
          "metadata": {}
        },
        {
          "output_type": "stream",
          "name": "stdout",
          "text": [
            "--------------------------------------------------------------------------------------------------------------------------------\n"
          ]
        },
        {
          "output_type": "display_data",
          "data": {
            "text/plain": [
              "'https://www.booking.com/hotel/fr/des-ducs-de-bourgogne.fr.html'"
            ],
            "application/vnd.google.colaboratory.intrinsic+json": {
              "type": "string"
            }
          },
          "metadata": {}
        },
        {
          "output_type": "stream",
          "name": "stdout",
          "text": [
            "--------------------------------------------------------------------------------------------------------------------------------\n"
          ]
        },
        {
          "output_type": "display_data",
          "data": {
            "text/plain": [
              "'https://www.booking.com/hotel/fr/lilas-blanc.fr.html'"
            ],
            "application/vnd.google.colaboratory.intrinsic+json": {
              "type": "string"
            }
          },
          "metadata": {}
        },
        {
          "output_type": "stream",
          "name": "stdout",
          "text": [
            "--------------------------------------------------------------------------------------------------------------------------------\n"
          ]
        },
        {
          "output_type": "stream",
          "name": "stderr",
          "text": [
            "<ipython-input-39-418cfa33beac>:50: SettingWithCopyWarning:\n",
            "\n",
            "\n",
            "A value is trying to be set on a copy of a slice from a DataFrame\n",
            "\n",
            "See the caveats in the documentation: https://pandas.pydata.org/pandas-docs/stable/user_guide/indexing.html#returning-a-view-versus-a-copy\n",
            "\n"
          ]
        },
        {
          "output_type": "display_data",
          "data": {
            "text/plain": [
              "'https://www.booking.com/hotel/fr/savoy-paris1.fr.html'"
            ],
            "application/vnd.google.colaboratory.intrinsic+json": {
              "type": "string"
            }
          },
          "metadata": {}
        },
        {
          "output_type": "stream",
          "name": "stdout",
          "text": [
            "--------------------------------------------------------------------------------------------------------------------------------\n"
          ]
        },
        {
          "output_type": "display_data",
          "data": {
            "text/plain": [
              "'https://www.booking.com/hotel/fr/luna-park.fr.html'"
            ],
            "application/vnd.google.colaboratory.intrinsic+json": {
              "type": "string"
            }
          },
          "metadata": {}
        },
        {
          "output_type": "stream",
          "name": "stdout",
          "text": [
            "--------------------------------------------------------------------------------------------------------------------------------\n"
          ]
        },
        {
          "output_type": "display_data",
          "data": {
            "text/plain": [
              "'https://www.booking.com/hotel/fr/de-la-cite-rougemont.fr.html'"
            ],
            "application/vnd.google.colaboratory.intrinsic+json": {
              "type": "string"
            }
          },
          "metadata": {}
        },
        {
          "output_type": "stream",
          "name": "stdout",
          "text": [
            "--------------------------------------------------------------------------------------------------------------------------------\n"
          ]
        },
        {
          "output_type": "display_data",
          "data": {
            "text/plain": [
              "'https://www.booking.com/hotel/fr/icone.fr.html'"
            ],
            "application/vnd.google.colaboratory.intrinsic+json": {
              "type": "string"
            }
          },
          "metadata": {}
        },
        {
          "output_type": "stream",
          "name": "stdout",
          "text": [
            "--------------------------------------------------------------------------------------------------------------------------------\n"
          ]
        },
        {
          "output_type": "display_data",
          "data": {
            "text/plain": [
              "'https://www.booking.com/hotel/fr/armstrong.fr.html'"
            ],
            "application/vnd.google.colaboratory.intrinsic+json": {
              "type": "string"
            }
          },
          "metadata": {}
        },
        {
          "output_type": "stream",
          "name": "stdout",
          "text": [
            "--------------------------------------------------------------------------------------------------------------------------------\n"
          ]
        },
        {
          "output_type": "display_data",
          "data": {
            "text/plain": [
              "'https://www.booking.com/hotel/fr/massena-paris.fr.html'"
            ],
            "application/vnd.google.colaboratory.intrinsic+json": {
              "type": "string"
            }
          },
          "metadata": {}
        },
        {
          "output_type": "stream",
          "name": "stdout",
          "text": [
            "--------------------------------------------------------------------------------------------------------------------------------\n"
          ]
        },
        {
          "output_type": "display_data",
          "data": {
            "text/plain": [
              "'https://www.booking.com/hotel/fr/trianon-rive-gauche.fr.html'"
            ],
            "application/vnd.google.colaboratory.intrinsic+json": {
              "type": "string"
            }
          },
          "metadata": {}
        },
        {
          "output_type": "stream",
          "name": "stdout",
          "text": [
            "--------------------------------------------------------------------------------------------------------------------------------\n"
          ]
        },
        {
          "output_type": "display_data",
          "data": {
            "text/plain": [
              "'https://www.booking.com/hotel/fr/tingis.fr.html'"
            ],
            "application/vnd.google.colaboratory.intrinsic+json": {
              "type": "string"
            }
          },
          "metadata": {}
        },
        {
          "output_type": "stream",
          "name": "stdout",
          "text": [
            "--------------------------------------------------------------------------------------------------------------------------------\n",
            "Data is ready, moving on to the next one\n",
            "===============================================================================================================================\n"
          ]
        },
        {
          "output_type": "display_data",
          "data": {
            "text/plain": [
              "                                               names  \\\n",
              "0                                    Le Basile Hôtel   \n",
              "1                                   Hôtel de Roubaix   \n",
              "2                                Hôtel Le Presbytère   \n",
              "3                                        Le 12 Hôtel   \n",
              "4                              Hotel Malte - Astotel   \n",
              "5                                   Le Général Hôtel   \n",
              "6                        Relais Hôtel du Vieux Paris   \n",
              "7                              Hôtel Jardin de Cluny   \n",
              "8                                   Hotel des Vosges   \n",
              "9                       ibis Budget Paris Nord 18ème   \n",
              "10                                   Hotel Luna Park   \n",
              "11                                  Hotel Europe BLV   \n",
              "12              Hipotel Paris Bastille Saint Antoine   \n",
              "13                            Grand Hôtel du Bel Air   \n",
              "14                  hotelF1 Paris Porte de Châtillon   \n",
              "15                                  Hotel de L'Union   \n",
              "16  Cheval Blanc Paris & Dior Spa Cheval Blanc Paris   \n",
              "17                           Les Rives de Notre-Dame   \n",
              "18                                   Millésime Hôtel   \n",
              "19                      Hôtel de Joséphine BONAPARTE   \n",
              "20                       Hotel Saint-Louis en L'Isle   \n",
              "21                                  Relais Christine   \n",
              "22                                Hotel Dupond-Smith   \n",
              "23                           Hotel Ducs de Bourgogne   \n",
              "24                                 Hotel Lilas Blanc   \n",
              "25                                       HOTEL SAVOY   \n",
              "26                                   Hotel Luna Park   \n",
              "27                        Hotel De La Cite Rougemont   \n",
              "28                                       Hotel Icône   \n",
              "29       ibis Styles Paris Nation Porte De Montreuil   \n",
              "30                                     Hotel Massena   \n",
              "31                         Hotel Trianon Rive Gauche   \n",
              "32                                      Hôtel Tingis   \n",
              "\n",
              "                                                links    lat    lon  \\\n",
              "0     https://www.booking.com/hotel/fr/basile.fr.html  48.84  2.325   \n",
              "1   https://www.booking.com/hotel/fr/de-roubaix.fr...  48.84  2.325   \n",
              "2   https://www.booking.com/hotel/fr/hotel-le-pres...  48.84  2.325   \n",
              "3   https://www.booking.com/hotel/fr/hotel-le-12.f...  48.84  2.325   \n",
              "4   https://www.booking.com/hotel/fr/malteopera.fr...  48.84  2.325   \n",
              "5   https://www.booking.com/hotel/fr/legeneral.fr....  48.84  2.325   \n",
              "6   https://www.booking.com/hotel/fr/relaishotelvi...  48.84  2.325   \n",
              "7   https://www.booking.com/hotel/fr/lejardindeclu...  48.84  2.325   \n",
              "8   https://www.booking.com/hotel/fr/des-vosges-pa...  48.84  2.325   \n",
              "9   https://www.booking.com/hotel/fr/ibis-budget-p...  48.84  2.325   \n",
              "10  https://www.booking.com/hotel/fr/luna-park.fr....  48.84  2.325   \n",
              "11  https://www.booking.com/hotel/fr/de-l-39-europ...  48.84  2.325   \n",
              "12  https://www.booking.com/hotel/fr/hipotel-paris...  48.84  2.325   \n",
              "13  https://www.booking.com/hotel/fr/grand-du-bel-...  48.84  2.325   \n",
              "14  https://www.booking.com/hotel/fr/hotelf1-paris...  48.84  2.325   \n",
              "15  https://www.booking.com/hotel/fr/de-l-39-union...  48.84  2.325   \n",
              "16  https://www.booking.com/hotel/fr/cheval-blanc-...  48.84  2.325   \n",
              "17  https://www.booking.com/hotel/fr/les-rives-de-...  48.84  2.325   \n",
              "18  https://www.booking.com/hotel/fr/millesime-par...  48.84  2.325   \n",
              "19  https://www.booking.com/hotel/fr/josephine-bon...  48.84  2.325   \n",
              "20  https://www.booking.com/hotel/fr/saint-louis-e...  48.84  2.325   \n",
              "21  https://www.booking.com/hotel/fr/relais-christ...  48.84  2.325   \n",
              "22  https://www.booking.com/hotel/fr/dupond-smith....  48.84  2.325   \n",
              "23  https://www.booking.com/hotel/fr/des-ducs-de-b...  48.84  2.325   \n",
              "24  https://www.booking.com/hotel/fr/lilas-blanc.f...  48.84  2.325   \n",
              "25  https://www.booking.com/hotel/fr/savoy-paris1....  48.84  2.325   \n",
              "26  https://www.booking.com/hotel/fr/luna-park.fr....  48.84  2.325   \n",
              "27  https://www.booking.com/hotel/fr/de-la-cite-ro...  48.84  2.325   \n",
              "28     https://www.booking.com/hotel/fr/icone.fr.html  48.84  2.325   \n",
              "29  https://www.booking.com/hotel/fr/armstrong.fr....  48.84  2.325   \n",
              "30  https://www.booking.com/hotel/fr/massena-paris...  48.84  2.325   \n",
              "31  https://www.booking.com/hotel/fr/trianon-rive-...  48.84  2.325   \n",
              "32    https://www.booking.com/hotel/fr/tingis.fr.html  48.84  2.325   \n",
              "\n",
              "    hotel_note                                        description  \n",
              "0          9.0  Vous pouvez bénéficier d'une réduction Genius ...  \n",
              "1          9.0  Vous pouvez bénéficier d'une réduction Genius ...  \n",
              "2          9.3  Vous pouvez bénéficier d'une réduction Genius ...  \n",
              "3          9.0  Vous pouvez bénéficier d'une réduction Genius ...  \n",
              "4          9.1   L’Hotel Malte - Astotel est implanté dans un ...  \n",
              "5          9.0  Vous pouvez bénéficier d'une réduction Genius ...  \n",
              "6          9.1  Vous pouvez bénéficier d'une réduction Genius ...  \n",
              "7          9.0  Vous pouvez bénéficier d'une réduction Genius ...  \n",
              "8          8.0   L'Hotel des Vosges vous accueille dans le XXe...  \n",
              "9          6.9   Situé à Paris, à 3,4 km du stade de France, l...  \n",
              "10         7.8  Vous pouvez bénéficier d'une réduction Genius ...  \n",
              "11         4.9   L'Hotel Europe BLV propose un hébergement dan...  \n",
              "12         5.4   Le Hipotel Paris Bastille Saint Antoine vous ...  \n",
              "13         7.3   Le Grand Hôtel du Bel Air est situé dans le X...  \n",
              "14         7.2   Situé dans le 14e arrondissement de Paris, à ...  \n",
              "15         7.6  Vous pouvez bénéficier d'une réduction Genius ...  \n",
              "16         9.5   Doté d’un bar, le Cheval Blanc Paris & Dior S...  \n",
              "17         9.3   Situé dans le Quartier Latin, en face de la S...  \n",
              "18         9.2   Situé au cœur du quartier de Saint-Germain-de...  \n",
              "19         9.1   Occupant un couvent du XVIIe siècle, l'Hôtel ...  \n",
              "20         9.1  Vous pouvez bénéficier d'une réduction Genius ...  \n",
              "21         9.1   L'hôtel de caractère Relais Christine occupe ...  \n",
              "22         9.0  Vous pouvez bénéficier d'une réduction Genius ...  \n",
              "23         9.0   L’Hotel Ducs de Bourgogne est un établissemen...  \n",
              "24         8.5   L'Hotel Lilas Blanc propose des hébergements ...  \n",
              "25         6.0   Situé dans le 14ème arrondissement Situé à Pa...  \n",
              "26         7.8  Vous pouvez bénéficier d'une réduction Genius ...  \n",
              "27         8.1  Vous pouvez bénéficier d'une réduction Genius ...  \n",
              "28         7.6  Vous pouvez bénéficier d'une réduction Genius ...  \n",
              "29         7.6   L'ibis Styles Paris Nation Porte De Montreuil...  \n",
              "30         7.8  Vous pouvez bénéficier d'une réduction Genius ...  \n",
              "31         7.8  Vous pouvez bénéficier d'une réduction Genius ...  \n",
              "32         7.1  Vous pouvez bénéficier d'une réduction Genius ...  "
            ],
            "text/html": [
              "\n",
              "  <div id=\"df-2cfa354f-50c5-441d-b403-e39953304028\">\n",
              "    <div class=\"colab-df-container\">\n",
              "      <div>\n",
              "<style scoped>\n",
              "    .dataframe tbody tr th:only-of-type {\n",
              "        vertical-align: middle;\n",
              "    }\n",
              "\n",
              "    .dataframe tbody tr th {\n",
              "        vertical-align: top;\n",
              "    }\n",
              "\n",
              "    .dataframe thead th {\n",
              "        text-align: right;\n",
              "    }\n",
              "</style>\n",
              "<table border=\"1\" class=\"dataframe\">\n",
              "  <thead>\n",
              "    <tr style=\"text-align: right;\">\n",
              "      <th></th>\n",
              "      <th>names</th>\n",
              "      <th>links</th>\n",
              "      <th>lat</th>\n",
              "      <th>lon</th>\n",
              "      <th>hotel_note</th>\n",
              "      <th>description</th>\n",
              "    </tr>\n",
              "  </thead>\n",
              "  <tbody>\n",
              "    <tr>\n",
              "      <th>0</th>\n",
              "      <td>Le Basile Hôtel</td>\n",
              "      <td>https://www.booking.com/hotel/fr/basile.fr.html</td>\n",
              "      <td>48.84</td>\n",
              "      <td>2.325</td>\n",
              "      <td>9.0</td>\n",
              "      <td>Vous pouvez bénéficier d'une réduction Genius ...</td>\n",
              "    </tr>\n",
              "    <tr>\n",
              "      <th>1</th>\n",
              "      <td>Hôtel de Roubaix</td>\n",
              "      <td>https://www.booking.com/hotel/fr/de-roubaix.fr...</td>\n",
              "      <td>48.84</td>\n",
              "      <td>2.325</td>\n",
              "      <td>9.0</td>\n",
              "      <td>Vous pouvez bénéficier d'une réduction Genius ...</td>\n",
              "    </tr>\n",
              "    <tr>\n",
              "      <th>2</th>\n",
              "      <td>Hôtel Le Presbytère</td>\n",
              "      <td>https://www.booking.com/hotel/fr/hotel-le-pres...</td>\n",
              "      <td>48.84</td>\n",
              "      <td>2.325</td>\n",
              "      <td>9.3</td>\n",
              "      <td>Vous pouvez bénéficier d'une réduction Genius ...</td>\n",
              "    </tr>\n",
              "    <tr>\n",
              "      <th>3</th>\n",
              "      <td>Le 12 Hôtel</td>\n",
              "      <td>https://www.booking.com/hotel/fr/hotel-le-12.f...</td>\n",
              "      <td>48.84</td>\n",
              "      <td>2.325</td>\n",
              "      <td>9.0</td>\n",
              "      <td>Vous pouvez bénéficier d'une réduction Genius ...</td>\n",
              "    </tr>\n",
              "    <tr>\n",
              "      <th>4</th>\n",
              "      <td>Hotel Malte - Astotel</td>\n",
              "      <td>https://www.booking.com/hotel/fr/malteopera.fr...</td>\n",
              "      <td>48.84</td>\n",
              "      <td>2.325</td>\n",
              "      <td>9.1</td>\n",
              "      <td>L’Hotel Malte - Astotel est implanté dans un ...</td>\n",
              "    </tr>\n",
              "    <tr>\n",
              "      <th>5</th>\n",
              "      <td>Le Général Hôtel</td>\n",
              "      <td>https://www.booking.com/hotel/fr/legeneral.fr....</td>\n",
              "      <td>48.84</td>\n",
              "      <td>2.325</td>\n",
              "      <td>9.0</td>\n",
              "      <td>Vous pouvez bénéficier d'une réduction Genius ...</td>\n",
              "    </tr>\n",
              "    <tr>\n",
              "      <th>6</th>\n",
              "      <td>Relais Hôtel du Vieux Paris</td>\n",
              "      <td>https://www.booking.com/hotel/fr/relaishotelvi...</td>\n",
              "      <td>48.84</td>\n",
              "      <td>2.325</td>\n",
              "      <td>9.1</td>\n",
              "      <td>Vous pouvez bénéficier d'une réduction Genius ...</td>\n",
              "    </tr>\n",
              "    <tr>\n",
              "      <th>7</th>\n",
              "      <td>Hôtel Jardin de Cluny</td>\n",
              "      <td>https://www.booking.com/hotel/fr/lejardindeclu...</td>\n",
              "      <td>48.84</td>\n",
              "      <td>2.325</td>\n",
              "      <td>9.0</td>\n",
              "      <td>Vous pouvez bénéficier d'une réduction Genius ...</td>\n",
              "    </tr>\n",
              "    <tr>\n",
              "      <th>8</th>\n",
              "      <td>Hotel des Vosges</td>\n",
              "      <td>https://www.booking.com/hotel/fr/des-vosges-pa...</td>\n",
              "      <td>48.84</td>\n",
              "      <td>2.325</td>\n",
              "      <td>8.0</td>\n",
              "      <td>L'Hotel des Vosges vous accueille dans le XXe...</td>\n",
              "    </tr>\n",
              "    <tr>\n",
              "      <th>9</th>\n",
              "      <td>ibis Budget Paris Nord 18ème</td>\n",
              "      <td>https://www.booking.com/hotel/fr/ibis-budget-p...</td>\n",
              "      <td>48.84</td>\n",
              "      <td>2.325</td>\n",
              "      <td>6.9</td>\n",
              "      <td>Situé à Paris, à 3,4 km du stade de France, l...</td>\n",
              "    </tr>\n",
              "    <tr>\n",
              "      <th>10</th>\n",
              "      <td>Hotel Luna Park</td>\n",
              "      <td>https://www.booking.com/hotel/fr/luna-park.fr....</td>\n",
              "      <td>48.84</td>\n",
              "      <td>2.325</td>\n",
              "      <td>7.8</td>\n",
              "      <td>Vous pouvez bénéficier d'une réduction Genius ...</td>\n",
              "    </tr>\n",
              "    <tr>\n",
              "      <th>11</th>\n",
              "      <td>Hotel Europe BLV</td>\n",
              "      <td>https://www.booking.com/hotel/fr/de-l-39-europ...</td>\n",
              "      <td>48.84</td>\n",
              "      <td>2.325</td>\n",
              "      <td>4.9</td>\n",
              "      <td>L'Hotel Europe BLV propose un hébergement dan...</td>\n",
              "    </tr>\n",
              "    <tr>\n",
              "      <th>12</th>\n",
              "      <td>Hipotel Paris Bastille Saint Antoine</td>\n",
              "      <td>https://www.booking.com/hotel/fr/hipotel-paris...</td>\n",
              "      <td>48.84</td>\n",
              "      <td>2.325</td>\n",
              "      <td>5.4</td>\n",
              "      <td>Le Hipotel Paris Bastille Saint Antoine vous ...</td>\n",
              "    </tr>\n",
              "    <tr>\n",
              "      <th>13</th>\n",
              "      <td>Grand Hôtel du Bel Air</td>\n",
              "      <td>https://www.booking.com/hotel/fr/grand-du-bel-...</td>\n",
              "      <td>48.84</td>\n",
              "      <td>2.325</td>\n",
              "      <td>7.3</td>\n",
              "      <td>Le Grand Hôtel du Bel Air est situé dans le X...</td>\n",
              "    </tr>\n",
              "    <tr>\n",
              "      <th>14</th>\n",
              "      <td>hotelF1 Paris Porte de Châtillon</td>\n",
              "      <td>https://www.booking.com/hotel/fr/hotelf1-paris...</td>\n",
              "      <td>48.84</td>\n",
              "      <td>2.325</td>\n",
              "      <td>7.2</td>\n",
              "      <td>Situé dans le 14e arrondissement de Paris, à ...</td>\n",
              "    </tr>\n",
              "    <tr>\n",
              "      <th>15</th>\n",
              "      <td>Hotel de L'Union</td>\n",
              "      <td>https://www.booking.com/hotel/fr/de-l-39-union...</td>\n",
              "      <td>48.84</td>\n",
              "      <td>2.325</td>\n",
              "      <td>7.6</td>\n",
              "      <td>Vous pouvez bénéficier d'une réduction Genius ...</td>\n",
              "    </tr>\n",
              "    <tr>\n",
              "      <th>16</th>\n",
              "      <td>Cheval Blanc Paris &amp; Dior Spa Cheval Blanc Paris</td>\n",
              "      <td>https://www.booking.com/hotel/fr/cheval-blanc-...</td>\n",
              "      <td>48.84</td>\n",
              "      <td>2.325</td>\n",
              "      <td>9.5</td>\n",
              "      <td>Doté d’un bar, le Cheval Blanc Paris &amp; Dior S...</td>\n",
              "    </tr>\n",
              "    <tr>\n",
              "      <th>17</th>\n",
              "      <td>Les Rives de Notre-Dame</td>\n",
              "      <td>https://www.booking.com/hotel/fr/les-rives-de-...</td>\n",
              "      <td>48.84</td>\n",
              "      <td>2.325</td>\n",
              "      <td>9.3</td>\n",
              "      <td>Situé dans le Quartier Latin, en face de la S...</td>\n",
              "    </tr>\n",
              "    <tr>\n",
              "      <th>18</th>\n",
              "      <td>Millésime Hôtel</td>\n",
              "      <td>https://www.booking.com/hotel/fr/millesime-par...</td>\n",
              "      <td>48.84</td>\n",
              "      <td>2.325</td>\n",
              "      <td>9.2</td>\n",
              "      <td>Situé au cœur du quartier de Saint-Germain-de...</td>\n",
              "    </tr>\n",
              "    <tr>\n",
              "      <th>19</th>\n",
              "      <td>Hôtel de Joséphine BONAPARTE</td>\n",
              "      <td>https://www.booking.com/hotel/fr/josephine-bon...</td>\n",
              "      <td>48.84</td>\n",
              "      <td>2.325</td>\n",
              "      <td>9.1</td>\n",
              "      <td>Occupant un couvent du XVIIe siècle, l'Hôtel ...</td>\n",
              "    </tr>\n",
              "    <tr>\n",
              "      <th>20</th>\n",
              "      <td>Hotel Saint-Louis en L'Isle</td>\n",
              "      <td>https://www.booking.com/hotel/fr/saint-louis-e...</td>\n",
              "      <td>48.84</td>\n",
              "      <td>2.325</td>\n",
              "      <td>9.1</td>\n",
              "      <td>Vous pouvez bénéficier d'une réduction Genius ...</td>\n",
              "    </tr>\n",
              "    <tr>\n",
              "      <th>21</th>\n",
              "      <td>Relais Christine</td>\n",
              "      <td>https://www.booking.com/hotel/fr/relais-christ...</td>\n",
              "      <td>48.84</td>\n",
              "      <td>2.325</td>\n",
              "      <td>9.1</td>\n",
              "      <td>L'hôtel de caractère Relais Christine occupe ...</td>\n",
              "    </tr>\n",
              "    <tr>\n",
              "      <th>22</th>\n",
              "      <td>Hotel Dupond-Smith</td>\n",
              "      <td>https://www.booking.com/hotel/fr/dupond-smith....</td>\n",
              "      <td>48.84</td>\n",
              "      <td>2.325</td>\n",
              "      <td>9.0</td>\n",
              "      <td>Vous pouvez bénéficier d'une réduction Genius ...</td>\n",
              "    </tr>\n",
              "    <tr>\n",
              "      <th>23</th>\n",
              "      <td>Hotel Ducs de Bourgogne</td>\n",
              "      <td>https://www.booking.com/hotel/fr/des-ducs-de-b...</td>\n",
              "      <td>48.84</td>\n",
              "      <td>2.325</td>\n",
              "      <td>9.0</td>\n",
              "      <td>L’Hotel Ducs de Bourgogne est un établissemen...</td>\n",
              "    </tr>\n",
              "    <tr>\n",
              "      <th>24</th>\n",
              "      <td>Hotel Lilas Blanc</td>\n",
              "      <td>https://www.booking.com/hotel/fr/lilas-blanc.f...</td>\n",
              "      <td>48.84</td>\n",
              "      <td>2.325</td>\n",
              "      <td>8.5</td>\n",
              "      <td>L'Hotel Lilas Blanc propose des hébergements ...</td>\n",
              "    </tr>\n",
              "    <tr>\n",
              "      <th>25</th>\n",
              "      <td>HOTEL SAVOY</td>\n",
              "      <td>https://www.booking.com/hotel/fr/savoy-paris1....</td>\n",
              "      <td>48.84</td>\n",
              "      <td>2.325</td>\n",
              "      <td>6.0</td>\n",
              "      <td>Situé dans le 14ème arrondissement Situé à Pa...</td>\n",
              "    </tr>\n",
              "    <tr>\n",
              "      <th>26</th>\n",
              "      <td>Hotel Luna Park</td>\n",
              "      <td>https://www.booking.com/hotel/fr/luna-park.fr....</td>\n",
              "      <td>48.84</td>\n",
              "      <td>2.325</td>\n",
              "      <td>7.8</td>\n",
              "      <td>Vous pouvez bénéficier d'une réduction Genius ...</td>\n",
              "    </tr>\n",
              "    <tr>\n",
              "      <th>27</th>\n",
              "      <td>Hotel De La Cite Rougemont</td>\n",
              "      <td>https://www.booking.com/hotel/fr/de-la-cite-ro...</td>\n",
              "      <td>48.84</td>\n",
              "      <td>2.325</td>\n",
              "      <td>8.1</td>\n",
              "      <td>Vous pouvez bénéficier d'une réduction Genius ...</td>\n",
              "    </tr>\n",
              "    <tr>\n",
              "      <th>28</th>\n",
              "      <td>Hotel Icône</td>\n",
              "      <td>https://www.booking.com/hotel/fr/icone.fr.html</td>\n",
              "      <td>48.84</td>\n",
              "      <td>2.325</td>\n",
              "      <td>7.6</td>\n",
              "      <td>Vous pouvez bénéficier d'une réduction Genius ...</td>\n",
              "    </tr>\n",
              "    <tr>\n",
              "      <th>29</th>\n",
              "      <td>ibis Styles Paris Nation Porte De Montreuil</td>\n",
              "      <td>https://www.booking.com/hotel/fr/armstrong.fr....</td>\n",
              "      <td>48.84</td>\n",
              "      <td>2.325</td>\n",
              "      <td>7.6</td>\n",
              "      <td>L'ibis Styles Paris Nation Porte De Montreuil...</td>\n",
              "    </tr>\n",
              "    <tr>\n",
              "      <th>30</th>\n",
              "      <td>Hotel Massena</td>\n",
              "      <td>https://www.booking.com/hotel/fr/massena-paris...</td>\n",
              "      <td>48.84</td>\n",
              "      <td>2.325</td>\n",
              "      <td>7.8</td>\n",
              "      <td>Vous pouvez bénéficier d'une réduction Genius ...</td>\n",
              "    </tr>\n",
              "    <tr>\n",
              "      <th>31</th>\n",
              "      <td>Hotel Trianon Rive Gauche</td>\n",
              "      <td>https://www.booking.com/hotel/fr/trianon-rive-...</td>\n",
              "      <td>48.84</td>\n",
              "      <td>2.325</td>\n",
              "      <td>7.8</td>\n",
              "      <td>Vous pouvez bénéficier d'une réduction Genius ...</td>\n",
              "    </tr>\n",
              "    <tr>\n",
              "      <th>32</th>\n",
              "      <td>Hôtel Tingis</td>\n",
              "      <td>https://www.booking.com/hotel/fr/tingis.fr.html</td>\n",
              "      <td>48.84</td>\n",
              "      <td>2.325</td>\n",
              "      <td>7.1</td>\n",
              "      <td>Vous pouvez bénéficier d'une réduction Genius ...</td>\n",
              "    </tr>\n",
              "  </tbody>\n",
              "</table>\n",
              "</div>\n",
              "      <button class=\"colab-df-convert\" onclick=\"convertToInteractive('df-2cfa354f-50c5-441d-b403-e39953304028')\"\n",
              "              title=\"Convert this dataframe to an interactive table.\"\n",
              "              style=\"display:none;\">\n",
              "        \n",
              "  <svg xmlns=\"http://www.w3.org/2000/svg\" height=\"24px\"viewBox=\"0 0 24 24\"\n",
              "       width=\"24px\">\n",
              "    <path d=\"M0 0h24v24H0V0z\" fill=\"none\"/>\n",
              "    <path d=\"M18.56 5.44l.94 2.06.94-2.06 2.06-.94-2.06-.94-.94-2.06-.94 2.06-2.06.94zm-11 1L8.5 8.5l.94-2.06 2.06-.94-2.06-.94L8.5 2.5l-.94 2.06-2.06.94zm10 10l.94 2.06.94-2.06 2.06-.94-2.06-.94-.94-2.06-.94 2.06-2.06.94z\"/><path d=\"M17.41 7.96l-1.37-1.37c-.4-.4-.92-.59-1.43-.59-.52 0-1.04.2-1.43.59L10.3 9.45l-7.72 7.72c-.78.78-.78 2.05 0 2.83L4 21.41c.39.39.9.59 1.41.59.51 0 1.02-.2 1.41-.59l7.78-7.78 2.81-2.81c.8-.78.8-2.07 0-2.86zM5.41 20L4 18.59l7.72-7.72 1.47 1.35L5.41 20z\"/>\n",
              "  </svg>\n",
              "      </button>\n",
              "      \n",
              "  <style>\n",
              "    .colab-df-container {\n",
              "      display:flex;\n",
              "      flex-wrap:wrap;\n",
              "      gap: 12px;\n",
              "    }\n",
              "\n",
              "    .colab-df-convert {\n",
              "      background-color: #E8F0FE;\n",
              "      border: none;\n",
              "      border-radius: 50%;\n",
              "      cursor: pointer;\n",
              "      display: none;\n",
              "      fill: #1967D2;\n",
              "      height: 32px;\n",
              "      padding: 0 0 0 0;\n",
              "      width: 32px;\n",
              "    }\n",
              "\n",
              "    .colab-df-convert:hover {\n",
              "      background-color: #E2EBFA;\n",
              "      box-shadow: 0px 1px 2px rgba(60, 64, 67, 0.3), 0px 1px 3px 1px rgba(60, 64, 67, 0.15);\n",
              "      fill: #174EA6;\n",
              "    }\n",
              "\n",
              "    [theme=dark] .colab-df-convert {\n",
              "      background-color: #3B4455;\n",
              "      fill: #D2E3FC;\n",
              "    }\n",
              "\n",
              "    [theme=dark] .colab-df-convert:hover {\n",
              "      background-color: #434B5C;\n",
              "      box-shadow: 0px 1px 3px 1px rgba(0, 0, 0, 0.15);\n",
              "      filter: drop-shadow(0px 1px 2px rgba(0, 0, 0, 0.3));\n",
              "      fill: #FFFFFF;\n",
              "    }\n",
              "  </style>\n",
              "\n",
              "      <script>\n",
              "        const buttonEl =\n",
              "          document.querySelector('#df-2cfa354f-50c5-441d-b403-e39953304028 button.colab-df-convert');\n",
              "        buttonEl.style.display =\n",
              "          google.colab.kernel.accessAllowed ? 'block' : 'none';\n",
              "\n",
              "        async function convertToInteractive(key) {\n",
              "          const element = document.querySelector('#df-2cfa354f-50c5-441d-b403-e39953304028');\n",
              "          const dataTable =\n",
              "            await google.colab.kernel.invokeFunction('convertToInteractive',\n",
              "                                                     [key], {});\n",
              "          if (!dataTable) return;\n",
              "\n",
              "          const docLinkHtml = 'Like what you see? Visit the ' +\n",
              "            '<a target=\"_blank\" href=https://colab.research.google.com/notebooks/data_table.ipynb>data table notebook</a>'\n",
              "            + ' to learn more about interactive tables.';\n",
              "          element.innerHTML = '';\n",
              "          dataTable['output_type'] = 'display_data';\n",
              "          await google.colab.output.renderOutput(dataTable, element);\n",
              "          const docLink = document.createElement('div');\n",
              "          docLink.innerHTML = docLinkHtml;\n",
              "          element.appendChild(docLink);\n",
              "        }\n",
              "      </script>\n",
              "    </div>\n",
              "  </div>\n",
              "  "
            ]
          },
          "metadata": {}
        },
        {
          "output_type": "display_data",
          "data": {
            "text/plain": [
              "'https://www.booking.com/hotel/fr/eklo-hotels-le-havre.fr.html'"
            ],
            "application/vnd.google.colaboratory.intrinsic+json": {
              "type": "string"
            }
          },
          "metadata": {}
        },
        {
          "output_type": "stream",
          "name": "stdout",
          "text": [
            "--------------------------------------------------------------------------------------------------------------------------------\n"
          ]
        },
        {
          "output_type": "stream",
          "name": "stderr",
          "text": [
            "<ipython-input-39-418cfa33beac>:50: SettingWithCopyWarning:\n",
            "\n",
            "\n",
            "A value is trying to be set on a copy of a slice from a DataFrame\n",
            "\n",
            "See the caveats in the documentation: https://pandas.pydata.org/pandas-docs/stable/user_guide/indexing.html#returning-a-view-versus-a-copy\n",
            "\n"
          ]
        },
        {
          "output_type": "display_data",
          "data": {
            "text/plain": [
              "'https://www.booking.com/hotel/fr/campanile-le-havre-centre.fr.html'"
            ],
            "application/vnd.google.colaboratory.intrinsic+json": {
              "type": "string"
            }
          },
          "metadata": {}
        },
        {
          "output_type": "stream",
          "name": "stdout",
          "text": [
            "--------------------------------------------------------------------------------------------------------------------------------\n"
          ]
        },
        {
          "output_type": "display_data",
          "data": {
            "text/plain": [
              "'https://www.booking.com/hotel/fr/hilton-garden-inn-le-havre-centre.fr.html'"
            ],
            "application/vnd.google.colaboratory.intrinsic+json": {
              "type": "string"
            }
          },
          "metadata": {}
        },
        {
          "output_type": "stream",
          "name": "stdout",
          "text": [
            "--------------------------------------------------------------------------------------------------------------------------------\n"
          ]
        },
        {
          "output_type": "display_data",
          "data": {
            "text/plain": [
              "'https://www.booking.com/hotel/fr/des-phares.fr.html'"
            ],
            "application/vnd.google.colaboratory.intrinsic+json": {
              "type": "string"
            }
          },
          "metadata": {}
        },
        {
          "output_type": "stream",
          "name": "stdout",
          "text": [
            "--------------------------------------------------------------------------------------------------------------------------------\n"
          ]
        },
        {
          "output_type": "display_data",
          "data": {
            "text/plain": [
              "'https://www.booking.com/hotel/fr/mercure-bassin-du-commerce.fr.html'"
            ],
            "application/vnd.google.colaboratory.intrinsic+json": {
              "type": "string"
            }
          },
          "metadata": {}
        },
        {
          "output_type": "stream",
          "name": "stdout",
          "text": [
            "--------------------------------------------------------------------------------------------------------------------------------\n",
            "Data is ready, moving on to the next one\n",
            "===============================================================================================================================\n"
          ]
        },
        {
          "output_type": "display_data",
          "data": {
            "text/plain": [
              "                                        names  \\\n",
              "0                        Eklo Hotels Le Havre   \n",
              "1       Holiday Inn Express - Le Havre Centre   \n",
              "2           Hilton Garden Inn Le Havre Centre   \n",
              "3            Hotel de Charme La Bonne Adresse   \n",
              "4  Mercure Le Havre Centre Bassin Du Commerce   \n",
              "\n",
              "                                               links    lat    lon  \\\n",
              "0  https://www.booking.com/hotel/fr/eklo-hotels-l...  49.48  0.101   \n",
              "1  https://www.booking.com/hotel/fr/campanile-le-...  49.48  0.101   \n",
              "2  https://www.booking.com/hotel/fr/hilton-garden...  49.48  0.101   \n",
              "3  https://www.booking.com/hotel/fr/des-phares.fr...  49.48  0.101   \n",
              "4  https://www.booking.com/hotel/fr/mercure-bassi...  49.48  0.101   \n",
              "\n",
              "   hotel_note                                        description  \n",
              "0         5.9   L’Eklo Hotels Le Havre est un établissement d...  \n",
              "1         8.2   L’Holiday Inn Express - Le Havre Centre, situ...  \n",
              "2         8.7   Le Hilton Garden Inn Le Havre Centre est situ...  \n",
              "3         8.3  Vous pouvez bénéficier d'une réduction Genius ...  \n",
              "4         7.6  Vous pouvez bénéficier d'une réduction Genius ...  "
            ],
            "text/html": [
              "\n",
              "  <div id=\"df-c8747bc5-42e7-49d2-b601-ec14740da3c6\">\n",
              "    <div class=\"colab-df-container\">\n",
              "      <div>\n",
              "<style scoped>\n",
              "    .dataframe tbody tr th:only-of-type {\n",
              "        vertical-align: middle;\n",
              "    }\n",
              "\n",
              "    .dataframe tbody tr th {\n",
              "        vertical-align: top;\n",
              "    }\n",
              "\n",
              "    .dataframe thead th {\n",
              "        text-align: right;\n",
              "    }\n",
              "</style>\n",
              "<table border=\"1\" class=\"dataframe\">\n",
              "  <thead>\n",
              "    <tr style=\"text-align: right;\">\n",
              "      <th></th>\n",
              "      <th>names</th>\n",
              "      <th>links</th>\n",
              "      <th>lat</th>\n",
              "      <th>lon</th>\n",
              "      <th>hotel_note</th>\n",
              "      <th>description</th>\n",
              "    </tr>\n",
              "  </thead>\n",
              "  <tbody>\n",
              "    <tr>\n",
              "      <th>0</th>\n",
              "      <td>Eklo Hotels Le Havre</td>\n",
              "      <td>https://www.booking.com/hotel/fr/eklo-hotels-l...</td>\n",
              "      <td>49.48</td>\n",
              "      <td>0.101</td>\n",
              "      <td>5.9</td>\n",
              "      <td>L’Eklo Hotels Le Havre est un établissement d...</td>\n",
              "    </tr>\n",
              "    <tr>\n",
              "      <th>1</th>\n",
              "      <td>Holiday Inn Express - Le Havre Centre</td>\n",
              "      <td>https://www.booking.com/hotel/fr/campanile-le-...</td>\n",
              "      <td>49.48</td>\n",
              "      <td>0.101</td>\n",
              "      <td>8.2</td>\n",
              "      <td>L’Holiday Inn Express - Le Havre Centre, situ...</td>\n",
              "    </tr>\n",
              "    <tr>\n",
              "      <th>2</th>\n",
              "      <td>Hilton Garden Inn Le Havre Centre</td>\n",
              "      <td>https://www.booking.com/hotel/fr/hilton-garden...</td>\n",
              "      <td>49.48</td>\n",
              "      <td>0.101</td>\n",
              "      <td>8.7</td>\n",
              "      <td>Le Hilton Garden Inn Le Havre Centre est situ...</td>\n",
              "    </tr>\n",
              "    <tr>\n",
              "      <th>3</th>\n",
              "      <td>Hotel de Charme La Bonne Adresse</td>\n",
              "      <td>https://www.booking.com/hotel/fr/des-phares.fr...</td>\n",
              "      <td>49.48</td>\n",
              "      <td>0.101</td>\n",
              "      <td>8.3</td>\n",
              "      <td>Vous pouvez bénéficier d'une réduction Genius ...</td>\n",
              "    </tr>\n",
              "    <tr>\n",
              "      <th>4</th>\n",
              "      <td>Mercure Le Havre Centre Bassin Du Commerce</td>\n",
              "      <td>https://www.booking.com/hotel/fr/mercure-bassi...</td>\n",
              "      <td>49.48</td>\n",
              "      <td>0.101</td>\n",
              "      <td>7.6</td>\n",
              "      <td>Vous pouvez bénéficier d'une réduction Genius ...</td>\n",
              "    </tr>\n",
              "  </tbody>\n",
              "</table>\n",
              "</div>\n",
              "      <button class=\"colab-df-convert\" onclick=\"convertToInteractive('df-c8747bc5-42e7-49d2-b601-ec14740da3c6')\"\n",
              "              title=\"Convert this dataframe to an interactive table.\"\n",
              "              style=\"display:none;\">\n",
              "        \n",
              "  <svg xmlns=\"http://www.w3.org/2000/svg\" height=\"24px\"viewBox=\"0 0 24 24\"\n",
              "       width=\"24px\">\n",
              "    <path d=\"M0 0h24v24H0V0z\" fill=\"none\"/>\n",
              "    <path d=\"M18.56 5.44l.94 2.06.94-2.06 2.06-.94-2.06-.94-.94-2.06-.94 2.06-2.06.94zm-11 1L8.5 8.5l.94-2.06 2.06-.94-2.06-.94L8.5 2.5l-.94 2.06-2.06.94zm10 10l.94 2.06.94-2.06 2.06-.94-2.06-.94-.94-2.06-.94 2.06-2.06.94z\"/><path d=\"M17.41 7.96l-1.37-1.37c-.4-.4-.92-.59-1.43-.59-.52 0-1.04.2-1.43.59L10.3 9.45l-7.72 7.72c-.78.78-.78 2.05 0 2.83L4 21.41c.39.39.9.59 1.41.59.51 0 1.02-.2 1.41-.59l7.78-7.78 2.81-2.81c.8-.78.8-2.07 0-2.86zM5.41 20L4 18.59l7.72-7.72 1.47 1.35L5.41 20z\"/>\n",
              "  </svg>\n",
              "      </button>\n",
              "      \n",
              "  <style>\n",
              "    .colab-df-container {\n",
              "      display:flex;\n",
              "      flex-wrap:wrap;\n",
              "      gap: 12px;\n",
              "    }\n",
              "\n",
              "    .colab-df-convert {\n",
              "      background-color: #E8F0FE;\n",
              "      border: none;\n",
              "      border-radius: 50%;\n",
              "      cursor: pointer;\n",
              "      display: none;\n",
              "      fill: #1967D2;\n",
              "      height: 32px;\n",
              "      padding: 0 0 0 0;\n",
              "      width: 32px;\n",
              "    }\n",
              "\n",
              "    .colab-df-convert:hover {\n",
              "      background-color: #E2EBFA;\n",
              "      box-shadow: 0px 1px 2px rgba(60, 64, 67, 0.3), 0px 1px 3px 1px rgba(60, 64, 67, 0.15);\n",
              "      fill: #174EA6;\n",
              "    }\n",
              "\n",
              "    [theme=dark] .colab-df-convert {\n",
              "      background-color: #3B4455;\n",
              "      fill: #D2E3FC;\n",
              "    }\n",
              "\n",
              "    [theme=dark] .colab-df-convert:hover {\n",
              "      background-color: #434B5C;\n",
              "      box-shadow: 0px 1px 3px 1px rgba(0, 0, 0, 0.15);\n",
              "      filter: drop-shadow(0px 1px 2px rgba(0, 0, 0, 0.3));\n",
              "      fill: #FFFFFF;\n",
              "    }\n",
              "  </style>\n",
              "\n",
              "      <script>\n",
              "        const buttonEl =\n",
              "          document.querySelector('#df-c8747bc5-42e7-49d2-b601-ec14740da3c6 button.colab-df-convert');\n",
              "        buttonEl.style.display =\n",
              "          google.colab.kernel.accessAllowed ? 'block' : 'none';\n",
              "\n",
              "        async function convertToInteractive(key) {\n",
              "          const element = document.querySelector('#df-c8747bc5-42e7-49d2-b601-ec14740da3c6');\n",
              "          const dataTable =\n",
              "            await google.colab.kernel.invokeFunction('convertToInteractive',\n",
              "                                                     [key], {});\n",
              "          if (!dataTable) return;\n",
              "\n",
              "          const docLinkHtml = 'Like what you see? Visit the ' +\n",
              "            '<a target=\"_blank\" href=https://colab.research.google.com/notebooks/data_table.ipynb>data table notebook</a>'\n",
              "            + ' to learn more about interactive tables.';\n",
              "          element.innerHTML = '';\n",
              "          dataTable['output_type'] = 'display_data';\n",
              "          await google.colab.output.renderOutput(dataTable, element);\n",
              "          const docLink = document.createElement('div');\n",
              "          docLink.innerHTML = docLinkHtml;\n",
              "          element.appendChild(docLink);\n",
              "        }\n",
              "      </script>\n",
              "    </div>\n",
              "  </div>\n",
              "  "
            ]
          },
          "metadata": {}
        },
        {
          "output_type": "display_data",
          "data": {
            "text/plain": [
              "'https://www.booking.com/hotel/fr/novotel.fr.html'"
            ],
            "application/vnd.google.colaboratory.intrinsic+json": {
              "type": "string"
            }
          },
          "metadata": {}
        },
        {
          "output_type": "stream",
          "name": "stdout",
          "text": [
            "--------------------------------------------------------------------------------------------------------------------------------\n"
          ]
        },
        {
          "output_type": "stream",
          "name": "stderr",
          "text": [
            "<ipython-input-39-418cfa33beac>:50: SettingWithCopyWarning:\n",
            "\n",
            "\n",
            "A value is trying to be set on a copy of a slice from a DataFrame\n",
            "\n",
            "See the caveats in the documentation: https://pandas.pydata.org/pandas-docs/stable/user_guide/indexing.html#returning-a-view-versus-a-copy\n",
            "\n"
          ]
        },
        {
          "output_type": "display_data",
          "data": {
            "text/plain": [
              "'https://www.booking.com/hotel/fr/domaine-de-bayeux.fr.html'"
            ],
            "application/vnd.google.colaboratory.intrinsic+json": {
              "type": "string"
            }
          },
          "metadata": {}
        },
        {
          "output_type": "stream",
          "name": "stdout",
          "text": [
            "--------------------------------------------------------------------------------------------------------------------------------\n"
          ]
        },
        {
          "output_type": "display_data",
          "data": {
            "text/plain": [
              "'https://www.booking.com/hotel/fr/le-lion-d-or-bayeux.fr.html'"
            ],
            "application/vnd.google.colaboratory.intrinsic+json": {
              "type": "string"
            }
          },
          "metadata": {}
        },
        {
          "output_type": "stream",
          "name": "stdout",
          "text": [
            "--------------------------------------------------------------------------------------------------------------------------------\n"
          ]
        },
        {
          "output_type": "display_data",
          "data": {
            "text/plain": [
              "'https://www.booking.com/hotel/fr/hoteldebrunville.fr.html'"
            ],
            "application/vnd.google.colaboratory.intrinsic+json": {
              "type": "string"
            }
          },
          "metadata": {}
        },
        {
          "output_type": "stream",
          "name": "stdout",
          "text": [
            "--------------------------------------------------------------------------------------------------------------------------------\n"
          ]
        },
        {
          "output_type": "display_data",
          "data": {
            "text/plain": [
              "'https://www.booking.com/hotel/fr/premiere-classe-bayeux.fr.html'"
            ],
            "application/vnd.google.colaboratory.intrinsic+json": {
              "type": "string"
            }
          },
          "metadata": {}
        },
        {
          "output_type": "stream",
          "name": "stdout",
          "text": [
            "--------------------------------------------------------------------------------------------------------------------------------\n"
          ]
        },
        {
          "output_type": "display_data",
          "data": {
            "text/plain": [
              "'https://www.booking.com/hotel/fr/campanile-bayeux.fr.html'"
            ],
            "application/vnd.google.colaboratory.intrinsic+json": {
              "type": "string"
            }
          },
          "metadata": {}
        },
        {
          "output_type": "stream",
          "name": "stdout",
          "text": [
            "--------------------------------------------------------------------------------------------------------------------------------\n"
          ]
        },
        {
          "output_type": "display_data",
          "data": {
            "text/plain": [
              "'https://www.booking.com/hotel/fr/reine-mathilde-bayeux.fr.html'"
            ],
            "application/vnd.google.colaboratory.intrinsic+json": {
              "type": "string"
            }
          },
          "metadata": {}
        },
        {
          "output_type": "stream",
          "name": "stdout",
          "text": [
            "--------------------------------------------------------------------------------------------------------------------------------\n"
          ]
        },
        {
          "output_type": "display_data",
          "data": {
            "text/plain": [
              "'https://www.booking.com/hotel/fr/chateau-de-bellefontaine.fr.html'"
            ],
            "application/vnd.google.colaboratory.intrinsic+json": {
              "type": "string"
            }
          },
          "metadata": {}
        },
        {
          "output_type": "stream",
          "name": "stdout",
          "text": [
            "--------------------------------------------------------------------------------------------------------------------------------\n",
            "Data is ready, moving on to the next one\n",
            "===============================================================================================================================\n"
          ]
        },
        {
          "output_type": "display_data",
          "data": {
            "text/plain": [
              "                                               names  \\\n",
              "0                                     Novotel Bayeux   \n",
              "1                                  Domaine de Bayeux   \n",
              "2  Hotel Le Lion D'Or et Restaurant La Table Du Lion   \n",
              "3                           Hôtel De Brunville & Spa   \n",
              "4                             Premiere Classe Bayeux   \n",
              "5                                   Campanile Bayeux   \n",
              "6                               Hotel Reine Mathilde   \n",
              "7                           Château de Bellefontaine   \n",
              "\n",
              "                                               links    lat   lon  hotel_note  \\\n",
              "0   https://www.booking.com/hotel/fr/novotel.fr.html  49.25 -0.72         7.6   \n",
              "1  https://www.booking.com/hotel/fr/domaine-de-ba...  49.25 -0.72         9.1   \n",
              "2  https://www.booking.com/hotel/fr/le-lion-d-or-...  49.25 -0.72         8.8   \n",
              "3  https://www.booking.com/hotel/fr/hoteldebrunvi...  49.25 -0.72         8.1   \n",
              "4  https://www.booking.com/hotel/fr/premiere-clas...  49.25 -0.72         7.6   \n",
              "5  https://www.booking.com/hotel/fr/campanile-bay...  49.25 -0.72         7.5   \n",
              "6  https://www.booking.com/hotel/fr/reine-mathild...  49.25 -0.72         8.4   \n",
              "7  https://www.booking.com/hotel/fr/chateau-de-be...  49.25 -0.72         8.1   \n",
              "\n",
              "                                         description  \n",
              "0   Le Novotel Bayeux est situé entre Caen et Che...  \n",
              "1   Le Domaine de Bayeux occupe une maison du XVI...  \n",
              "2   Occupant un ancien bureau de poste du XVIIIe ...  \n",
              "3  Vous pouvez bénéficier d'une réduction Genius ...  \n",
              "4  Vous pouvez bénéficier d'une réduction Genius ...  \n",
              "5   Situé dans un quartier paisible à l'extérieur...  \n",
              "6   L'hôtel Reine Mathilde se situe dans le quart...  \n",
              "7   À 800 mètres du centre de Bayeux et de sa cat...  "
            ],
            "text/html": [
              "\n",
              "  <div id=\"df-ff91e9ba-f397-42e0-8f25-c41d258336be\">\n",
              "    <div class=\"colab-df-container\">\n",
              "      <div>\n",
              "<style scoped>\n",
              "    .dataframe tbody tr th:only-of-type {\n",
              "        vertical-align: middle;\n",
              "    }\n",
              "\n",
              "    .dataframe tbody tr th {\n",
              "        vertical-align: top;\n",
              "    }\n",
              "\n",
              "    .dataframe thead th {\n",
              "        text-align: right;\n",
              "    }\n",
              "</style>\n",
              "<table border=\"1\" class=\"dataframe\">\n",
              "  <thead>\n",
              "    <tr style=\"text-align: right;\">\n",
              "      <th></th>\n",
              "      <th>names</th>\n",
              "      <th>links</th>\n",
              "      <th>lat</th>\n",
              "      <th>lon</th>\n",
              "      <th>hotel_note</th>\n",
              "      <th>description</th>\n",
              "    </tr>\n",
              "  </thead>\n",
              "  <tbody>\n",
              "    <tr>\n",
              "      <th>0</th>\n",
              "      <td>Novotel Bayeux</td>\n",
              "      <td>https://www.booking.com/hotel/fr/novotel.fr.html</td>\n",
              "      <td>49.25</td>\n",
              "      <td>-0.72</td>\n",
              "      <td>7.6</td>\n",
              "      <td>Le Novotel Bayeux est situé entre Caen et Che...</td>\n",
              "    </tr>\n",
              "    <tr>\n",
              "      <th>1</th>\n",
              "      <td>Domaine de Bayeux</td>\n",
              "      <td>https://www.booking.com/hotel/fr/domaine-de-ba...</td>\n",
              "      <td>49.25</td>\n",
              "      <td>-0.72</td>\n",
              "      <td>9.1</td>\n",
              "      <td>Le Domaine de Bayeux occupe une maison du XVI...</td>\n",
              "    </tr>\n",
              "    <tr>\n",
              "      <th>2</th>\n",
              "      <td>Hotel Le Lion D'Or et Restaurant La Table Du Lion</td>\n",
              "      <td>https://www.booking.com/hotel/fr/le-lion-d-or-...</td>\n",
              "      <td>49.25</td>\n",
              "      <td>-0.72</td>\n",
              "      <td>8.8</td>\n",
              "      <td>Occupant un ancien bureau de poste du XVIIIe ...</td>\n",
              "    </tr>\n",
              "    <tr>\n",
              "      <th>3</th>\n",
              "      <td>Hôtel De Brunville &amp; Spa</td>\n",
              "      <td>https://www.booking.com/hotel/fr/hoteldebrunvi...</td>\n",
              "      <td>49.25</td>\n",
              "      <td>-0.72</td>\n",
              "      <td>8.1</td>\n",
              "      <td>Vous pouvez bénéficier d'une réduction Genius ...</td>\n",
              "    </tr>\n",
              "    <tr>\n",
              "      <th>4</th>\n",
              "      <td>Premiere Classe Bayeux</td>\n",
              "      <td>https://www.booking.com/hotel/fr/premiere-clas...</td>\n",
              "      <td>49.25</td>\n",
              "      <td>-0.72</td>\n",
              "      <td>7.6</td>\n",
              "      <td>Vous pouvez bénéficier d'une réduction Genius ...</td>\n",
              "    </tr>\n",
              "    <tr>\n",
              "      <th>5</th>\n",
              "      <td>Campanile Bayeux</td>\n",
              "      <td>https://www.booking.com/hotel/fr/campanile-bay...</td>\n",
              "      <td>49.25</td>\n",
              "      <td>-0.72</td>\n",
              "      <td>7.5</td>\n",
              "      <td>Situé dans un quartier paisible à l'extérieur...</td>\n",
              "    </tr>\n",
              "    <tr>\n",
              "      <th>6</th>\n",
              "      <td>Hotel Reine Mathilde</td>\n",
              "      <td>https://www.booking.com/hotel/fr/reine-mathild...</td>\n",
              "      <td>49.25</td>\n",
              "      <td>-0.72</td>\n",
              "      <td>8.4</td>\n",
              "      <td>L'hôtel Reine Mathilde se situe dans le quart...</td>\n",
              "    </tr>\n",
              "    <tr>\n",
              "      <th>7</th>\n",
              "      <td>Château de Bellefontaine</td>\n",
              "      <td>https://www.booking.com/hotel/fr/chateau-de-be...</td>\n",
              "      <td>49.25</td>\n",
              "      <td>-0.72</td>\n",
              "      <td>8.1</td>\n",
              "      <td>À 800 mètres du centre de Bayeux et de sa cat...</td>\n",
              "    </tr>\n",
              "  </tbody>\n",
              "</table>\n",
              "</div>\n",
              "      <button class=\"colab-df-convert\" onclick=\"convertToInteractive('df-ff91e9ba-f397-42e0-8f25-c41d258336be')\"\n",
              "              title=\"Convert this dataframe to an interactive table.\"\n",
              "              style=\"display:none;\">\n",
              "        \n",
              "  <svg xmlns=\"http://www.w3.org/2000/svg\" height=\"24px\"viewBox=\"0 0 24 24\"\n",
              "       width=\"24px\">\n",
              "    <path d=\"M0 0h24v24H0V0z\" fill=\"none\"/>\n",
              "    <path d=\"M18.56 5.44l.94 2.06.94-2.06 2.06-.94-2.06-.94-.94-2.06-.94 2.06-2.06.94zm-11 1L8.5 8.5l.94-2.06 2.06-.94-2.06-.94L8.5 2.5l-.94 2.06-2.06.94zm10 10l.94 2.06.94-2.06 2.06-.94-2.06-.94-.94-2.06-.94 2.06-2.06.94z\"/><path d=\"M17.41 7.96l-1.37-1.37c-.4-.4-.92-.59-1.43-.59-.52 0-1.04.2-1.43.59L10.3 9.45l-7.72 7.72c-.78.78-.78 2.05 0 2.83L4 21.41c.39.39.9.59 1.41.59.51 0 1.02-.2 1.41-.59l7.78-7.78 2.81-2.81c.8-.78.8-2.07 0-2.86zM5.41 20L4 18.59l7.72-7.72 1.47 1.35L5.41 20z\"/>\n",
              "  </svg>\n",
              "      </button>\n",
              "      \n",
              "  <style>\n",
              "    .colab-df-container {\n",
              "      display:flex;\n",
              "      flex-wrap:wrap;\n",
              "      gap: 12px;\n",
              "    }\n",
              "\n",
              "    .colab-df-convert {\n",
              "      background-color: #E8F0FE;\n",
              "      border: none;\n",
              "      border-radius: 50%;\n",
              "      cursor: pointer;\n",
              "      display: none;\n",
              "      fill: #1967D2;\n",
              "      height: 32px;\n",
              "      padding: 0 0 0 0;\n",
              "      width: 32px;\n",
              "    }\n",
              "\n",
              "    .colab-df-convert:hover {\n",
              "      background-color: #E2EBFA;\n",
              "      box-shadow: 0px 1px 2px rgba(60, 64, 67, 0.3), 0px 1px 3px 1px rgba(60, 64, 67, 0.15);\n",
              "      fill: #174EA6;\n",
              "    }\n",
              "\n",
              "    [theme=dark] .colab-df-convert {\n",
              "      background-color: #3B4455;\n",
              "      fill: #D2E3FC;\n",
              "    }\n",
              "\n",
              "    [theme=dark] .colab-df-convert:hover {\n",
              "      background-color: #434B5C;\n",
              "      box-shadow: 0px 1px 3px 1px rgba(0, 0, 0, 0.15);\n",
              "      filter: drop-shadow(0px 1px 2px rgba(0, 0, 0, 0.3));\n",
              "      fill: #FFFFFF;\n",
              "    }\n",
              "  </style>\n",
              "\n",
              "      <script>\n",
              "        const buttonEl =\n",
              "          document.querySelector('#df-ff91e9ba-f397-42e0-8f25-c41d258336be button.colab-df-convert');\n",
              "        buttonEl.style.display =\n",
              "          google.colab.kernel.accessAllowed ? 'block' : 'none';\n",
              "\n",
              "        async function convertToInteractive(key) {\n",
              "          const element = document.querySelector('#df-ff91e9ba-f397-42e0-8f25-c41d258336be');\n",
              "          const dataTable =\n",
              "            await google.colab.kernel.invokeFunction('convertToInteractive',\n",
              "                                                     [key], {});\n",
              "          if (!dataTable) return;\n",
              "\n",
              "          const docLinkHtml = 'Like what you see? Visit the ' +\n",
              "            '<a target=\"_blank\" href=https://colab.research.google.com/notebooks/data_table.ipynb>data table notebook</a>'\n",
              "            + ' to learn more about interactive tables.';\n",
              "          element.innerHTML = '';\n",
              "          dataTable['output_type'] = 'display_data';\n",
              "          await google.colab.output.renderOutput(dataTable, element);\n",
              "          const docLink = document.createElement('div');\n",
              "          docLink.innerHTML = docLinkHtml;\n",
              "          element.appendChild(docLink);\n",
              "        }\n",
              "      </script>\n",
              "    </div>\n",
              "  </div>\n",
              "  "
            ]
          },
          "metadata": {}
        },
        {
          "output_type": "display_data",
          "data": {
            "text/plain": [
              "'https://www.booking.com/hotel/fr/adresse.fr.html'"
            ],
            "application/vnd.google.colaboratory.intrinsic+json": {
              "type": "string"
            }
          },
          "metadata": {}
        },
        {
          "output_type": "stream",
          "name": "stdout",
          "text": [
            "--------------------------------------------------------------------------------------------------------------------------------\n"
          ]
        },
        {
          "output_type": "display_data",
          "data": {
            "text/plain": [
              "'https://www.booking.com/hotel/fr/best-western-balmoral.fr.html'"
            ],
            "application/vnd.google.colaboratory.intrinsic+json": {
              "type": "string"
            }
          },
          "metadata": {}
        },
        {
          "output_type": "stream",
          "name": "stdout",
          "text": [
            "--------------------------------------------------------------------------------------------------------------------------------\n"
          ]
        },
        {
          "output_type": "display_data",
          "data": {
            "text/plain": [
              "'https://www.booking.com/hotel/fr/cartier.fr.html'"
            ],
            "application/vnd.google.colaboratory.intrinsic+json": {
              "type": "string"
            }
          },
          "metadata": {}
        },
        {
          "output_type": "stream",
          "name": "stdout",
          "text": [
            "--------------------------------------------------------------------------------------------------------------------------------\n"
          ]
        },
        {
          "output_type": "display_data",
          "data": {
            "text/plain": [
              "'https://www.booking.com/hotel/fr/ibis-styles-saint-malo-port.fr.html'"
            ],
            "application/vnd.google.colaboratory.intrinsic+json": {
              "type": "string"
            }
          },
          "metadata": {}
        },
        {
          "output_type": "stream",
          "name": "stdout",
          "text": [
            "--------------------------------------------------------------------------------------------------------------------------------\n"
          ]
        },
        {
          "output_type": "display_data",
          "data": {
            "text/plain": [
              "'https://www.booking.com/hotel/fr/etap-saint-malo-centre.fr.html'"
            ],
            "application/vnd.google.colaboratory.intrinsic+json": {
              "type": "string"
            }
          },
          "metadata": {}
        },
        {
          "output_type": "stream",
          "name": "stdout",
          "text": [
            "--------------------------------------------------------------------------------------------------------------------------------\n"
          ]
        },
        {
          "output_type": "display_data",
          "data": {
            "text/plain": [
              "'https://www.booking.com/hotel/fr/la-rotonde-st-malo.fr.html'"
            ],
            "application/vnd.google.colaboratory.intrinsic+json": {
              "type": "string"
            }
          },
          "metadata": {}
        },
        {
          "output_type": "stream",
          "name": "stdout",
          "text": [
            "--------------------------------------------------------------------------------------------------------------------------------\n"
          ]
        },
        {
          "output_type": "display_data",
          "data": {
            "text/plain": [
              "'https://www.booking.com/hotel/fr/all-seasons-saint-malo-centre-historique.fr.html'"
            ],
            "application/vnd.google.colaboratory.intrinsic+json": {
              "type": "string"
            }
          },
          "metadata": {}
        },
        {
          "output_type": "stream",
          "name": "stdout",
          "text": [
            "--------------------------------------------------------------------------------------------------------------------------------\n"
          ]
        },
        {
          "output_type": "display_data",
          "data": {
            "text/plain": [
              "'https://www.booking.com/hotel/fr/eden-saint-malo.fr.html'"
            ],
            "application/vnd.google.colaboratory.intrinsic+json": {
              "type": "string"
            }
          },
          "metadata": {}
        },
        {
          "output_type": "stream",
          "name": "stdout",
          "text": [
            "--------------------------------------------------------------------------------------------------------------------------------\n"
          ]
        },
        {
          "output_type": "display_data",
          "data": {
            "text/plain": [
              "'https://www.booking.com/hotel/fr/b-b-saint-malo.fr.html'"
            ],
            "application/vnd.google.colaboratory.intrinsic+json": {
              "type": "string"
            }
          },
          "metadata": {}
        },
        {
          "output_type": "stream",
          "name": "stdout",
          "text": [
            "--------------------------------------------------------------------------------------------------------------------------------\n"
          ]
        },
        {
          "output_type": "display_data",
          "data": {
            "text/plain": [
              "'https://www.booking.com/hotel/fr/le-nautilus.fr.html'"
            ],
            "application/vnd.google.colaboratory.intrinsic+json": {
              "type": "string"
            }
          },
          "metadata": {}
        },
        {
          "output_type": "stream",
          "name": "stdout",
          "text": [
            "--------------------------------------------------------------------------------------------------------------------------------\n"
          ]
        },
        {
          "output_type": "display_data",
          "data": {
            "text/plain": [
              "'https://www.booking.com/hotel/fr/sarl-porte-saint-pierre.fr.html'"
            ],
            "application/vnd.google.colaboratory.intrinsic+json": {
              "type": "string"
            }
          },
          "metadata": {}
        },
        {
          "output_type": "stream",
          "name": "stdout",
          "text": [
            "--------------------------------------------------------------------------------------------------------------------------------\n"
          ]
        },
        {
          "output_type": "display_data",
          "data": {
            "text/plain": [
              "'https://www.booking.com/hotel/fr/la-maison-des-armateurs.fr.html'"
            ],
            "application/vnd.google.colaboratory.intrinsic+json": {
              "type": "string"
            }
          },
          "metadata": {}
        },
        {
          "output_type": "stream",
          "name": "stdout",
          "text": [
            "--------------------------------------------------------------------------------------------------------------------------------\n"
          ]
        },
        {
          "output_type": "display_data",
          "data": {
            "text/plain": [
              "'https://www.booking.com/hotel/fr/le-croiseur.fr.html'"
            ],
            "application/vnd.google.colaboratory.intrinsic+json": {
              "type": "string"
            }
          },
          "metadata": {}
        },
        {
          "output_type": "stream",
          "name": "stdout",
          "text": [
            "--------------------------------------------------------------------------------------------------------------------------------\n"
          ]
        },
        {
          "output_type": "display_data",
          "data": {
            "text/plain": [
              "'https://www.booking.com/hotel/fr/bristol-union.fr.html'"
            ],
            "application/vnd.google.colaboratory.intrinsic+json": {
              "type": "string"
            }
          },
          "metadata": {}
        },
        {
          "output_type": "stream",
          "name": "stdout",
          "text": [
            "--------------------------------------------------------------------------------------------------------------------------------\n"
          ]
        },
        {
          "output_type": "display_data",
          "data": {
            "text/plain": [
              "'https://www.booking.com/hotel/fr/ajoncsdor.fr.html'"
            ],
            "application/vnd.google.colaboratory.intrinsic+json": {
              "type": "string"
            }
          },
          "metadata": {}
        },
        {
          "output_type": "stream",
          "name": "stdout",
          "text": [
            "--------------------------------------------------------------------------------------------------------------------------------\n"
          ]
        },
        {
          "output_type": "display_data",
          "data": {
            "text/plain": [
              "'https://www.booking.com/hotel/fr/bleumarinesaintmalo.fr.html'"
            ],
            "application/vnd.google.colaboratory.intrinsic+json": {
              "type": "string"
            }
          },
          "metadata": {}
        },
        {
          "output_type": "stream",
          "name": "stdout",
          "text": [
            "--------------------------------------------------------------------------------------------------------------------------------\n"
          ]
        },
        {
          "output_type": "display_data",
          "data": {
            "text/plain": [
              "'https://www.booking.com/hotel/fr/lavillefromoysainmalo.fr.html'"
            ],
            "application/vnd.google.colaboratory.intrinsic+json": {
              "type": "string"
            }
          },
          "metadata": {}
        },
        {
          "output_type": "stream",
          "name": "stdout",
          "text": [
            "--------------------------------------------------------------------------------------------------------------------------------\n"
          ]
        },
        {
          "output_type": "display_data",
          "data": {
            "text/plain": [
              "'https://www.booking.com/hotel/fr/ha-tel-le-nouveau-monde.fr.html'"
            ],
            "application/vnd.google.colaboratory.intrinsic+json": {
              "type": "string"
            }
          },
          "metadata": {}
        },
        {
          "output_type": "stream",
          "name": "stdout",
          "text": [
            "--------------------------------------------------------------------------------------------------------------------------------\n"
          ]
        },
        {
          "output_type": "display_data",
          "data": {
            "text/plain": [
              "'https://www.booking.com/hotel/fr/quic-en-groigne-saint-malo.fr.html'"
            ],
            "application/vnd.google.colaboratory.intrinsic+json": {
              "type": "string"
            }
          },
          "metadata": {}
        },
        {
          "output_type": "stream",
          "name": "stdout",
          "text": [
            "--------------------------------------------------------------------------------------------------------------------------------\n"
          ]
        },
        {
          "output_type": "display_data",
          "data": {
            "text/plain": [
              "'https://www.booking.com/hotel/fr/les-charmettes.fr.html'"
            ],
            "application/vnd.google.colaboratory.intrinsic+json": {
              "type": "string"
            }
          },
          "metadata": {}
        },
        {
          "output_type": "stream",
          "name": "stdout",
          "text": [
            "--------------------------------------------------------------------------------------------------------------------------------\n"
          ]
        },
        {
          "output_type": "display_data",
          "data": {
            "text/plain": [
              "'https://www.booking.com/hotel/fr/des-abers.fr.html'"
            ],
            "application/vnd.google.colaboratory.intrinsic+json": {
              "type": "string"
            }
          },
          "metadata": {}
        },
        {
          "output_type": "stream",
          "name": "stdout",
          "text": [
            "--------------------------------------------------------------------------------------------------------------------------------\n"
          ]
        },
        {
          "output_type": "display_data",
          "data": {
            "text/plain": [
              "'https://www.booking.com/hotel/fr/manoir-du-cunningham.fr.html'"
            ],
            "application/vnd.google.colaboratory.intrinsic+json": {
              "type": "string"
            }
          },
          "metadata": {}
        },
        {
          "output_type": "stream",
          "name": "stdout",
          "text": [
            "--------------------------------------------------------------------------------------------------------------------------------\n"
          ]
        },
        {
          "output_type": "display_data",
          "data": {
            "text/plain": [
              "'https://www.booking.com/hotel/fr/alba-saint-malo.fr.html'"
            ],
            "application/vnd.google.colaboratory.intrinsic+json": {
              "type": "string"
            }
          },
          "metadata": {}
        },
        {
          "output_type": "stream",
          "name": "stdout",
          "text": [
            "--------------------------------------------------------------------------------------------------------------------------------\n"
          ]
        },
        {
          "output_type": "display_data",
          "data": {
            "text/plain": [
              "'https://www.booking.com/hotel/fr/palais.fr.html'"
            ],
            "application/vnd.google.colaboratory.intrinsic+json": {
              "type": "string"
            }
          },
          "metadata": {}
        },
        {
          "output_type": "stream",
          "name": "stdout",
          "text": [
            "--------------------------------------------------------------------------------------------------------------------------------\n"
          ]
        },
        {
          "output_type": "display_data",
          "data": {
            "text/plain": [
              "'https://www.booking.com/hotel/fr/oceaniasaintmalo.fr.html'"
            ],
            "application/vnd.google.colaboratory.intrinsic+json": {
              "type": "string"
            }
          },
          "metadata": {}
        },
        {
          "output_type": "stream",
          "name": "stdout",
          "text": [
            "--------------------------------------------------------------------------------------------------------------------------------\n"
          ]
        },
        {
          "output_type": "stream",
          "name": "stderr",
          "text": [
            "<ipython-input-39-418cfa33beac>:50: SettingWithCopyWarning:\n",
            "\n",
            "\n",
            "A value is trying to be set on a copy of a slice from a DataFrame\n",
            "\n",
            "See the caveats in the documentation: https://pandas.pydata.org/pandas-docs/stable/user_guide/indexing.html#returning-a-view-versus-a-copy\n",
            "\n"
          ]
        },
        {
          "output_type": "display_data",
          "data": {
            "text/plain": [
              "'https://www.booking.com/hotel/fr/golden-tulip-saint-malo.fr.html'"
            ],
            "application/vnd.google.colaboratory.intrinsic+json": {
              "type": "string"
            }
          },
          "metadata": {}
        },
        {
          "output_type": "stream",
          "name": "stdout",
          "text": [
            "--------------------------------------------------------------------------------------------------------------------------------\n"
          ]
        },
        {
          "output_type": "display_data",
          "data": {
            "text/plain": [
              "'https://www.booking.com/hotel/fr/ajoncsdor.fr.html'"
            ],
            "application/vnd.google.colaboratory.intrinsic+json": {
              "type": "string"
            }
          },
          "metadata": {}
        },
        {
          "output_type": "stream",
          "name": "stdout",
          "text": [
            "--------------------------------------------------------------------------------------------------------------------------------\n"
          ]
        },
        {
          "output_type": "display_data",
          "data": {
            "text/plain": [
              "'https://www.booking.com/hotel/fr/d-aleth.fr.html'"
            ],
            "application/vnd.google.colaboratory.intrinsic+json": {
              "type": "string"
            }
          },
          "metadata": {}
        },
        {
          "output_type": "stream",
          "name": "stdout",
          "text": [
            "--------------------------------------------------------------------------------------------------------------------------------\n"
          ]
        },
        {
          "output_type": "display_data",
          "data": {
            "text/plain": [
              "'https://www.booking.com/hotel/fr/ker-annick.fr.html'"
            ],
            "application/vnd.google.colaboratory.intrinsic+json": {
              "type": "string"
            }
          },
          "metadata": {}
        },
        {
          "output_type": "stream",
          "name": "stdout",
          "text": [
            "--------------------------------------------------------------------------------------------------------------------------------\n",
            "Data is ready, moving on to the next one\n",
            "===============================================================================================================================\n"
          ]
        },
        {
          "output_type": "display_data",
          "data": {
            "text/plain": [
              "                                                names  \\\n",
              "0                                     Hôtel L'Adresse   \n",
              "1                         Mercure Saint Malo Balmoral   \n",
              "2                                       Hôtel Cartier   \n",
              "3                         ibis Styles Saint Malo Port   \n",
              "4                       ibis budget Saint Malo Centre   \n",
              "5                                          La Rotonde   \n",
              "6            ibis Styles Saint Malo Centre Historique   \n",
              "7                                          Hotel Eden   \n",
              "8                         B&B HOTEL Saint-Malo Centre   \n",
              "9                                   Hôtel Le Nautilus   \n",
              "10  Hôtel La Porte Saint Pierre-Logis Hôtel Intra ...   \n",
              "11                            La Maison des Armateurs   \n",
              "12                      Hotel Le Croiseur Intra Muros   \n",
              "13                    Hôtel Bristol Union Intra Muros   \n",
              "14                                  Hotel Ajoncs d'Or   \n",
              "15               Hotel Kyriad Saint Malo Centre Plage   \n",
              "16                               Hôtel La Villefromoy   \n",
              "17                             Hôtel Le Nouveau Monde   \n",
              "18                                    Quic En Groigne   \n",
              "19                                     Les Charmettes   \n",
              "20                                    Hotel des Abers   \n",
              "21                               Manoir Du Cunningham   \n",
              "22                                         Alba hotel   \n",
              "23                Logis Maison Vauban - Hotel St Malo   \n",
              "24                                 Oceania Saint Malo   \n",
              "25               Golden Tulip Saint Malo– Le Grand Bé   \n",
              "26                                  Hotel Ajoncs d'Or   \n",
              "27                                      Hotel d'Aleth   \n",
              "28                                         Ker Annick   \n",
              "\n",
              "                                                links    lat   lon  \\\n",
              "0    https://www.booking.com/hotel/fr/adresse.fr.html  48.62 -2.03   \n",
              "1   https://www.booking.com/hotel/fr/best-western-...  48.62 -2.03   \n",
              "2    https://www.booking.com/hotel/fr/cartier.fr.html  48.62 -2.03   \n",
              "3   https://www.booking.com/hotel/fr/ibis-styles-s...  48.62 -2.03   \n",
              "4   https://www.booking.com/hotel/fr/etap-saint-ma...  48.62 -2.03   \n",
              "5   https://www.booking.com/hotel/fr/la-rotonde-st...  48.62 -2.03   \n",
              "6   https://www.booking.com/hotel/fr/all-seasons-s...  48.62 -2.03   \n",
              "7   https://www.booking.com/hotel/fr/eden-saint-ma...  48.62 -2.03   \n",
              "8   https://www.booking.com/hotel/fr/b-b-saint-mal...  48.62 -2.03   \n",
              "9   https://www.booking.com/hotel/fr/le-nautilus.f...  48.62 -2.03   \n",
              "10  https://www.booking.com/hotel/fr/sarl-porte-sa...  48.62 -2.03   \n",
              "11  https://www.booking.com/hotel/fr/la-maison-des...  48.62 -2.03   \n",
              "12  https://www.booking.com/hotel/fr/le-croiseur.f...  48.62 -2.03   \n",
              "13  https://www.booking.com/hotel/fr/bristol-union...  48.62 -2.03   \n",
              "14  https://www.booking.com/hotel/fr/ajoncsdor.fr....  48.62 -2.03   \n",
              "15  https://www.booking.com/hotel/fr/bleumarinesai...  48.62 -2.03   \n",
              "16  https://www.booking.com/hotel/fr/lavillefromoy...  48.62 -2.03   \n",
              "17  https://www.booking.com/hotel/fr/ha-tel-le-nou...  48.62 -2.03   \n",
              "18  https://www.booking.com/hotel/fr/quic-en-groig...  48.62 -2.03   \n",
              "19  https://www.booking.com/hotel/fr/les-charmette...  48.62 -2.03   \n",
              "20  https://www.booking.com/hotel/fr/des-abers.fr....  48.62 -2.03   \n",
              "21  https://www.booking.com/hotel/fr/manoir-du-cun...  48.62 -2.03   \n",
              "22  https://www.booking.com/hotel/fr/alba-saint-ma...  48.62 -2.03   \n",
              "23    https://www.booking.com/hotel/fr/palais.fr.html  48.62 -2.03   \n",
              "24  https://www.booking.com/hotel/fr/oceaniasaintm...  48.62 -2.03   \n",
              "25  https://www.booking.com/hotel/fr/golden-tulip-...  48.62 -2.03   \n",
              "26  https://www.booking.com/hotel/fr/ajoncsdor.fr....  48.62 -2.03   \n",
              "27   https://www.booking.com/hotel/fr/d-aleth.fr.html  48.62 -2.03   \n",
              "28  https://www.booking.com/hotel/fr/ker-annick.fr...  48.62 -2.03   \n",
              "\n",
              "    hotel_note                                        description  \n",
              "0          8.7  Vous pouvez bénéficier d'une réduction Genius ...  \n",
              "1          8.2   Situé à Saint-Malo, en face de la gare et à 1...  \n",
              "2          8.1  Vous pouvez bénéficier d'une réduction Genius ...  \n",
              "3          7.7   Doté d'un snack-bar et d'une connexion Wi-Fi ...  \n",
              "4          7.5   Situé à 25 minutes à pied de la plage de Sain...  \n",
              "5          7.6  Vous pouvez bénéficier d'une réduction Genius ...  \n",
              "6          7.7   L'ibis Styles Saint-Malo Centre Historique es...  \n",
              "7          7.2  Vous pouvez bénéficier d'une réduction Genius ...  \n",
              "8          7.0   Le B&B HOTEL Saint-Malo Centre est situé à Sa...  \n",
              "9          9.1   L'Hôtel Le Nautilus occupe un bâtiment rénové...  \n",
              "10         8.6  Vous pouvez bénéficier d'une réduction Genius ...  \n",
              "11         8.5   Situé dans le centre historique de Saint-Malo...  \n",
              "12         8.4  Vous pouvez bénéficier d'une réduction Genius ...  \n",
              "13         8.7   L’Hôtel Bristol Union Intra Muros est situé a...  \n",
              "14         8.4   L'hôtel Ajoncs d'Or se situe au cœur des remp...  \n",
              "15         8.1   Le Kyriad Hôtel Saint-Malo Plage est situé en...  \n",
              "16         8.9  Vous pouvez bénéficier d'une réduction Genius ...  \n",
              "17         8.8   L'Hôtel Le Nouveau Monde est situé en bord de...  \n",
              "18         8.7   Le Quic En Groigne bénéficie d'un emplacement...  \n",
              "19         8.7  Vous pouvez bénéficier d'une réduction Genius ...  \n",
              "20         8.7   Occupant un bâtiment construit au XVIe siècle...  \n",
              "21         8.7   Le Manoir Du Cunningham datant du XVIIe siècl...  \n",
              "22         8.5   L'Alba hotel est situé à Saint-Malo, en face ...  \n",
              "23         8.4  Vous pouvez bénéficier d'une réduction Genius ...  \n",
              "24         8.3  Vous pouvez bénéficier d'une réduction Genius ...  \n",
              "25         8.7   Le Golden Tulip Saint Malo– Le Grand Bé est s...  \n",
              "26         8.4   L'hôtel Ajoncs d'Or se situe au cœur des remp...  \n",
              "27         7.7   Situé en face du port des Bas Sablons, l'Hote...  \n",
              "28         7.8   Situé à Saint-Malo, à moins de 1 km de la pla...  "
            ],
            "text/html": [
              "\n",
              "  <div id=\"df-7b3bf3a1-7c67-4b73-be80-e38f0ffb7607\">\n",
              "    <div class=\"colab-df-container\">\n",
              "      <div>\n",
              "<style scoped>\n",
              "    .dataframe tbody tr th:only-of-type {\n",
              "        vertical-align: middle;\n",
              "    }\n",
              "\n",
              "    .dataframe tbody tr th {\n",
              "        vertical-align: top;\n",
              "    }\n",
              "\n",
              "    .dataframe thead th {\n",
              "        text-align: right;\n",
              "    }\n",
              "</style>\n",
              "<table border=\"1\" class=\"dataframe\">\n",
              "  <thead>\n",
              "    <tr style=\"text-align: right;\">\n",
              "      <th></th>\n",
              "      <th>names</th>\n",
              "      <th>links</th>\n",
              "      <th>lat</th>\n",
              "      <th>lon</th>\n",
              "      <th>hotel_note</th>\n",
              "      <th>description</th>\n",
              "    </tr>\n",
              "  </thead>\n",
              "  <tbody>\n",
              "    <tr>\n",
              "      <th>0</th>\n",
              "      <td>Hôtel L'Adresse</td>\n",
              "      <td>https://www.booking.com/hotel/fr/adresse.fr.html</td>\n",
              "      <td>48.62</td>\n",
              "      <td>-2.03</td>\n",
              "      <td>8.7</td>\n",
              "      <td>Vous pouvez bénéficier d'une réduction Genius ...</td>\n",
              "    </tr>\n",
              "    <tr>\n",
              "      <th>1</th>\n",
              "      <td>Mercure Saint Malo Balmoral</td>\n",
              "      <td>https://www.booking.com/hotel/fr/best-western-...</td>\n",
              "      <td>48.62</td>\n",
              "      <td>-2.03</td>\n",
              "      <td>8.2</td>\n",
              "      <td>Situé à Saint-Malo, en face de la gare et à 1...</td>\n",
              "    </tr>\n",
              "    <tr>\n",
              "      <th>2</th>\n",
              "      <td>Hôtel Cartier</td>\n",
              "      <td>https://www.booking.com/hotel/fr/cartier.fr.html</td>\n",
              "      <td>48.62</td>\n",
              "      <td>-2.03</td>\n",
              "      <td>8.1</td>\n",
              "      <td>Vous pouvez bénéficier d'une réduction Genius ...</td>\n",
              "    </tr>\n",
              "    <tr>\n",
              "      <th>3</th>\n",
              "      <td>ibis Styles Saint Malo Port</td>\n",
              "      <td>https://www.booking.com/hotel/fr/ibis-styles-s...</td>\n",
              "      <td>48.62</td>\n",
              "      <td>-2.03</td>\n",
              "      <td>7.7</td>\n",
              "      <td>Doté d'un snack-bar et d'une connexion Wi-Fi ...</td>\n",
              "    </tr>\n",
              "    <tr>\n",
              "      <th>4</th>\n",
              "      <td>ibis budget Saint Malo Centre</td>\n",
              "      <td>https://www.booking.com/hotel/fr/etap-saint-ma...</td>\n",
              "      <td>48.62</td>\n",
              "      <td>-2.03</td>\n",
              "      <td>7.5</td>\n",
              "      <td>Situé à 25 minutes à pied de la plage de Sain...</td>\n",
              "    </tr>\n",
              "    <tr>\n",
              "      <th>5</th>\n",
              "      <td>La Rotonde</td>\n",
              "      <td>https://www.booking.com/hotel/fr/la-rotonde-st...</td>\n",
              "      <td>48.62</td>\n",
              "      <td>-2.03</td>\n",
              "      <td>7.6</td>\n",
              "      <td>Vous pouvez bénéficier d'une réduction Genius ...</td>\n",
              "    </tr>\n",
              "    <tr>\n",
              "      <th>6</th>\n",
              "      <td>ibis Styles Saint Malo Centre Historique</td>\n",
              "      <td>https://www.booking.com/hotel/fr/all-seasons-s...</td>\n",
              "      <td>48.62</td>\n",
              "      <td>-2.03</td>\n",
              "      <td>7.7</td>\n",
              "      <td>L'ibis Styles Saint-Malo Centre Historique es...</td>\n",
              "    </tr>\n",
              "    <tr>\n",
              "      <th>7</th>\n",
              "      <td>Hotel Eden</td>\n",
              "      <td>https://www.booking.com/hotel/fr/eden-saint-ma...</td>\n",
              "      <td>48.62</td>\n",
              "      <td>-2.03</td>\n",
              "      <td>7.2</td>\n",
              "      <td>Vous pouvez bénéficier d'une réduction Genius ...</td>\n",
              "    </tr>\n",
              "    <tr>\n",
              "      <th>8</th>\n",
              "      <td>B&amp;B HOTEL Saint-Malo Centre</td>\n",
              "      <td>https://www.booking.com/hotel/fr/b-b-saint-mal...</td>\n",
              "      <td>48.62</td>\n",
              "      <td>-2.03</td>\n",
              "      <td>7.0</td>\n",
              "      <td>Le B&amp;B HOTEL Saint-Malo Centre est situé à Sa...</td>\n",
              "    </tr>\n",
              "    <tr>\n",
              "      <th>9</th>\n",
              "      <td>Hôtel Le Nautilus</td>\n",
              "      <td>https://www.booking.com/hotel/fr/le-nautilus.f...</td>\n",
              "      <td>48.62</td>\n",
              "      <td>-2.03</td>\n",
              "      <td>9.1</td>\n",
              "      <td>L'Hôtel Le Nautilus occupe un bâtiment rénové...</td>\n",
              "    </tr>\n",
              "    <tr>\n",
              "      <th>10</th>\n",
              "      <td>Hôtel La Porte Saint Pierre-Logis Hôtel Intra ...</td>\n",
              "      <td>https://www.booking.com/hotel/fr/sarl-porte-sa...</td>\n",
              "      <td>48.62</td>\n",
              "      <td>-2.03</td>\n",
              "      <td>8.6</td>\n",
              "      <td>Vous pouvez bénéficier d'une réduction Genius ...</td>\n",
              "    </tr>\n",
              "    <tr>\n",
              "      <th>11</th>\n",
              "      <td>La Maison des Armateurs</td>\n",
              "      <td>https://www.booking.com/hotel/fr/la-maison-des...</td>\n",
              "      <td>48.62</td>\n",
              "      <td>-2.03</td>\n",
              "      <td>8.5</td>\n",
              "      <td>Situé dans le centre historique de Saint-Malo...</td>\n",
              "    </tr>\n",
              "    <tr>\n",
              "      <th>12</th>\n",
              "      <td>Hotel Le Croiseur Intra Muros</td>\n",
              "      <td>https://www.booking.com/hotel/fr/le-croiseur.f...</td>\n",
              "      <td>48.62</td>\n",
              "      <td>-2.03</td>\n",
              "      <td>8.4</td>\n",
              "      <td>Vous pouvez bénéficier d'une réduction Genius ...</td>\n",
              "    </tr>\n",
              "    <tr>\n",
              "      <th>13</th>\n",
              "      <td>Hôtel Bristol Union Intra Muros</td>\n",
              "      <td>https://www.booking.com/hotel/fr/bristol-union...</td>\n",
              "      <td>48.62</td>\n",
              "      <td>-2.03</td>\n",
              "      <td>8.7</td>\n",
              "      <td>L’Hôtel Bristol Union Intra Muros est situé a...</td>\n",
              "    </tr>\n",
              "    <tr>\n",
              "      <th>14</th>\n",
              "      <td>Hotel Ajoncs d'Or</td>\n",
              "      <td>https://www.booking.com/hotel/fr/ajoncsdor.fr....</td>\n",
              "      <td>48.62</td>\n",
              "      <td>-2.03</td>\n",
              "      <td>8.4</td>\n",
              "      <td>L'hôtel Ajoncs d'Or se situe au cœur des remp...</td>\n",
              "    </tr>\n",
              "    <tr>\n",
              "      <th>15</th>\n",
              "      <td>Hotel Kyriad Saint Malo Centre Plage</td>\n",
              "      <td>https://www.booking.com/hotel/fr/bleumarinesai...</td>\n",
              "      <td>48.62</td>\n",
              "      <td>-2.03</td>\n",
              "      <td>8.1</td>\n",
              "      <td>Le Kyriad Hôtel Saint-Malo Plage est situé en...</td>\n",
              "    </tr>\n",
              "    <tr>\n",
              "      <th>16</th>\n",
              "      <td>Hôtel La Villefromoy</td>\n",
              "      <td>https://www.booking.com/hotel/fr/lavillefromoy...</td>\n",
              "      <td>48.62</td>\n",
              "      <td>-2.03</td>\n",
              "      <td>8.9</td>\n",
              "      <td>Vous pouvez bénéficier d'une réduction Genius ...</td>\n",
              "    </tr>\n",
              "    <tr>\n",
              "      <th>17</th>\n",
              "      <td>Hôtel Le Nouveau Monde</td>\n",
              "      <td>https://www.booking.com/hotel/fr/ha-tel-le-nou...</td>\n",
              "      <td>48.62</td>\n",
              "      <td>-2.03</td>\n",
              "      <td>8.8</td>\n",
              "      <td>L'Hôtel Le Nouveau Monde est situé en bord de...</td>\n",
              "    </tr>\n",
              "    <tr>\n",
              "      <th>18</th>\n",
              "      <td>Quic En Groigne</td>\n",
              "      <td>https://www.booking.com/hotel/fr/quic-en-groig...</td>\n",
              "      <td>48.62</td>\n",
              "      <td>-2.03</td>\n",
              "      <td>8.7</td>\n",
              "      <td>Le Quic En Groigne bénéficie d'un emplacement...</td>\n",
              "    </tr>\n",
              "    <tr>\n",
              "      <th>19</th>\n",
              "      <td>Les Charmettes</td>\n",
              "      <td>https://www.booking.com/hotel/fr/les-charmette...</td>\n",
              "      <td>48.62</td>\n",
              "      <td>-2.03</td>\n",
              "      <td>8.7</td>\n",
              "      <td>Vous pouvez bénéficier d'une réduction Genius ...</td>\n",
              "    </tr>\n",
              "    <tr>\n",
              "      <th>20</th>\n",
              "      <td>Hotel des Abers</td>\n",
              "      <td>https://www.booking.com/hotel/fr/des-abers.fr....</td>\n",
              "      <td>48.62</td>\n",
              "      <td>-2.03</td>\n",
              "      <td>8.7</td>\n",
              "      <td>Occupant un bâtiment construit au XVIe siècle...</td>\n",
              "    </tr>\n",
              "    <tr>\n",
              "      <th>21</th>\n",
              "      <td>Manoir Du Cunningham</td>\n",
              "      <td>https://www.booking.com/hotel/fr/manoir-du-cun...</td>\n",
              "      <td>48.62</td>\n",
              "      <td>-2.03</td>\n",
              "      <td>8.7</td>\n",
              "      <td>Le Manoir Du Cunningham datant du XVIIe siècl...</td>\n",
              "    </tr>\n",
              "    <tr>\n",
              "      <th>22</th>\n",
              "      <td>Alba hotel</td>\n",
              "      <td>https://www.booking.com/hotel/fr/alba-saint-ma...</td>\n",
              "      <td>48.62</td>\n",
              "      <td>-2.03</td>\n",
              "      <td>8.5</td>\n",
              "      <td>L'Alba hotel est situé à Saint-Malo, en face ...</td>\n",
              "    </tr>\n",
              "    <tr>\n",
              "      <th>23</th>\n",
              "      <td>Logis Maison Vauban - Hotel St Malo</td>\n",
              "      <td>https://www.booking.com/hotel/fr/palais.fr.html</td>\n",
              "      <td>48.62</td>\n",
              "      <td>-2.03</td>\n",
              "      <td>8.4</td>\n",
              "      <td>Vous pouvez bénéficier d'une réduction Genius ...</td>\n",
              "    </tr>\n",
              "    <tr>\n",
              "      <th>24</th>\n",
              "      <td>Oceania Saint Malo</td>\n",
              "      <td>https://www.booking.com/hotel/fr/oceaniasaintm...</td>\n",
              "      <td>48.62</td>\n",
              "      <td>-2.03</td>\n",
              "      <td>8.3</td>\n",
              "      <td>Vous pouvez bénéficier d'une réduction Genius ...</td>\n",
              "    </tr>\n",
              "    <tr>\n",
              "      <th>25</th>\n",
              "      <td>Golden Tulip Saint Malo– Le Grand Bé</td>\n",
              "      <td>https://www.booking.com/hotel/fr/golden-tulip-...</td>\n",
              "      <td>48.62</td>\n",
              "      <td>-2.03</td>\n",
              "      <td>8.7</td>\n",
              "      <td>Le Golden Tulip Saint Malo– Le Grand Bé est s...</td>\n",
              "    </tr>\n",
              "    <tr>\n",
              "      <th>26</th>\n",
              "      <td>Hotel Ajoncs d'Or</td>\n",
              "      <td>https://www.booking.com/hotel/fr/ajoncsdor.fr....</td>\n",
              "      <td>48.62</td>\n",
              "      <td>-2.03</td>\n",
              "      <td>8.4</td>\n",
              "      <td>L'hôtel Ajoncs d'Or se situe au cœur des remp...</td>\n",
              "    </tr>\n",
              "    <tr>\n",
              "      <th>27</th>\n",
              "      <td>Hotel d'Aleth</td>\n",
              "      <td>https://www.booking.com/hotel/fr/d-aleth.fr.html</td>\n",
              "      <td>48.62</td>\n",
              "      <td>-2.03</td>\n",
              "      <td>7.7</td>\n",
              "      <td>Situé en face du port des Bas Sablons, l'Hote...</td>\n",
              "    </tr>\n",
              "    <tr>\n",
              "      <th>28</th>\n",
              "      <td>Ker Annick</td>\n",
              "      <td>https://www.booking.com/hotel/fr/ker-annick.fr...</td>\n",
              "      <td>48.62</td>\n",
              "      <td>-2.03</td>\n",
              "      <td>7.8</td>\n",
              "      <td>Situé à Saint-Malo, à moins de 1 km de la pla...</td>\n",
              "    </tr>\n",
              "  </tbody>\n",
              "</table>\n",
              "</div>\n",
              "      <button class=\"colab-df-convert\" onclick=\"convertToInteractive('df-7b3bf3a1-7c67-4b73-be80-e38f0ffb7607')\"\n",
              "              title=\"Convert this dataframe to an interactive table.\"\n",
              "              style=\"display:none;\">\n",
              "        \n",
              "  <svg xmlns=\"http://www.w3.org/2000/svg\" height=\"24px\"viewBox=\"0 0 24 24\"\n",
              "       width=\"24px\">\n",
              "    <path d=\"M0 0h24v24H0V0z\" fill=\"none\"/>\n",
              "    <path d=\"M18.56 5.44l.94 2.06.94-2.06 2.06-.94-2.06-.94-.94-2.06-.94 2.06-2.06.94zm-11 1L8.5 8.5l.94-2.06 2.06-.94-2.06-.94L8.5 2.5l-.94 2.06-2.06.94zm10 10l.94 2.06.94-2.06 2.06-.94-2.06-.94-.94-2.06-.94 2.06-2.06.94z\"/><path d=\"M17.41 7.96l-1.37-1.37c-.4-.4-.92-.59-1.43-.59-.52 0-1.04.2-1.43.59L10.3 9.45l-7.72 7.72c-.78.78-.78 2.05 0 2.83L4 21.41c.39.39.9.59 1.41.59.51 0 1.02-.2 1.41-.59l7.78-7.78 2.81-2.81c.8-.78.8-2.07 0-2.86zM5.41 20L4 18.59l7.72-7.72 1.47 1.35L5.41 20z\"/>\n",
              "  </svg>\n",
              "      </button>\n",
              "      \n",
              "  <style>\n",
              "    .colab-df-container {\n",
              "      display:flex;\n",
              "      flex-wrap:wrap;\n",
              "      gap: 12px;\n",
              "    }\n",
              "\n",
              "    .colab-df-convert {\n",
              "      background-color: #E8F0FE;\n",
              "      border: none;\n",
              "      border-radius: 50%;\n",
              "      cursor: pointer;\n",
              "      display: none;\n",
              "      fill: #1967D2;\n",
              "      height: 32px;\n",
              "      padding: 0 0 0 0;\n",
              "      width: 32px;\n",
              "    }\n",
              "\n",
              "    .colab-df-convert:hover {\n",
              "      background-color: #E2EBFA;\n",
              "      box-shadow: 0px 1px 2px rgba(60, 64, 67, 0.3), 0px 1px 3px 1px rgba(60, 64, 67, 0.15);\n",
              "      fill: #174EA6;\n",
              "    }\n",
              "\n",
              "    [theme=dark] .colab-df-convert {\n",
              "      background-color: #3B4455;\n",
              "      fill: #D2E3FC;\n",
              "    }\n",
              "\n",
              "    [theme=dark] .colab-df-convert:hover {\n",
              "      background-color: #434B5C;\n",
              "      box-shadow: 0px 1px 3px 1px rgba(0, 0, 0, 0.15);\n",
              "      filter: drop-shadow(0px 1px 2px rgba(0, 0, 0, 0.3));\n",
              "      fill: #FFFFFF;\n",
              "    }\n",
              "  </style>\n",
              "\n",
              "      <script>\n",
              "        const buttonEl =\n",
              "          document.querySelector('#df-7b3bf3a1-7c67-4b73-be80-e38f0ffb7607 button.colab-df-convert');\n",
              "        buttonEl.style.display =\n",
              "          google.colab.kernel.accessAllowed ? 'block' : 'none';\n",
              "\n",
              "        async function convertToInteractive(key) {\n",
              "          const element = document.querySelector('#df-7b3bf3a1-7c67-4b73-be80-e38f0ffb7607');\n",
              "          const dataTable =\n",
              "            await google.colab.kernel.invokeFunction('convertToInteractive',\n",
              "                                                     [key], {});\n",
              "          if (!dataTable) return;\n",
              "\n",
              "          const docLinkHtml = 'Like what you see? Visit the ' +\n",
              "            '<a target=\"_blank\" href=https://colab.research.google.com/notebooks/data_table.ipynb>data table notebook</a>'\n",
              "            + ' to learn more about interactive tables.';\n",
              "          element.innerHTML = '';\n",
              "          dataTable['output_type'] = 'display_data';\n",
              "          await google.colab.output.renderOutput(dataTable, element);\n",
              "          const docLink = document.createElement('div');\n",
              "          docLink.innerHTML = docLinkHtml;\n",
              "          element.appendChild(docLink);\n",
              "        }\n",
              "      </script>\n",
              "    </div>\n",
              "  </div>\n",
              "  "
            ]
          },
          "metadata": {}
        },
        {
          "output_type": "display_data",
          "data": {
            "text/plain": [
              "'https://www.booking.com/hotel/fr/de-la-digue.fr.html'"
            ],
            "application/vnd.google.colaboratory.intrinsic+json": {
              "type": "string"
            }
          },
          "metadata": {}
        },
        {
          "output_type": "stream",
          "name": "stdout",
          "text": [
            "--------------------------------------------------------------------------------------------------------------------------------\n"
          ]
        },
        {
          "output_type": "stream",
          "name": "stderr",
          "text": [
            "<ipython-input-39-418cfa33beac>:50: SettingWithCopyWarning:\n",
            "\n",
            "\n",
            "A value is trying to be set on a copy of a slice from a DataFrame\n",
            "\n",
            "See the caveats in the documentation: https://pandas.pydata.org/pandas-docs/stable/user_guide/indexing.html#returning-a-view-versus-a-copy\n",
            "\n"
          ]
        },
        {
          "output_type": "display_data",
          "data": {
            "text/plain": [
              "'https://www.booking.com/hotel/fr/ha-el-la-croix-blanche.fr.html'"
            ],
            "application/vnd.google.colaboratory.intrinsic+json": {
              "type": "string"
            }
          },
          "metadata": {}
        },
        {
          "output_type": "stream",
          "name": "stdout",
          "text": [
            "--------------------------------------------------------------------------------------------------------------------------------\n"
          ]
        },
        {
          "output_type": "display_data",
          "data": {
            "text/plain": [
              "'https://www.booking.com/hotel/fr/vert.fr.html'"
            ],
            "application/vnd.google.colaboratory.intrinsic+json": {
              "type": "string"
            }
          },
          "metadata": {}
        },
        {
          "output_type": "stream",
          "name": "stdout",
          "text": [
            "--------------------------------------------------------------------------------------------------------------------------------\n"
          ]
        },
        {
          "output_type": "display_data",
          "data": {
            "text/plain": [
              "'https://www.booking.com/hotel/fr/le-relais-saint-michel.fr.html'"
            ],
            "application/vnd.google.colaboratory.intrinsic+json": {
              "type": "string"
            }
          },
          "metadata": {}
        },
        {
          "output_type": "stream",
          "name": "stdout",
          "text": [
            "--------------------------------------------------------------------------------------------------------------------------------\n"
          ]
        },
        {
          "output_type": "display_data",
          "data": {
            "text/plain": [
              "'https://www.booking.com/hotel/fr/le-relais-du-roy.fr.html'"
            ],
            "application/vnd.google.colaboratory.intrinsic+json": {
              "type": "string"
            }
          },
          "metadata": {}
        },
        {
          "output_type": "stream",
          "name": "stdout",
          "text": [
            "--------------------------------------------------------------------------------------------------------------------------------\n"
          ]
        },
        {
          "output_type": "display_data",
          "data": {
            "text/plain": [
              "'https://www.booking.com/hotel/fr/les-terrasses-poulard.fr.html'"
            ],
            "application/vnd.google.colaboratory.intrinsic+json": {
              "type": "string"
            }
          },
          "metadata": {}
        },
        {
          "output_type": "stream",
          "name": "stdout",
          "text": [
            "--------------------------------------------------------------------------------------------------------------------------------\n"
          ]
        },
        {
          "output_type": "display_data",
          "data": {
            "text/plain": [
              "'https://www.booking.com/hotel/fr/auberge-saint-pierre.fr.html'"
            ],
            "application/vnd.google.colaboratory.intrinsic+json": {
              "type": "string"
            }
          },
          "metadata": {}
        },
        {
          "output_type": "stream",
          "name": "stdout",
          "text": [
            "--------------------------------------------------------------------------------------------------------------------------------\n"
          ]
        },
        {
          "output_type": "display_data",
          "data": {
            "text/plain": [
              "'https://www.booking.com/hotel/fr/la-vieille-auberge-le-mont-saint-michel.fr.html'"
            ],
            "application/vnd.google.colaboratory.intrinsic+json": {
              "type": "string"
            }
          },
          "metadata": {}
        },
        {
          "output_type": "stream",
          "name": "stdout",
          "text": [
            "--------------------------------------------------------------------------------------------------------------------------------\n"
          ]
        },
        {
          "output_type": "display_data",
          "data": {
            "text/plain": [
              "'https://www.booking.com/hotel/fr/la-mere-poulard.fr.html'"
            ],
            "application/vnd.google.colaboratory.intrinsic+json": {
              "type": "string"
            }
          },
          "metadata": {}
        },
        {
          "output_type": "stream",
          "name": "stdout",
          "text": [
            "--------------------------------------------------------------------------------------------------------------------------------\n",
            "Data is ready, moving on to the next one\n",
            "===============================================================================================================================\n"
          ]
        },
        {
          "output_type": "display_data",
          "data": {
            "text/plain": [
              "                    names                                              links  \\\n",
              "0       Hotel De La Digue  https://www.booking.com/hotel/fr/de-la-digue.f...   \n",
              "1  Hôtel la Croix Blanche  https://www.booking.com/hotel/fr/ha-el-la-croi...   \n",
              "2              Hôtel Vert      https://www.booking.com/hotel/fr/vert.fr.html   \n",
              "3  Le Relais Saint Michel  https://www.booking.com/hotel/fr/le-relais-sai...   \n",
              "4        Le Relais Du Roy  https://www.booking.com/hotel/fr/le-relais-du-...   \n",
              "5   Les Terrasses Poulard  https://www.booking.com/hotel/fr/les-terrasses...   \n",
              "6    Auberge Saint Pierre  https://www.booking.com/hotel/fr/auberge-saint...   \n",
              "7      La Vieille Auberge  https://www.booking.com/hotel/fr/la-vieille-au...   \n",
              "8         La Mère Poulard  https://www.booking.com/hotel/fr/la-mere-poula...   \n",
              "\n",
              "     lat   lon  hotel_note                                        description  \n",
              "0  48.61 -1.53         7.1   L'hôtel De La Digue est un établissement trad...  \n",
              "1  48.61 -1.53         7.7   Situé au cœur du village médiéval du Mont-Sai...  \n",
              "2  48.61 -1.53         8.0  Vous pouvez bénéficier d'une réduction Genius ...  \n",
              "3  48.61 -1.53         7.9  Vous pouvez bénéficier d'une réduction Genius ...  \n",
              "4  48.61 -1.53         8.0  Vous pouvez bénéficier d'une réduction Genius ...  \n",
              "5  48.61 -1.53         7.3  Vous pouvez bénéficier d'une réduction Genius ...  \n",
              "6  48.61 -1.53         7.9   L'Auberge Saint-Pierre occupe une maison à co...  \n",
              "7  48.61 -1.53         7.2   La Vieille Auberge vous accueille dans le vil...  \n",
              "8  48.61 -1.53         7.1  Vous pouvez bénéficier d'une réduction Genius ...  "
            ],
            "text/html": [
              "\n",
              "  <div id=\"df-8c555d1b-c019-470c-b4e6-27a72815b845\">\n",
              "    <div class=\"colab-df-container\">\n",
              "      <div>\n",
              "<style scoped>\n",
              "    .dataframe tbody tr th:only-of-type {\n",
              "        vertical-align: middle;\n",
              "    }\n",
              "\n",
              "    .dataframe tbody tr th {\n",
              "        vertical-align: top;\n",
              "    }\n",
              "\n",
              "    .dataframe thead th {\n",
              "        text-align: right;\n",
              "    }\n",
              "</style>\n",
              "<table border=\"1\" class=\"dataframe\">\n",
              "  <thead>\n",
              "    <tr style=\"text-align: right;\">\n",
              "      <th></th>\n",
              "      <th>names</th>\n",
              "      <th>links</th>\n",
              "      <th>lat</th>\n",
              "      <th>lon</th>\n",
              "      <th>hotel_note</th>\n",
              "      <th>description</th>\n",
              "    </tr>\n",
              "  </thead>\n",
              "  <tbody>\n",
              "    <tr>\n",
              "      <th>0</th>\n",
              "      <td>Hotel De La Digue</td>\n",
              "      <td>https://www.booking.com/hotel/fr/de-la-digue.f...</td>\n",
              "      <td>48.61</td>\n",
              "      <td>-1.53</td>\n",
              "      <td>7.1</td>\n",
              "      <td>L'hôtel De La Digue est un établissement trad...</td>\n",
              "    </tr>\n",
              "    <tr>\n",
              "      <th>1</th>\n",
              "      <td>Hôtel la Croix Blanche</td>\n",
              "      <td>https://www.booking.com/hotel/fr/ha-el-la-croi...</td>\n",
              "      <td>48.61</td>\n",
              "      <td>-1.53</td>\n",
              "      <td>7.7</td>\n",
              "      <td>Situé au cœur du village médiéval du Mont-Sai...</td>\n",
              "    </tr>\n",
              "    <tr>\n",
              "      <th>2</th>\n",
              "      <td>Hôtel Vert</td>\n",
              "      <td>https://www.booking.com/hotel/fr/vert.fr.html</td>\n",
              "      <td>48.61</td>\n",
              "      <td>-1.53</td>\n",
              "      <td>8.0</td>\n",
              "      <td>Vous pouvez bénéficier d'une réduction Genius ...</td>\n",
              "    </tr>\n",
              "    <tr>\n",
              "      <th>3</th>\n",
              "      <td>Le Relais Saint Michel</td>\n",
              "      <td>https://www.booking.com/hotel/fr/le-relais-sai...</td>\n",
              "      <td>48.61</td>\n",
              "      <td>-1.53</td>\n",
              "      <td>7.9</td>\n",
              "      <td>Vous pouvez bénéficier d'une réduction Genius ...</td>\n",
              "    </tr>\n",
              "    <tr>\n",
              "      <th>4</th>\n",
              "      <td>Le Relais Du Roy</td>\n",
              "      <td>https://www.booking.com/hotel/fr/le-relais-du-...</td>\n",
              "      <td>48.61</td>\n",
              "      <td>-1.53</td>\n",
              "      <td>8.0</td>\n",
              "      <td>Vous pouvez bénéficier d'une réduction Genius ...</td>\n",
              "    </tr>\n",
              "    <tr>\n",
              "      <th>5</th>\n",
              "      <td>Les Terrasses Poulard</td>\n",
              "      <td>https://www.booking.com/hotel/fr/les-terrasses...</td>\n",
              "      <td>48.61</td>\n",
              "      <td>-1.53</td>\n",
              "      <td>7.3</td>\n",
              "      <td>Vous pouvez bénéficier d'une réduction Genius ...</td>\n",
              "    </tr>\n",
              "    <tr>\n",
              "      <th>6</th>\n",
              "      <td>Auberge Saint Pierre</td>\n",
              "      <td>https://www.booking.com/hotel/fr/auberge-saint...</td>\n",
              "      <td>48.61</td>\n",
              "      <td>-1.53</td>\n",
              "      <td>7.9</td>\n",
              "      <td>L'Auberge Saint-Pierre occupe une maison à co...</td>\n",
              "    </tr>\n",
              "    <tr>\n",
              "      <th>7</th>\n",
              "      <td>La Vieille Auberge</td>\n",
              "      <td>https://www.booking.com/hotel/fr/la-vieille-au...</td>\n",
              "      <td>48.61</td>\n",
              "      <td>-1.53</td>\n",
              "      <td>7.2</td>\n",
              "      <td>La Vieille Auberge vous accueille dans le vil...</td>\n",
              "    </tr>\n",
              "    <tr>\n",
              "      <th>8</th>\n",
              "      <td>La Mère Poulard</td>\n",
              "      <td>https://www.booking.com/hotel/fr/la-mere-poula...</td>\n",
              "      <td>48.61</td>\n",
              "      <td>-1.53</td>\n",
              "      <td>7.1</td>\n",
              "      <td>Vous pouvez bénéficier d'une réduction Genius ...</td>\n",
              "    </tr>\n",
              "  </tbody>\n",
              "</table>\n",
              "</div>\n",
              "      <button class=\"colab-df-convert\" onclick=\"convertToInteractive('df-8c555d1b-c019-470c-b4e6-27a72815b845')\"\n",
              "              title=\"Convert this dataframe to an interactive table.\"\n",
              "              style=\"display:none;\">\n",
              "        \n",
              "  <svg xmlns=\"http://www.w3.org/2000/svg\" height=\"24px\"viewBox=\"0 0 24 24\"\n",
              "       width=\"24px\">\n",
              "    <path d=\"M0 0h24v24H0V0z\" fill=\"none\"/>\n",
              "    <path d=\"M18.56 5.44l.94 2.06.94-2.06 2.06-.94-2.06-.94-.94-2.06-.94 2.06-2.06.94zm-11 1L8.5 8.5l.94-2.06 2.06-.94-2.06-.94L8.5 2.5l-.94 2.06-2.06.94zm10 10l.94 2.06.94-2.06 2.06-.94-2.06-.94-.94-2.06-.94 2.06-2.06.94z\"/><path d=\"M17.41 7.96l-1.37-1.37c-.4-.4-.92-.59-1.43-.59-.52 0-1.04.2-1.43.59L10.3 9.45l-7.72 7.72c-.78.78-.78 2.05 0 2.83L4 21.41c.39.39.9.59 1.41.59.51 0 1.02-.2 1.41-.59l7.78-7.78 2.81-2.81c.8-.78.8-2.07 0-2.86zM5.41 20L4 18.59l7.72-7.72 1.47 1.35L5.41 20z\"/>\n",
              "  </svg>\n",
              "      </button>\n",
              "      \n",
              "  <style>\n",
              "    .colab-df-container {\n",
              "      display:flex;\n",
              "      flex-wrap:wrap;\n",
              "      gap: 12px;\n",
              "    }\n",
              "\n",
              "    .colab-df-convert {\n",
              "      background-color: #E8F0FE;\n",
              "      border: none;\n",
              "      border-radius: 50%;\n",
              "      cursor: pointer;\n",
              "      display: none;\n",
              "      fill: #1967D2;\n",
              "      height: 32px;\n",
              "      padding: 0 0 0 0;\n",
              "      width: 32px;\n",
              "    }\n",
              "\n",
              "    .colab-df-convert:hover {\n",
              "      background-color: #E2EBFA;\n",
              "      box-shadow: 0px 1px 2px rgba(60, 64, 67, 0.3), 0px 1px 3px 1px rgba(60, 64, 67, 0.15);\n",
              "      fill: #174EA6;\n",
              "    }\n",
              "\n",
              "    [theme=dark] .colab-df-convert {\n",
              "      background-color: #3B4455;\n",
              "      fill: #D2E3FC;\n",
              "    }\n",
              "\n",
              "    [theme=dark] .colab-df-convert:hover {\n",
              "      background-color: #434B5C;\n",
              "      box-shadow: 0px 1px 3px 1px rgba(0, 0, 0, 0.15);\n",
              "      filter: drop-shadow(0px 1px 2px rgba(0, 0, 0, 0.3));\n",
              "      fill: #FFFFFF;\n",
              "    }\n",
              "  </style>\n",
              "\n",
              "      <script>\n",
              "        const buttonEl =\n",
              "          document.querySelector('#df-8c555d1b-c019-470c-b4e6-27a72815b845 button.colab-df-convert');\n",
              "        buttonEl.style.display =\n",
              "          google.colab.kernel.accessAllowed ? 'block' : 'none';\n",
              "\n",
              "        async function convertToInteractive(key) {\n",
              "          const element = document.querySelector('#df-8c555d1b-c019-470c-b4e6-27a72815b845');\n",
              "          const dataTable =\n",
              "            await google.colab.kernel.invokeFunction('convertToInteractive',\n",
              "                                                     [key], {});\n",
              "          if (!dataTable) return;\n",
              "\n",
              "          const docLinkHtml = 'Like what you see? Visit the ' +\n",
              "            '<a target=\"_blank\" href=https://colab.research.google.com/notebooks/data_table.ipynb>data table notebook</a>'\n",
              "            + ' to learn more about interactive tables.';\n",
              "          element.innerHTML = '';\n",
              "          dataTable['output_type'] = 'display_data';\n",
              "          await google.colab.output.renderOutput(dataTable, element);\n",
              "          const docLink = document.createElement('div');\n",
              "          docLink.innerHTML = docLinkHtml;\n",
              "          element.appendChild(docLink);\n",
              "        }\n",
              "      </script>\n",
              "    </div>\n",
              "  </div>\n",
              "  "
            ]
          },
          "metadata": {}
        },
        {
          "output_type": "stream",
          "name": "stdout",
          "text": [
            "Final Data:\n"
          ]
        },
        {
          "output_type": "display_data",
          "data": {
            "text/plain": [
              "                    names                                              links  \\\n",
              "0         Le Basile Hôtel    https://www.booking.com/hotel/fr/basile.fr.html   \n",
              "1        Hôtel de Roubaix  https://www.booking.com/hotel/fr/de-roubaix.fr...   \n",
              "2     Hôtel Le Presbytère  https://www.booking.com/hotel/fr/hotel-le-pres...   \n",
              "3             Le 12 Hôtel  https://www.booking.com/hotel/fr/hotel-le-12.f...   \n",
              "4   Hotel Malte - Astotel  https://www.booking.com/hotel/fr/malteopera.fr...   \n",
              "..                    ...                                                ...   \n",
              "4        Le Relais Du Roy  https://www.booking.com/hotel/fr/le-relais-du-...   \n",
              "5   Les Terrasses Poulard  https://www.booking.com/hotel/fr/les-terrasses...   \n",
              "6    Auberge Saint Pierre  https://www.booking.com/hotel/fr/auberge-saint...   \n",
              "7      La Vieille Auberge  https://www.booking.com/hotel/fr/la-vieille-au...   \n",
              "8         La Mère Poulard  https://www.booking.com/hotel/fr/la-mere-poula...   \n",
              "\n",
              "      lat    lon  hotel_note  \\\n",
              "0   48.84  2.325         9.0   \n",
              "1   48.84  2.325         9.0   \n",
              "2   48.84  2.325         9.3   \n",
              "3   48.84  2.325         9.0   \n",
              "4   48.84  2.325         9.1   \n",
              "..    ...    ...         ...   \n",
              "4   48.61 -1.530         8.0   \n",
              "5   48.61 -1.530         7.3   \n",
              "6   48.61 -1.530         7.9   \n",
              "7   48.61 -1.530         7.2   \n",
              "8   48.61 -1.530         7.1   \n",
              "\n",
              "                                          description  \n",
              "0   Vous pouvez bénéficier d'une réduction Genius ...  \n",
              "1   Vous pouvez bénéficier d'une réduction Genius ...  \n",
              "2   Vous pouvez bénéficier d'une réduction Genius ...  \n",
              "3   Vous pouvez bénéficier d'une réduction Genius ...  \n",
              "4    L’Hotel Malte - Astotel est implanté dans un ...  \n",
              "..                                                ...  \n",
              "4   Vous pouvez bénéficier d'une réduction Genius ...  \n",
              "5   Vous pouvez bénéficier d'une réduction Genius ...  \n",
              "6    L'Auberge Saint-Pierre occupe une maison à co...  \n",
              "7    La Vieille Auberge vous accueille dans le vil...  \n",
              "8   Vous pouvez bénéficier d'une réduction Genius ...  \n",
              "\n",
              "[84 rows x 6 columns]"
            ],
            "text/html": [
              "\n",
              "  <div id=\"df-002b3349-e091-49d1-98a1-6e4715fd0b48\">\n",
              "    <div class=\"colab-df-container\">\n",
              "      <div>\n",
              "<style scoped>\n",
              "    .dataframe tbody tr th:only-of-type {\n",
              "        vertical-align: middle;\n",
              "    }\n",
              "\n",
              "    .dataframe tbody tr th {\n",
              "        vertical-align: top;\n",
              "    }\n",
              "\n",
              "    .dataframe thead th {\n",
              "        text-align: right;\n",
              "    }\n",
              "</style>\n",
              "<table border=\"1\" class=\"dataframe\">\n",
              "  <thead>\n",
              "    <tr style=\"text-align: right;\">\n",
              "      <th></th>\n",
              "      <th>names</th>\n",
              "      <th>links</th>\n",
              "      <th>lat</th>\n",
              "      <th>lon</th>\n",
              "      <th>hotel_note</th>\n",
              "      <th>description</th>\n",
              "    </tr>\n",
              "  </thead>\n",
              "  <tbody>\n",
              "    <tr>\n",
              "      <th>0</th>\n",
              "      <td>Le Basile Hôtel</td>\n",
              "      <td>https://www.booking.com/hotel/fr/basile.fr.html</td>\n",
              "      <td>48.84</td>\n",
              "      <td>2.325</td>\n",
              "      <td>9.0</td>\n",
              "      <td>Vous pouvez bénéficier d'une réduction Genius ...</td>\n",
              "    </tr>\n",
              "    <tr>\n",
              "      <th>1</th>\n",
              "      <td>Hôtel de Roubaix</td>\n",
              "      <td>https://www.booking.com/hotel/fr/de-roubaix.fr...</td>\n",
              "      <td>48.84</td>\n",
              "      <td>2.325</td>\n",
              "      <td>9.0</td>\n",
              "      <td>Vous pouvez bénéficier d'une réduction Genius ...</td>\n",
              "    </tr>\n",
              "    <tr>\n",
              "      <th>2</th>\n",
              "      <td>Hôtel Le Presbytère</td>\n",
              "      <td>https://www.booking.com/hotel/fr/hotel-le-pres...</td>\n",
              "      <td>48.84</td>\n",
              "      <td>2.325</td>\n",
              "      <td>9.3</td>\n",
              "      <td>Vous pouvez bénéficier d'une réduction Genius ...</td>\n",
              "    </tr>\n",
              "    <tr>\n",
              "      <th>3</th>\n",
              "      <td>Le 12 Hôtel</td>\n",
              "      <td>https://www.booking.com/hotel/fr/hotel-le-12.f...</td>\n",
              "      <td>48.84</td>\n",
              "      <td>2.325</td>\n",
              "      <td>9.0</td>\n",
              "      <td>Vous pouvez bénéficier d'une réduction Genius ...</td>\n",
              "    </tr>\n",
              "    <tr>\n",
              "      <th>4</th>\n",
              "      <td>Hotel Malte - Astotel</td>\n",
              "      <td>https://www.booking.com/hotel/fr/malteopera.fr...</td>\n",
              "      <td>48.84</td>\n",
              "      <td>2.325</td>\n",
              "      <td>9.1</td>\n",
              "      <td>L’Hotel Malte - Astotel est implanté dans un ...</td>\n",
              "    </tr>\n",
              "    <tr>\n",
              "      <th>...</th>\n",
              "      <td>...</td>\n",
              "      <td>...</td>\n",
              "      <td>...</td>\n",
              "      <td>...</td>\n",
              "      <td>...</td>\n",
              "      <td>...</td>\n",
              "    </tr>\n",
              "    <tr>\n",
              "      <th>4</th>\n",
              "      <td>Le Relais Du Roy</td>\n",
              "      <td>https://www.booking.com/hotel/fr/le-relais-du-...</td>\n",
              "      <td>48.61</td>\n",
              "      <td>-1.530</td>\n",
              "      <td>8.0</td>\n",
              "      <td>Vous pouvez bénéficier d'une réduction Genius ...</td>\n",
              "    </tr>\n",
              "    <tr>\n",
              "      <th>5</th>\n",
              "      <td>Les Terrasses Poulard</td>\n",
              "      <td>https://www.booking.com/hotel/fr/les-terrasses...</td>\n",
              "      <td>48.61</td>\n",
              "      <td>-1.530</td>\n",
              "      <td>7.3</td>\n",
              "      <td>Vous pouvez bénéficier d'une réduction Genius ...</td>\n",
              "    </tr>\n",
              "    <tr>\n",
              "      <th>6</th>\n",
              "      <td>Auberge Saint Pierre</td>\n",
              "      <td>https://www.booking.com/hotel/fr/auberge-saint...</td>\n",
              "      <td>48.61</td>\n",
              "      <td>-1.530</td>\n",
              "      <td>7.9</td>\n",
              "      <td>L'Auberge Saint-Pierre occupe une maison à co...</td>\n",
              "    </tr>\n",
              "    <tr>\n",
              "      <th>7</th>\n",
              "      <td>La Vieille Auberge</td>\n",
              "      <td>https://www.booking.com/hotel/fr/la-vieille-au...</td>\n",
              "      <td>48.61</td>\n",
              "      <td>-1.530</td>\n",
              "      <td>7.2</td>\n",
              "      <td>La Vieille Auberge vous accueille dans le vil...</td>\n",
              "    </tr>\n",
              "    <tr>\n",
              "      <th>8</th>\n",
              "      <td>La Mère Poulard</td>\n",
              "      <td>https://www.booking.com/hotel/fr/la-mere-poula...</td>\n",
              "      <td>48.61</td>\n",
              "      <td>-1.530</td>\n",
              "      <td>7.1</td>\n",
              "      <td>Vous pouvez bénéficier d'une réduction Genius ...</td>\n",
              "    </tr>\n",
              "  </tbody>\n",
              "</table>\n",
              "<p>84 rows × 6 columns</p>\n",
              "</div>\n",
              "      <button class=\"colab-df-convert\" onclick=\"convertToInteractive('df-002b3349-e091-49d1-98a1-6e4715fd0b48')\"\n",
              "              title=\"Convert this dataframe to an interactive table.\"\n",
              "              style=\"display:none;\">\n",
              "        \n",
              "  <svg xmlns=\"http://www.w3.org/2000/svg\" height=\"24px\"viewBox=\"0 0 24 24\"\n",
              "       width=\"24px\">\n",
              "    <path d=\"M0 0h24v24H0V0z\" fill=\"none\"/>\n",
              "    <path d=\"M18.56 5.44l.94 2.06.94-2.06 2.06-.94-2.06-.94-.94-2.06-.94 2.06-2.06.94zm-11 1L8.5 8.5l.94-2.06 2.06-.94-2.06-.94L8.5 2.5l-.94 2.06-2.06.94zm10 10l.94 2.06.94-2.06 2.06-.94-2.06-.94-.94-2.06-.94 2.06-2.06.94z\"/><path d=\"M17.41 7.96l-1.37-1.37c-.4-.4-.92-.59-1.43-.59-.52 0-1.04.2-1.43.59L10.3 9.45l-7.72 7.72c-.78.78-.78 2.05 0 2.83L4 21.41c.39.39.9.59 1.41.59.51 0 1.02-.2 1.41-.59l7.78-7.78 2.81-2.81c.8-.78.8-2.07 0-2.86zM5.41 20L4 18.59l7.72-7.72 1.47 1.35L5.41 20z\"/>\n",
              "  </svg>\n",
              "      </button>\n",
              "      \n",
              "  <style>\n",
              "    .colab-df-container {\n",
              "      display:flex;\n",
              "      flex-wrap:wrap;\n",
              "      gap: 12px;\n",
              "    }\n",
              "\n",
              "    .colab-df-convert {\n",
              "      background-color: #E8F0FE;\n",
              "      border: none;\n",
              "      border-radius: 50%;\n",
              "      cursor: pointer;\n",
              "      display: none;\n",
              "      fill: #1967D2;\n",
              "      height: 32px;\n",
              "      padding: 0 0 0 0;\n",
              "      width: 32px;\n",
              "    }\n",
              "\n",
              "    .colab-df-convert:hover {\n",
              "      background-color: #E2EBFA;\n",
              "      box-shadow: 0px 1px 2px rgba(60, 64, 67, 0.3), 0px 1px 3px 1px rgba(60, 64, 67, 0.15);\n",
              "      fill: #174EA6;\n",
              "    }\n",
              "\n",
              "    [theme=dark] .colab-df-convert {\n",
              "      background-color: #3B4455;\n",
              "      fill: #D2E3FC;\n",
              "    }\n",
              "\n",
              "    [theme=dark] .colab-df-convert:hover {\n",
              "      background-color: #434B5C;\n",
              "      box-shadow: 0px 1px 3px 1px rgba(0, 0, 0, 0.15);\n",
              "      filter: drop-shadow(0px 1px 2px rgba(0, 0, 0, 0.3));\n",
              "      fill: #FFFFFF;\n",
              "    }\n",
              "  </style>\n",
              "\n",
              "      <script>\n",
              "        const buttonEl =\n",
              "          document.querySelector('#df-002b3349-e091-49d1-98a1-6e4715fd0b48 button.colab-df-convert');\n",
              "        buttonEl.style.display =\n",
              "          google.colab.kernel.accessAllowed ? 'block' : 'none';\n",
              "\n",
              "        async function convertToInteractive(key) {\n",
              "          const element = document.querySelector('#df-002b3349-e091-49d1-98a1-6e4715fd0b48');\n",
              "          const dataTable =\n",
              "            await google.colab.kernel.invokeFunction('convertToInteractive',\n",
              "                                                     [key], {});\n",
              "          if (!dataTable) return;\n",
              "\n",
              "          const docLinkHtml = 'Like what you see? Visit the ' +\n",
              "            '<a target=\"_blank\" href=https://colab.research.google.com/notebooks/data_table.ipynb>data table notebook</a>'\n",
              "            + ' to learn more about interactive tables.';\n",
              "          element.innerHTML = '';\n",
              "          dataTable['output_type'] = 'display_data';\n",
              "          await google.colab.output.renderOutput(dataTable, element);\n",
              "          const docLink = document.createElement('div');\n",
              "          docLink.innerHTML = docLinkHtml;\n",
              "          element.appendChild(docLink);\n",
              "        }\n",
              "      </script>\n",
              "    </div>\n",
              "  </div>\n",
              "  "
            ]
          },
          "metadata": {}
        }
      ]
    },
    {
      "cell_type": "code",
      "source": [
        "df2.to_csv('bookingfinal.csv', index=False, encoding='utf-8')"
      ],
      "metadata": {
        "id": "_OzbA1w8vsIC"
      },
      "execution_count": 74,
      "outputs": []
    },
    {
      "cell_type": "code",
      "source": [
        "# Group  by city and select the top hotels\n",
        "top_hotels = df2.groupby(['lat','lon']).apply(lambda x: x.nlargest(5, 'hotel_note')).reset_index(drop=True)\n",
        "top_hotels"
      ],
      "metadata": {
        "colab": {
          "base_uri": "https://localhost:8080/",
          "height": 833
        },
        "id": "xDHbVMn_GC_p",
        "outputId": "fc01eab8-e2f7-4cc7-e161-8adecce601d1"
      },
      "execution_count": 70,
      "outputs": [
        {
          "output_type": "execute_result",
          "data": {
            "text/plain": [
              "                                                names  \\\n",
              "0                                          Hôtel Vert   \n",
              "1                                    Le Relais Du Roy   \n",
              "2                              Le Relais Saint Michel   \n",
              "3                                Auberge Saint Pierre   \n",
              "4                              Hôtel la Croix Blanche   \n",
              "5                                   Hôtel Le Nautilus   \n",
              "6                                Hôtel La Villefromoy   \n",
              "7                              Hôtel Le Nouveau Monde   \n",
              "8                                     Hôtel L'Adresse   \n",
              "9                     Hôtel Bristol Union Intra Muros   \n",
              "10   Cheval Blanc Paris & Dior Spa Cheval Blanc Paris   \n",
              "11                                Hôtel Le Presbytère   \n",
              "12                            Les Rives de Notre-Dame   \n",
              "13                                    Millésime Hôtel   \n",
              "14                              Hotel Malte - Astotel   \n",
              "15                                  Domaine de Bayeux   \n",
              "16  Hotel Le Lion D'Or et Restaurant La Table Du Lion   \n",
              "17                               Hotel Reine Mathilde   \n",
              "18                           Hôtel De Brunville & Spa   \n",
              "19                           Château de Bellefontaine   \n",
              "20                  Hilton Garden Inn Le Havre Centre   \n",
              "21                   Hotel de Charme La Bonne Adresse   \n",
              "22              Holiday Inn Express - Le Havre Centre   \n",
              "23         Mercure Le Havre Centre Bassin Du Commerce   \n",
              "24                               Eklo Hotels Le Havre   \n",
              "\n",
              "                                                links    lat    lon  \\\n",
              "0       https://www.booking.com/hotel/fr/vert.fr.html  48.61 -1.530   \n",
              "1   https://www.booking.com/hotel/fr/le-relais-du-...  48.61 -1.530   \n",
              "2   https://www.booking.com/hotel/fr/le-relais-sai...  48.61 -1.530   \n",
              "3   https://www.booking.com/hotel/fr/auberge-saint...  48.61 -1.530   \n",
              "4   https://www.booking.com/hotel/fr/ha-el-la-croi...  48.61 -1.530   \n",
              "5   https://www.booking.com/hotel/fr/le-nautilus.f...  48.62 -2.030   \n",
              "6   https://www.booking.com/hotel/fr/lavillefromoy...  48.62 -2.030   \n",
              "7   https://www.booking.com/hotel/fr/ha-tel-le-nou...  48.62 -2.030   \n",
              "8    https://www.booking.com/hotel/fr/adresse.fr.html  48.62 -2.030   \n",
              "9   https://www.booking.com/hotel/fr/bristol-union...  48.62 -2.030   \n",
              "10  https://www.booking.com/hotel/fr/cheval-blanc-...  48.84  2.325   \n",
              "11  https://www.booking.com/hotel/fr/hotel-le-pres...  48.84  2.325   \n",
              "12  https://www.booking.com/hotel/fr/les-rives-de-...  48.84  2.325   \n",
              "13  https://www.booking.com/hotel/fr/millesime-par...  48.84  2.325   \n",
              "14  https://www.booking.com/hotel/fr/malteopera.fr...  48.84  2.325   \n",
              "15  https://www.booking.com/hotel/fr/domaine-de-ba...  49.25 -0.720   \n",
              "16  https://www.booking.com/hotel/fr/le-lion-d-or-...  49.25 -0.720   \n",
              "17  https://www.booking.com/hotel/fr/reine-mathild...  49.25 -0.720   \n",
              "18  https://www.booking.com/hotel/fr/hoteldebrunvi...  49.25 -0.720   \n",
              "19  https://www.booking.com/hotel/fr/chateau-de-be...  49.25 -0.720   \n",
              "20  https://www.booking.com/hotel/fr/hilton-garden...  49.48  0.101   \n",
              "21  https://www.booking.com/hotel/fr/des-phares.fr...  49.48  0.101   \n",
              "22  https://www.booking.com/hotel/fr/campanile-le-...  49.48  0.101   \n",
              "23  https://www.booking.com/hotel/fr/mercure-bassi...  49.48  0.101   \n",
              "24  https://www.booking.com/hotel/fr/eklo-hotels-l...  49.48  0.101   \n",
              "\n",
              "    hotel_note                                        description  \n",
              "0          8.0  Vous pouvez bénéficier d'une réduction Genius ...  \n",
              "1          8.0  Vous pouvez bénéficier d'une réduction Genius ...  \n",
              "2          7.9  Vous pouvez bénéficier d'une réduction Genius ...  \n",
              "3          7.9   L'Auberge Saint-Pierre occupe une maison à co...  \n",
              "4          7.7   Situé au cœur du village médiéval du Mont-Sai...  \n",
              "5          9.1   L'Hôtel Le Nautilus occupe un bâtiment rénové...  \n",
              "6          8.9  Vous pouvez bénéficier d'une réduction Genius ...  \n",
              "7          8.8   L'Hôtel Le Nouveau Monde est situé en bord de...  \n",
              "8          8.7  Vous pouvez bénéficier d'une réduction Genius ...  \n",
              "9          8.7   L’Hôtel Bristol Union Intra Muros est situé a...  \n",
              "10         9.5   Doté d’un bar, le Cheval Blanc Paris & Dior S...  \n",
              "11         9.3  Vous pouvez bénéficier d'une réduction Genius ...  \n",
              "12         9.3   Situé dans le Quartier Latin, en face de la S...  \n",
              "13         9.2   Situé au cœur du quartier de Saint-Germain-de...  \n",
              "14         9.1   L’Hotel Malte - Astotel est implanté dans un ...  \n",
              "15         9.1   Le Domaine de Bayeux occupe une maison du XVI...  \n",
              "16         8.8   Occupant un ancien bureau de poste du XVIIIe ...  \n",
              "17         8.4   L'hôtel Reine Mathilde se situe dans le quart...  \n",
              "18         8.1  Vous pouvez bénéficier d'une réduction Genius ...  \n",
              "19         8.1   À 800 mètres du centre de Bayeux et de sa cat...  \n",
              "20         8.7   Le Hilton Garden Inn Le Havre Centre est situ...  \n",
              "21         8.3  Vous pouvez bénéficier d'une réduction Genius ...  \n",
              "22         8.2   L’Holiday Inn Express - Le Havre Centre, situ...  \n",
              "23         7.6  Vous pouvez bénéficier d'une réduction Genius ...  \n",
              "24         5.9   L’Eklo Hotels Le Havre est un établissement d...  "
            ],
            "text/html": [
              "\n",
              "  <div id=\"df-69e62c87-3e35-45cf-831b-bceda99f7793\">\n",
              "    <div class=\"colab-df-container\">\n",
              "      <div>\n",
              "<style scoped>\n",
              "    .dataframe tbody tr th:only-of-type {\n",
              "        vertical-align: middle;\n",
              "    }\n",
              "\n",
              "    .dataframe tbody tr th {\n",
              "        vertical-align: top;\n",
              "    }\n",
              "\n",
              "    .dataframe thead th {\n",
              "        text-align: right;\n",
              "    }\n",
              "</style>\n",
              "<table border=\"1\" class=\"dataframe\">\n",
              "  <thead>\n",
              "    <tr style=\"text-align: right;\">\n",
              "      <th></th>\n",
              "      <th>names</th>\n",
              "      <th>links</th>\n",
              "      <th>lat</th>\n",
              "      <th>lon</th>\n",
              "      <th>hotel_note</th>\n",
              "      <th>description</th>\n",
              "    </tr>\n",
              "  </thead>\n",
              "  <tbody>\n",
              "    <tr>\n",
              "      <th>0</th>\n",
              "      <td>Hôtel Vert</td>\n",
              "      <td>https://www.booking.com/hotel/fr/vert.fr.html</td>\n",
              "      <td>48.61</td>\n",
              "      <td>-1.530</td>\n",
              "      <td>8.0</td>\n",
              "      <td>Vous pouvez bénéficier d'une réduction Genius ...</td>\n",
              "    </tr>\n",
              "    <tr>\n",
              "      <th>1</th>\n",
              "      <td>Le Relais Du Roy</td>\n",
              "      <td>https://www.booking.com/hotel/fr/le-relais-du-...</td>\n",
              "      <td>48.61</td>\n",
              "      <td>-1.530</td>\n",
              "      <td>8.0</td>\n",
              "      <td>Vous pouvez bénéficier d'une réduction Genius ...</td>\n",
              "    </tr>\n",
              "    <tr>\n",
              "      <th>2</th>\n",
              "      <td>Le Relais Saint Michel</td>\n",
              "      <td>https://www.booking.com/hotel/fr/le-relais-sai...</td>\n",
              "      <td>48.61</td>\n",
              "      <td>-1.530</td>\n",
              "      <td>7.9</td>\n",
              "      <td>Vous pouvez bénéficier d'une réduction Genius ...</td>\n",
              "    </tr>\n",
              "    <tr>\n",
              "      <th>3</th>\n",
              "      <td>Auberge Saint Pierre</td>\n",
              "      <td>https://www.booking.com/hotel/fr/auberge-saint...</td>\n",
              "      <td>48.61</td>\n",
              "      <td>-1.530</td>\n",
              "      <td>7.9</td>\n",
              "      <td>L'Auberge Saint-Pierre occupe une maison à co...</td>\n",
              "    </tr>\n",
              "    <tr>\n",
              "      <th>4</th>\n",
              "      <td>Hôtel la Croix Blanche</td>\n",
              "      <td>https://www.booking.com/hotel/fr/ha-el-la-croi...</td>\n",
              "      <td>48.61</td>\n",
              "      <td>-1.530</td>\n",
              "      <td>7.7</td>\n",
              "      <td>Situé au cœur du village médiéval du Mont-Sai...</td>\n",
              "    </tr>\n",
              "    <tr>\n",
              "      <th>5</th>\n",
              "      <td>Hôtel Le Nautilus</td>\n",
              "      <td>https://www.booking.com/hotel/fr/le-nautilus.f...</td>\n",
              "      <td>48.62</td>\n",
              "      <td>-2.030</td>\n",
              "      <td>9.1</td>\n",
              "      <td>L'Hôtel Le Nautilus occupe un bâtiment rénové...</td>\n",
              "    </tr>\n",
              "    <tr>\n",
              "      <th>6</th>\n",
              "      <td>Hôtel La Villefromoy</td>\n",
              "      <td>https://www.booking.com/hotel/fr/lavillefromoy...</td>\n",
              "      <td>48.62</td>\n",
              "      <td>-2.030</td>\n",
              "      <td>8.9</td>\n",
              "      <td>Vous pouvez bénéficier d'une réduction Genius ...</td>\n",
              "    </tr>\n",
              "    <tr>\n",
              "      <th>7</th>\n",
              "      <td>Hôtel Le Nouveau Monde</td>\n",
              "      <td>https://www.booking.com/hotel/fr/ha-tel-le-nou...</td>\n",
              "      <td>48.62</td>\n",
              "      <td>-2.030</td>\n",
              "      <td>8.8</td>\n",
              "      <td>L'Hôtel Le Nouveau Monde est situé en bord de...</td>\n",
              "    </tr>\n",
              "    <tr>\n",
              "      <th>8</th>\n",
              "      <td>Hôtel L'Adresse</td>\n",
              "      <td>https://www.booking.com/hotel/fr/adresse.fr.html</td>\n",
              "      <td>48.62</td>\n",
              "      <td>-2.030</td>\n",
              "      <td>8.7</td>\n",
              "      <td>Vous pouvez bénéficier d'une réduction Genius ...</td>\n",
              "    </tr>\n",
              "    <tr>\n",
              "      <th>9</th>\n",
              "      <td>Hôtel Bristol Union Intra Muros</td>\n",
              "      <td>https://www.booking.com/hotel/fr/bristol-union...</td>\n",
              "      <td>48.62</td>\n",
              "      <td>-2.030</td>\n",
              "      <td>8.7</td>\n",
              "      <td>L’Hôtel Bristol Union Intra Muros est situé a...</td>\n",
              "    </tr>\n",
              "    <tr>\n",
              "      <th>10</th>\n",
              "      <td>Cheval Blanc Paris &amp; Dior Spa Cheval Blanc Paris</td>\n",
              "      <td>https://www.booking.com/hotel/fr/cheval-blanc-...</td>\n",
              "      <td>48.84</td>\n",
              "      <td>2.325</td>\n",
              "      <td>9.5</td>\n",
              "      <td>Doté d’un bar, le Cheval Blanc Paris &amp; Dior S...</td>\n",
              "    </tr>\n",
              "    <tr>\n",
              "      <th>11</th>\n",
              "      <td>Hôtel Le Presbytère</td>\n",
              "      <td>https://www.booking.com/hotel/fr/hotel-le-pres...</td>\n",
              "      <td>48.84</td>\n",
              "      <td>2.325</td>\n",
              "      <td>9.3</td>\n",
              "      <td>Vous pouvez bénéficier d'une réduction Genius ...</td>\n",
              "    </tr>\n",
              "    <tr>\n",
              "      <th>12</th>\n",
              "      <td>Les Rives de Notre-Dame</td>\n",
              "      <td>https://www.booking.com/hotel/fr/les-rives-de-...</td>\n",
              "      <td>48.84</td>\n",
              "      <td>2.325</td>\n",
              "      <td>9.3</td>\n",
              "      <td>Situé dans le Quartier Latin, en face de la S...</td>\n",
              "    </tr>\n",
              "    <tr>\n",
              "      <th>13</th>\n",
              "      <td>Millésime Hôtel</td>\n",
              "      <td>https://www.booking.com/hotel/fr/millesime-par...</td>\n",
              "      <td>48.84</td>\n",
              "      <td>2.325</td>\n",
              "      <td>9.2</td>\n",
              "      <td>Situé au cœur du quartier de Saint-Germain-de...</td>\n",
              "    </tr>\n",
              "    <tr>\n",
              "      <th>14</th>\n",
              "      <td>Hotel Malte - Astotel</td>\n",
              "      <td>https://www.booking.com/hotel/fr/malteopera.fr...</td>\n",
              "      <td>48.84</td>\n",
              "      <td>2.325</td>\n",
              "      <td>9.1</td>\n",
              "      <td>L’Hotel Malte - Astotel est implanté dans un ...</td>\n",
              "    </tr>\n",
              "    <tr>\n",
              "      <th>15</th>\n",
              "      <td>Domaine de Bayeux</td>\n",
              "      <td>https://www.booking.com/hotel/fr/domaine-de-ba...</td>\n",
              "      <td>49.25</td>\n",
              "      <td>-0.720</td>\n",
              "      <td>9.1</td>\n",
              "      <td>Le Domaine de Bayeux occupe une maison du XVI...</td>\n",
              "    </tr>\n",
              "    <tr>\n",
              "      <th>16</th>\n",
              "      <td>Hotel Le Lion D'Or et Restaurant La Table Du Lion</td>\n",
              "      <td>https://www.booking.com/hotel/fr/le-lion-d-or-...</td>\n",
              "      <td>49.25</td>\n",
              "      <td>-0.720</td>\n",
              "      <td>8.8</td>\n",
              "      <td>Occupant un ancien bureau de poste du XVIIIe ...</td>\n",
              "    </tr>\n",
              "    <tr>\n",
              "      <th>17</th>\n",
              "      <td>Hotel Reine Mathilde</td>\n",
              "      <td>https://www.booking.com/hotel/fr/reine-mathild...</td>\n",
              "      <td>49.25</td>\n",
              "      <td>-0.720</td>\n",
              "      <td>8.4</td>\n",
              "      <td>L'hôtel Reine Mathilde se situe dans le quart...</td>\n",
              "    </tr>\n",
              "    <tr>\n",
              "      <th>18</th>\n",
              "      <td>Hôtel De Brunville &amp; Spa</td>\n",
              "      <td>https://www.booking.com/hotel/fr/hoteldebrunvi...</td>\n",
              "      <td>49.25</td>\n",
              "      <td>-0.720</td>\n",
              "      <td>8.1</td>\n",
              "      <td>Vous pouvez bénéficier d'une réduction Genius ...</td>\n",
              "    </tr>\n",
              "    <tr>\n",
              "      <th>19</th>\n",
              "      <td>Château de Bellefontaine</td>\n",
              "      <td>https://www.booking.com/hotel/fr/chateau-de-be...</td>\n",
              "      <td>49.25</td>\n",
              "      <td>-0.720</td>\n",
              "      <td>8.1</td>\n",
              "      <td>À 800 mètres du centre de Bayeux et de sa cat...</td>\n",
              "    </tr>\n",
              "    <tr>\n",
              "      <th>20</th>\n",
              "      <td>Hilton Garden Inn Le Havre Centre</td>\n",
              "      <td>https://www.booking.com/hotel/fr/hilton-garden...</td>\n",
              "      <td>49.48</td>\n",
              "      <td>0.101</td>\n",
              "      <td>8.7</td>\n",
              "      <td>Le Hilton Garden Inn Le Havre Centre est situ...</td>\n",
              "    </tr>\n",
              "    <tr>\n",
              "      <th>21</th>\n",
              "      <td>Hotel de Charme La Bonne Adresse</td>\n",
              "      <td>https://www.booking.com/hotel/fr/des-phares.fr...</td>\n",
              "      <td>49.48</td>\n",
              "      <td>0.101</td>\n",
              "      <td>8.3</td>\n",
              "      <td>Vous pouvez bénéficier d'une réduction Genius ...</td>\n",
              "    </tr>\n",
              "    <tr>\n",
              "      <th>22</th>\n",
              "      <td>Holiday Inn Express - Le Havre Centre</td>\n",
              "      <td>https://www.booking.com/hotel/fr/campanile-le-...</td>\n",
              "      <td>49.48</td>\n",
              "      <td>0.101</td>\n",
              "      <td>8.2</td>\n",
              "      <td>L’Holiday Inn Express - Le Havre Centre, situ...</td>\n",
              "    </tr>\n",
              "    <tr>\n",
              "      <th>23</th>\n",
              "      <td>Mercure Le Havre Centre Bassin Du Commerce</td>\n",
              "      <td>https://www.booking.com/hotel/fr/mercure-bassi...</td>\n",
              "      <td>49.48</td>\n",
              "      <td>0.101</td>\n",
              "      <td>7.6</td>\n",
              "      <td>Vous pouvez bénéficier d'une réduction Genius ...</td>\n",
              "    </tr>\n",
              "    <tr>\n",
              "      <th>24</th>\n",
              "      <td>Eklo Hotels Le Havre</td>\n",
              "      <td>https://www.booking.com/hotel/fr/eklo-hotels-l...</td>\n",
              "      <td>49.48</td>\n",
              "      <td>0.101</td>\n",
              "      <td>5.9</td>\n",
              "      <td>L’Eklo Hotels Le Havre est un établissement d...</td>\n",
              "    </tr>\n",
              "  </tbody>\n",
              "</table>\n",
              "</div>\n",
              "      <button class=\"colab-df-convert\" onclick=\"convertToInteractive('df-69e62c87-3e35-45cf-831b-bceda99f7793')\"\n",
              "              title=\"Convert this dataframe to an interactive table.\"\n",
              "              style=\"display:none;\">\n",
              "        \n",
              "  <svg xmlns=\"http://www.w3.org/2000/svg\" height=\"24px\"viewBox=\"0 0 24 24\"\n",
              "       width=\"24px\">\n",
              "    <path d=\"M0 0h24v24H0V0z\" fill=\"none\"/>\n",
              "    <path d=\"M18.56 5.44l.94 2.06.94-2.06 2.06-.94-2.06-.94-.94-2.06-.94 2.06-2.06.94zm-11 1L8.5 8.5l.94-2.06 2.06-.94-2.06-.94L8.5 2.5l-.94 2.06-2.06.94zm10 10l.94 2.06.94-2.06 2.06-.94-2.06-.94-.94-2.06-.94 2.06-2.06.94z\"/><path d=\"M17.41 7.96l-1.37-1.37c-.4-.4-.92-.59-1.43-.59-.52 0-1.04.2-1.43.59L10.3 9.45l-7.72 7.72c-.78.78-.78 2.05 0 2.83L4 21.41c.39.39.9.59 1.41.59.51 0 1.02-.2 1.41-.59l7.78-7.78 2.81-2.81c.8-.78.8-2.07 0-2.86zM5.41 20L4 18.59l7.72-7.72 1.47 1.35L5.41 20z\"/>\n",
              "  </svg>\n",
              "      </button>\n",
              "      \n",
              "  <style>\n",
              "    .colab-df-container {\n",
              "      display:flex;\n",
              "      flex-wrap:wrap;\n",
              "      gap: 12px;\n",
              "    }\n",
              "\n",
              "    .colab-df-convert {\n",
              "      background-color: #E8F0FE;\n",
              "      border: none;\n",
              "      border-radius: 50%;\n",
              "      cursor: pointer;\n",
              "      display: none;\n",
              "      fill: #1967D2;\n",
              "      height: 32px;\n",
              "      padding: 0 0 0 0;\n",
              "      width: 32px;\n",
              "    }\n",
              "\n",
              "    .colab-df-convert:hover {\n",
              "      background-color: #E2EBFA;\n",
              "      box-shadow: 0px 1px 2px rgba(60, 64, 67, 0.3), 0px 1px 3px 1px rgba(60, 64, 67, 0.15);\n",
              "      fill: #174EA6;\n",
              "    }\n",
              "\n",
              "    [theme=dark] .colab-df-convert {\n",
              "      background-color: #3B4455;\n",
              "      fill: #D2E3FC;\n",
              "    }\n",
              "\n",
              "    [theme=dark] .colab-df-convert:hover {\n",
              "      background-color: #434B5C;\n",
              "      box-shadow: 0px 1px 3px 1px rgba(0, 0, 0, 0.15);\n",
              "      filter: drop-shadow(0px 1px 2px rgba(0, 0, 0, 0.3));\n",
              "      fill: #FFFFFF;\n",
              "    }\n",
              "  </style>\n",
              "\n",
              "      <script>\n",
              "        const buttonEl =\n",
              "          document.querySelector('#df-69e62c87-3e35-45cf-831b-bceda99f7793 button.colab-df-convert');\n",
              "        buttonEl.style.display =\n",
              "          google.colab.kernel.accessAllowed ? 'block' : 'none';\n",
              "\n",
              "        async function convertToInteractive(key) {\n",
              "          const element = document.querySelector('#df-69e62c87-3e35-45cf-831b-bceda99f7793');\n",
              "          const dataTable =\n",
              "            await google.colab.kernel.invokeFunction('convertToInteractive',\n",
              "                                                     [key], {});\n",
              "          if (!dataTable) return;\n",
              "\n",
              "          const docLinkHtml = 'Like what you see? Visit the ' +\n",
              "            '<a target=\"_blank\" href=https://colab.research.google.com/notebooks/data_table.ipynb>data table notebook</a>'\n",
              "            + ' to learn more about interactive tables.';\n",
              "          element.innerHTML = '';\n",
              "          dataTable['output_type'] = 'display_data';\n",
              "          await google.colab.output.renderOutput(dataTable, element);\n",
              "          const docLink = document.createElement('div');\n",
              "          docLink.innerHTML = docLinkHtml;\n",
              "          element.appendChild(docLink);\n",
              "        }\n",
              "      </script>\n",
              "    </div>\n",
              "  </div>\n",
              "  "
            ]
          },
          "metadata": {},
          "execution_count": 70
        }
      ]
    },
    {
      "cell_type": "markdown",
      "source": [
        "## ***Map***"
      ],
      "metadata": {
        "id": "mIIy-2fNHT_7"
      }
    },
    {
      "cell_type": "code",
      "source": [
        "# Displaying a map with the Top-20 hotels for the Top-5 cities\n",
        "fig = px.scatter_mapbox(top_hotels,\n",
        "                        title = 'best hotels in France (4 cities) ',\n",
        "                        lat = 'lat',\n",
        "                        lon = 'lon',\n",
        "                        color = 'hotel_note',\n",
        "                        hover_name=\"names\",\n",
        "                        size='hotel_note',\n",
        "                        zoom=6,\n",
        "                        mapbox_style=\"carto-positron\")\n",
        "fig.show()\n",
        "\n",
        ""
      ],
      "metadata": {
        "id": "dOSCdRuNaLcx",
        "colab": {
          "base_uri": "https://localhost:8080/",
          "height": 542
        },
        "outputId": "e409a832-0d0c-476a-d6cc-80ad15467593"
      },
      "execution_count": 73,
      "outputs": [
        {
          "output_type": "display_data",
          "data": {
            "text/html": [
              "<html>\n",
              "<head><meta charset=\"utf-8\" /></head>\n",
              "<body>\n",
              "    <div>            <script src=\"https://cdnjs.cloudflare.com/ajax/libs/mathjax/2.7.5/MathJax.js?config=TeX-AMS-MML_SVG\"></script><script type=\"text/javascript\">if (window.MathJax && window.MathJax.Hub && window.MathJax.Hub.Config) {window.MathJax.Hub.Config({SVG: {font: \"STIX-Web\"}});}</script>                <script type=\"text/javascript\">window.PlotlyConfig = {MathJaxConfig: 'local'};</script>\n",
              "        <script src=\"https://cdn.plot.ly/plotly-2.18.2.min.js\"></script>                <div id=\"37b5b053-b69c-4384-bbb9-2f87ee5fe569\" class=\"plotly-graph-div\" style=\"height:525px; width:100%;\"></div>            <script type=\"text/javascript\">                                    window.PLOTLYENV=window.PLOTLYENV || {};                                    if (document.getElementById(\"37b5b053-b69c-4384-bbb9-2f87ee5fe569\")) {                    Plotly.newPlot(                        \"37b5b053-b69c-4384-bbb9-2f87ee5fe569\",                        [{\"hovertemplate\":\"<b>%{hovertext}</b><br><br>hotel_note=%{marker.color}<br>lat=%{lat}<br>lon=%{lon}<extra></extra>\",\"hovertext\":[\"H\\u00f4tel Vert\",\"Le Relais Du Roy\",\"Le Relais Saint Michel\",\"Auberge Saint Pierre\",\"H\\u00f4tel la Croix Blanche\",\"H\\u00f4tel Le Nautilus\",\"H\\u00f4tel La Villefromoy\",\"H\\u00f4tel Le Nouveau Monde\",\"H\\u00f4tel L'Adresse\",\"H\\u00f4tel Bristol Union Intra Muros\",\"Cheval Blanc Paris & Dior Spa Cheval Blanc Paris\",\"H\\u00f4tel Le Presbyt\\u00e8re\",\"Les Rives de Notre-Dame\",\"Mill\\u00e9sime H\\u00f4tel\",\"Hotel Malte - Astotel\",\"Domaine de Bayeux\",\"Hotel Le Lion D'Or et Restaurant La Table Du Lion\",\"Hotel Reine Mathilde\",\"H\\u00f4tel De Brunville & Spa\",\"Ch\\u00e2teau de Bellefontaine\",\"Hilton Garden Inn Le Havre Centre\",\"Hotel de Charme La Bonne Adresse\",\"Holiday Inn Express - Le Havre Centre\",\"Mercure Le Havre Centre Bassin Du Commerce\",\"Eklo Hotels Le Havre\"],\"lat\":[48.61,48.61,48.61,48.61,48.61,48.62,48.62,48.62,48.62,48.62,48.84,48.84,48.84,48.84,48.84,49.25,49.25,49.25,49.25,49.25,49.48,49.48,49.48,49.48,49.48],\"legendgroup\":\"\",\"lon\":[-1.53,-1.53,-1.53,-1.53,-1.53,-2.03,-2.03,-2.03,-2.03,-2.03,2.325,2.325,2.325,2.325,2.325,-0.72,-0.72,-0.72,-0.72,-0.72,0.101,0.101,0.101,0.101,0.101],\"marker\":{\"color\":[8.0,8.0,7.9,7.9,7.7,9.1,8.9,8.8,8.7,8.7,9.5,9.3,9.3,9.2,9.1,9.1,8.8,8.4,8.1,8.1,8.7,8.3,8.2,7.6,5.9],\"coloraxis\":\"coloraxis\",\"size\":[8.0,8.0,7.9,7.9,7.7,9.1,8.9,8.8,8.7,8.7,9.5,9.3,9.3,9.2,9.1,9.1,8.8,8.4,8.1,8.1,8.7,8.3,8.2,7.6,5.9],\"sizemode\":\"area\",\"sizeref\":0.02375},\"mode\":\"markers\",\"name\":\"\",\"showlegend\":false,\"subplot\":\"mapbox\",\"type\":\"scattermapbox\"}],                        {\"template\":{\"data\":{\"histogram2dcontour\":[{\"type\":\"histogram2dcontour\",\"colorbar\":{\"outlinewidth\":0,\"ticks\":\"\"},\"colorscale\":[[0.0,\"#0d0887\"],[0.1111111111111111,\"#46039f\"],[0.2222222222222222,\"#7201a8\"],[0.3333333333333333,\"#9c179e\"],[0.4444444444444444,\"#bd3786\"],[0.5555555555555556,\"#d8576b\"],[0.6666666666666666,\"#ed7953\"],[0.7777777777777778,\"#fb9f3a\"],[0.8888888888888888,\"#fdca26\"],[1.0,\"#f0f921\"]]}],\"choropleth\":[{\"type\":\"choropleth\",\"colorbar\":{\"outlinewidth\":0,\"ticks\":\"\"}}],\"histogram2d\":[{\"type\":\"histogram2d\",\"colorbar\":{\"outlinewidth\":0,\"ticks\":\"\"},\"colorscale\":[[0.0,\"#0d0887\"],[0.1111111111111111,\"#46039f\"],[0.2222222222222222,\"#7201a8\"],[0.3333333333333333,\"#9c179e\"],[0.4444444444444444,\"#bd3786\"],[0.5555555555555556,\"#d8576b\"],[0.6666666666666666,\"#ed7953\"],[0.7777777777777778,\"#fb9f3a\"],[0.8888888888888888,\"#fdca26\"],[1.0,\"#f0f921\"]]}],\"heatmap\":[{\"type\":\"heatmap\",\"colorbar\":{\"outlinewidth\":0,\"ticks\":\"\"},\"colorscale\":[[0.0,\"#0d0887\"],[0.1111111111111111,\"#46039f\"],[0.2222222222222222,\"#7201a8\"],[0.3333333333333333,\"#9c179e\"],[0.4444444444444444,\"#bd3786\"],[0.5555555555555556,\"#d8576b\"],[0.6666666666666666,\"#ed7953\"],[0.7777777777777778,\"#fb9f3a\"],[0.8888888888888888,\"#fdca26\"],[1.0,\"#f0f921\"]]}],\"heatmapgl\":[{\"type\":\"heatmapgl\",\"colorbar\":{\"outlinewidth\":0,\"ticks\":\"\"},\"colorscale\":[[0.0,\"#0d0887\"],[0.1111111111111111,\"#46039f\"],[0.2222222222222222,\"#7201a8\"],[0.3333333333333333,\"#9c179e\"],[0.4444444444444444,\"#bd3786\"],[0.5555555555555556,\"#d8576b\"],[0.6666666666666666,\"#ed7953\"],[0.7777777777777778,\"#fb9f3a\"],[0.8888888888888888,\"#fdca26\"],[1.0,\"#f0f921\"]]}],\"contourcarpet\":[{\"type\":\"contourcarpet\",\"colorbar\":{\"outlinewidth\":0,\"ticks\":\"\"}}],\"contour\":[{\"type\":\"contour\",\"colorbar\":{\"outlinewidth\":0,\"ticks\":\"\"},\"colorscale\":[[0.0,\"#0d0887\"],[0.1111111111111111,\"#46039f\"],[0.2222222222222222,\"#7201a8\"],[0.3333333333333333,\"#9c179e\"],[0.4444444444444444,\"#bd3786\"],[0.5555555555555556,\"#d8576b\"],[0.6666666666666666,\"#ed7953\"],[0.7777777777777778,\"#fb9f3a\"],[0.8888888888888888,\"#fdca26\"],[1.0,\"#f0f921\"]]}],\"surface\":[{\"type\":\"surface\",\"colorbar\":{\"outlinewidth\":0,\"ticks\":\"\"},\"colorscale\":[[0.0,\"#0d0887\"],[0.1111111111111111,\"#46039f\"],[0.2222222222222222,\"#7201a8\"],[0.3333333333333333,\"#9c179e\"],[0.4444444444444444,\"#bd3786\"],[0.5555555555555556,\"#d8576b\"],[0.6666666666666666,\"#ed7953\"],[0.7777777777777778,\"#fb9f3a\"],[0.8888888888888888,\"#fdca26\"],[1.0,\"#f0f921\"]]}],\"mesh3d\":[{\"type\":\"mesh3d\",\"colorbar\":{\"outlinewidth\":0,\"ticks\":\"\"}}],\"scatter\":[{\"fillpattern\":{\"fillmode\":\"overlay\",\"size\":10,\"solidity\":0.2},\"type\":\"scatter\"}],\"parcoords\":[{\"type\":\"parcoords\",\"line\":{\"colorbar\":{\"outlinewidth\":0,\"ticks\":\"\"}}}],\"scatterpolargl\":[{\"type\":\"scatterpolargl\",\"marker\":{\"colorbar\":{\"outlinewidth\":0,\"ticks\":\"\"}}}],\"bar\":[{\"error_x\":{\"color\":\"#2a3f5f\"},\"error_y\":{\"color\":\"#2a3f5f\"},\"marker\":{\"line\":{\"color\":\"#E5ECF6\",\"width\":0.5},\"pattern\":{\"fillmode\":\"overlay\",\"size\":10,\"solidity\":0.2}},\"type\":\"bar\"}],\"scattergeo\":[{\"type\":\"scattergeo\",\"marker\":{\"colorbar\":{\"outlinewidth\":0,\"ticks\":\"\"}}}],\"scatterpolar\":[{\"type\":\"scatterpolar\",\"marker\":{\"colorbar\":{\"outlinewidth\":0,\"ticks\":\"\"}}}],\"histogram\":[{\"marker\":{\"pattern\":{\"fillmode\":\"overlay\",\"size\":10,\"solidity\":0.2}},\"type\":\"histogram\"}],\"scattergl\":[{\"type\":\"scattergl\",\"marker\":{\"colorbar\":{\"outlinewidth\":0,\"ticks\":\"\"}}}],\"scatter3d\":[{\"type\":\"scatter3d\",\"line\":{\"colorbar\":{\"outlinewidth\":0,\"ticks\":\"\"}},\"marker\":{\"colorbar\":{\"outlinewidth\":0,\"ticks\":\"\"}}}],\"scattermapbox\":[{\"type\":\"scattermapbox\",\"marker\":{\"colorbar\":{\"outlinewidth\":0,\"ticks\":\"\"}}}],\"scatterternary\":[{\"type\":\"scatterternary\",\"marker\":{\"colorbar\":{\"outlinewidth\":0,\"ticks\":\"\"}}}],\"scattercarpet\":[{\"type\":\"scattercarpet\",\"marker\":{\"colorbar\":{\"outlinewidth\":0,\"ticks\":\"\"}}}],\"carpet\":[{\"aaxis\":{\"endlinecolor\":\"#2a3f5f\",\"gridcolor\":\"white\",\"linecolor\":\"white\",\"minorgridcolor\":\"white\",\"startlinecolor\":\"#2a3f5f\"},\"baxis\":{\"endlinecolor\":\"#2a3f5f\",\"gridcolor\":\"white\",\"linecolor\":\"white\",\"minorgridcolor\":\"white\",\"startlinecolor\":\"#2a3f5f\"},\"type\":\"carpet\"}],\"table\":[{\"cells\":{\"fill\":{\"color\":\"#EBF0F8\"},\"line\":{\"color\":\"white\"}},\"header\":{\"fill\":{\"color\":\"#C8D4E3\"},\"line\":{\"color\":\"white\"}},\"type\":\"table\"}],\"barpolar\":[{\"marker\":{\"line\":{\"color\":\"#E5ECF6\",\"width\":0.5},\"pattern\":{\"fillmode\":\"overlay\",\"size\":10,\"solidity\":0.2}},\"type\":\"barpolar\"}],\"pie\":[{\"automargin\":true,\"type\":\"pie\"}]},\"layout\":{\"autotypenumbers\":\"strict\",\"colorway\":[\"#636efa\",\"#EF553B\",\"#00cc96\",\"#ab63fa\",\"#FFA15A\",\"#19d3f3\",\"#FF6692\",\"#B6E880\",\"#FF97FF\",\"#FECB52\"],\"font\":{\"color\":\"#2a3f5f\"},\"hovermode\":\"closest\",\"hoverlabel\":{\"align\":\"left\"},\"paper_bgcolor\":\"white\",\"plot_bgcolor\":\"#E5ECF6\",\"polar\":{\"bgcolor\":\"#E5ECF6\",\"angularaxis\":{\"gridcolor\":\"white\",\"linecolor\":\"white\",\"ticks\":\"\"},\"radialaxis\":{\"gridcolor\":\"white\",\"linecolor\":\"white\",\"ticks\":\"\"}},\"ternary\":{\"bgcolor\":\"#E5ECF6\",\"aaxis\":{\"gridcolor\":\"white\",\"linecolor\":\"white\",\"ticks\":\"\"},\"baxis\":{\"gridcolor\":\"white\",\"linecolor\":\"white\",\"ticks\":\"\"},\"caxis\":{\"gridcolor\":\"white\",\"linecolor\":\"white\",\"ticks\":\"\"}},\"coloraxis\":{\"colorbar\":{\"outlinewidth\":0,\"ticks\":\"\"}},\"colorscale\":{\"sequential\":[[0.0,\"#0d0887\"],[0.1111111111111111,\"#46039f\"],[0.2222222222222222,\"#7201a8\"],[0.3333333333333333,\"#9c179e\"],[0.4444444444444444,\"#bd3786\"],[0.5555555555555556,\"#d8576b\"],[0.6666666666666666,\"#ed7953\"],[0.7777777777777778,\"#fb9f3a\"],[0.8888888888888888,\"#fdca26\"],[1.0,\"#f0f921\"]],\"sequentialminus\":[[0.0,\"#0d0887\"],[0.1111111111111111,\"#46039f\"],[0.2222222222222222,\"#7201a8\"],[0.3333333333333333,\"#9c179e\"],[0.4444444444444444,\"#bd3786\"],[0.5555555555555556,\"#d8576b\"],[0.6666666666666666,\"#ed7953\"],[0.7777777777777778,\"#fb9f3a\"],[0.8888888888888888,\"#fdca26\"],[1.0,\"#f0f921\"]],\"diverging\":[[0,\"#8e0152\"],[0.1,\"#c51b7d\"],[0.2,\"#de77ae\"],[0.3,\"#f1b6da\"],[0.4,\"#fde0ef\"],[0.5,\"#f7f7f7\"],[0.6,\"#e6f5d0\"],[0.7,\"#b8e186\"],[0.8,\"#7fbc41\"],[0.9,\"#4d9221\"],[1,\"#276419\"]]},\"xaxis\":{\"gridcolor\":\"white\",\"linecolor\":\"white\",\"ticks\":\"\",\"title\":{\"standoff\":15},\"zerolinecolor\":\"white\",\"automargin\":true,\"zerolinewidth\":2},\"yaxis\":{\"gridcolor\":\"white\",\"linecolor\":\"white\",\"ticks\":\"\",\"title\":{\"standoff\":15},\"zerolinecolor\":\"white\",\"automargin\":true,\"zerolinewidth\":2},\"scene\":{\"xaxis\":{\"backgroundcolor\":\"#E5ECF6\",\"gridcolor\":\"white\",\"linecolor\":\"white\",\"showbackground\":true,\"ticks\":\"\",\"zerolinecolor\":\"white\",\"gridwidth\":2},\"yaxis\":{\"backgroundcolor\":\"#E5ECF6\",\"gridcolor\":\"white\",\"linecolor\":\"white\",\"showbackground\":true,\"ticks\":\"\",\"zerolinecolor\":\"white\",\"gridwidth\":2},\"zaxis\":{\"backgroundcolor\":\"#E5ECF6\",\"gridcolor\":\"white\",\"linecolor\":\"white\",\"showbackground\":true,\"ticks\":\"\",\"zerolinecolor\":\"white\",\"gridwidth\":2}},\"shapedefaults\":{\"line\":{\"color\":\"#2a3f5f\"}},\"annotationdefaults\":{\"arrowcolor\":\"#2a3f5f\",\"arrowhead\":0,\"arrowwidth\":1},\"geo\":{\"bgcolor\":\"white\",\"landcolor\":\"#E5ECF6\",\"subunitcolor\":\"white\",\"showland\":true,\"showlakes\":true,\"lakecolor\":\"white\"},\"title\":{\"x\":0.05},\"mapbox\":{\"style\":\"light\"}}},\"mapbox\":{\"domain\":{\"x\":[0.0,1.0],\"y\":[0.0,1.0]},\"center\":{\"lat\":48.96,\"lon\":-0.37079999999999985},\"zoom\":6,\"style\":\"carto-positron\"},\"coloraxis\":{\"colorbar\":{\"title\":{\"text\":\"hotel_note\"}},\"colorscale\":[[0.0,\"#0d0887\"],[0.1111111111111111,\"#46039f\"],[0.2222222222222222,\"#7201a8\"],[0.3333333333333333,\"#9c179e\"],[0.4444444444444444,\"#bd3786\"],[0.5555555555555556,\"#d8576b\"],[0.6666666666666666,\"#ed7953\"],[0.7777777777777778,\"#fb9f3a\"],[0.8888888888888888,\"#fdca26\"],[1.0,\"#f0f921\"]]},\"legend\":{\"tracegroupgap\":0,\"itemsizing\":\"constant\"},\"title\":{\"text\":\"best hotels in France (4 cities) \"}},                        {\"responsive\": true}                    ).then(function(){\n",
              "                            \n",
              "var gd = document.getElementById('37b5b053-b69c-4384-bbb9-2f87ee5fe569');\n",
              "var x = new MutationObserver(function (mutations, observer) {{\n",
              "        var display = window.getComputedStyle(gd).display;\n",
              "        if (!display || display === 'none') {{\n",
              "            console.log([gd, 'removed!']);\n",
              "            Plotly.purge(gd);\n",
              "            observer.disconnect();\n",
              "        }}\n",
              "}});\n",
              "\n",
              "// Listen for the removal of the full notebook cells\n",
              "var notebookContainer = gd.closest('#notebook-container');\n",
              "if (notebookContainer) {{\n",
              "    x.observe(notebookContainer, {childList: true});\n",
              "}}\n",
              "\n",
              "// Listen for the clearing of the current output cell\n",
              "var outputEl = gd.closest('.output');\n",
              "if (outputEl) {{\n",
              "    x.observe(outputEl, {childList: true});\n",
              "}}\n",
              "\n",
              "                        })                };                            </script>        </div>\n",
              "</body>\n",
              "</html>"
            ]
          },
          "metadata": {}
        }
      ]
    },
    {
      "cell_type": "markdown",
      "source": [
        "# ***AWS time***"
      ],
      "metadata": {
        "id": "OG6_qa9cHXT6"
      }
    },
    {
      "cell_type": "code",
      "source": [
        "import boto3\n",
        "\n",
        "# aws credentials\n",
        "ACCESS_KEY = \"XXXX\"\n",
        "SECRET_KEY = \"XXXX\"\n",
        "\n",
        "# create S3 session\n",
        "session = boto3.Session(aws_access_key_id=ACCESS_KEY,\n",
        "                        aws_secret_access_key=SECRET_KEY)"
      ],
      "metadata": {
        "id": "xmI7YJ8ZHa-I"
      },
      "execution_count": null,
      "outputs": []
    },
    {
      "cell_type": "code",
      "source": [
        "# create bucket\n",
        "s3 = session.resource(\"s3\")\n",
        "bucket = s3.create_bucket(Bucket=\"bucket-iheb-projet-kayak-wml\")\n"
      ],
      "metadata": {
        "id": "chhmHoEKHc53"
      },
      "execution_count": null,
      "outputs": []
    },
    {
      "cell_type": "code",
      "source": [
        "# Upload csv file to the bucket\n",
        "put_object = bucket.put_object(Key=\"/content/bookingfinal.csv\", Body='csv')"
      ],
      "metadata": {
        "id": "KIzGZ-kjIP_s"
      },
      "execution_count": null,
      "outputs": []
    },
    {
      "cell_type": "code",
      "source": [
        "# Download from s3 bucket\n",
        "bucket.download_file('dataset-kayak.csv', 'dataset-kayak.csv')"
      ],
      "metadata": {
        "id": "Hm6-g4uAILu4"
      },
      "execution_count": null,
      "outputs": []
    },
    {
      "cell_type": "markdown",
      "source": [
        "# ***RDS Instance***"
      ],
      "metadata": {
        "id": "ReOfmQ0vIx8H"
      }
    },
    {
      "cell_type": "code",
      "source": [
        "# Importing libraries and modules\n",
        "import psycopg2\n",
        "from sqlalchemy import create_engine, text\n",
        "from sqlalchemy.orm import sessionmaker"
      ],
      "metadata": {
        "id": "QXygNIlGIoFz"
      },
      "execution_count": null,
      "outputs": []
    }
  ]
}