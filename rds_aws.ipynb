{
  "nbformat": 4,
  "nbformat_minor": 0,
  "metadata": {
    "colab": {
      "provenance": []
    },
    "kernelspec": {
      "name": "python3",
      "display_name": "Python 3"
    },
    "language_info": {
      "name": "python"
    }
  },
  "cells": [
    {
      "cell_type": "markdown",
      "source": [
        "# ***AWS S3 Bucket***"
      ],
      "metadata": {
        "id": "0ql0d-F_zF1q"
      }
    },
    {
      "cell_type": "code",
      "source": [
        "pip install boto3"
      ],
      "metadata": {
        "id": "PXnc89P312BQ"
      },
      "execution_count": null,
      "outputs": []
    },
    {
      "cell_type": "code",
      "source": [
        "# Importing lib\n",
        "import boto3\n",
        "\n",
        "#credentials from AWS\n",
        "ACCESS_KEY = \"xx\"\n",
        "SECRET_KEY = \"xxxxxxxxxxxxxxxxxxxxxxxxx\"\n",
        "\n",
        "# Creating S3 session\n",
        "session = boto3.Session(aws_access_key_id=ACCESS_KEY,\n",
        "                        aws_secret_access_key=SECRET_KEY)\n"
      ],
      "metadata": {
        "id": "yeNoyzMjzIJI"
      },
      "execution_count": 3,
      "outputs": []
    },
    {
      "cell_type": "code",
      "source": [
        "#resource\n",
        "s3 = session.resource(\"s3\")\n",
        "\n",
        "#bucket creation\n",
        "bucket = s3.create_bucket(Bucket=\"bucket-kayak-projet\")"
      ],
      "metadata": {
        "id": "ED7sdOrdzRjn"
      },
      "execution_count": 4,
      "outputs": []
    },
    {
      "cell_type": "markdown",
      "source": [
        "# we create floder named contenet inside it we find kayak.csv file , we could just choose the path as 'kaya.csv'"
      ],
      "metadata": {
        "id": "M5Saqe7b4Il5"
      }
    },
    {
      "cell_type": "code",
      "source": [
        "# Upload csv file to the bucket\n",
        "put_object = bucket.put_object(Key=\"kayak.csv\", Body='csv')"
      ],
      "metadata": {
        "id": "P66geaWJ3B5N"
      },
      "execution_count": 9,
      "outputs": []
    },
    {
      "cell_type": "code",
      "source": [
        "put_object = bucket.put_object(Key=\"hotels_dataframe.csv\", Body='csv')"
      ],
      "metadata": {
        "id": "P2vGCHqo4J_U"
      },
      "execution_count": 6,
      "outputs": []
    },
    {
      "cell_type": "markdown",
      "source": [
        "# ***RDS Instance (AWS) ***"
      ],
      "metadata": {
        "id": "fg_fm1C04heW"
      }
    },
    {
      "cell_type": "code",
      "source": [
        "import psycopg2\n",
        "from sqlalchemy import create_engine, text\n",
        "from sqlalchemy.orm import sessionmaker\n",
        "import pandas as pd"
      ],
      "metadata": {
        "id": "d3bt4LsANDKS"
      },
      "execution_count": 11,
      "outputs": []
    },
    {
      "cell_type": "code",
      "source": [
        "\n",
        "# Define database connection variables\n",
        "DBHOST = \"kayakiheb.clqvblevxvki.eu-north-1.rds.amazonaws.com\"\n",
        "DBUSER = \"postgres\"\n",
        "DBPASS = \"xxx\"\n",
        "DBNAME = \"xx\"\n",
        "PORT=\"5432\"\n"
      ],
      "metadata": {
        "id": "wnahQ5g34itY"
      },
      "execution_count": 21,
      "outputs": []
    },
    {
      "cell_type": "code",
      "source": [
        "# Connect to postgresSQL database\n",
        "engine = create_engine(f\"postgresql+psycopg2://{DBUSER}:{DBPASS}@{DBHOST}/{DBNAME}\", echo=True)"
      ],
      "metadata": {
        "id": "64kDz6y96GlT"
      },
      "execution_count": 22,
      "outputs": []
    },
    {
      "cell_type": "code",
      "source": [
        "# Initializing a sessionmaker to talk to our database and open sessions\n",
        "Session = sessionmaker(bind = engine)\n",
        "session = Session()\n"
      ],
      "metadata": {
        "id": "XKw0B5sN6WBH"
      },
      "execution_count": 23,
      "outputs": []
    },
    {
      "cell_type": "code",
      "source": [
        "\n",
        "df_meteo=pd.read_csv(\"/content/kayak.csv\")\n",
        "df_booking=pd.read_csv(\"/content/hotels_dataframe.csv\")\n"
      ],
      "metadata": {
        "id": "gx92LGaAHufI"
      },
      "execution_count": 4,
      "outputs": []
    },
    {
      "cell_type": "code",
      "source": [
        "\n",
        "# Create the SQLite in-memory database (fake db)\n",
        "engine2 = create_engine(\"sqlite:///:memory:\", echo=True)\n",
        "\n",
        "# Convert and store df_meteo and df_booking data in the SQLite database\n",
        "df_meteo.to_sql(\"df_meteo_sql\", engine2)\n",
        "df_booking.to_sql(\"df_booking_sql\", engine2)\n",
        "\n",
        "# Define a SQLAlchemy connection and execute the queries\n",
        "with engine2.connect() as connection:\n",
        "    selection_meteo = text(\"SELECT * FROM df_meteo_sql\")\n",
        "    result_meteo = connection.execute(selection_meteo)\n",
        "    df_meteo = pd.DataFrame(result_meteo.fetchall(), columns=result_meteo.keys())\n",
        "\n",
        "    selection_booking = text(\"SELECT * FROM df_booking_sql\")\n",
        "    result_booking = connection.execute(selection_booking)\n",
        "    df_booking = pd.DataFrame(result_booking.fetchall(), columns=result_booking.keys())\n",
        "\n",
        "# we have the data from the tables in df_meteo and df_booking\n"
      ],
      "metadata": {
        "colab": {
          "base_uri": "https://localhost:8080/"
        },
        "id": "3ZmuiQLrIeqh",
        "outputId": "0983a979-be2b-45c3-c156-54dcf2ea6c66"
      },
      "execution_count": 10,
      "outputs": [
        {
          "output_type": "stream",
          "name": "stdout",
          "text": [
            "2023-08-21 08:28:34,105 INFO sqlalchemy.engine.Engine BEGIN (implicit)\n"
          ]
        },
        {
          "output_type": "stream",
          "name": "stderr",
          "text": [
            "INFO:sqlalchemy.engine.Engine:BEGIN (implicit)\n"
          ]
        },
        {
          "output_type": "stream",
          "name": "stdout",
          "text": [
            "2023-08-21 08:28:34,108 INFO sqlalchemy.engine.Engine PRAGMA main.table_info(\"df_meteo_sql\")\n"
          ]
        },
        {
          "output_type": "stream",
          "name": "stderr",
          "text": [
            "INFO:sqlalchemy.engine.Engine:PRAGMA main.table_info(\"df_meteo_sql\")\n"
          ]
        },
        {
          "output_type": "stream",
          "name": "stdout",
          "text": [
            "2023-08-21 08:28:34,111 INFO sqlalchemy.engine.Engine [raw sql] ()\n"
          ]
        },
        {
          "output_type": "stream",
          "name": "stderr",
          "text": [
            "INFO:sqlalchemy.engine.Engine:[raw sql] ()\n"
          ]
        },
        {
          "output_type": "stream",
          "name": "stdout",
          "text": [
            "2023-08-21 08:28:34,116 INFO sqlalchemy.engine.Engine PRAGMA temp.table_info(\"df_meteo_sql\")\n"
          ]
        },
        {
          "output_type": "stream",
          "name": "stderr",
          "text": [
            "INFO:sqlalchemy.engine.Engine:PRAGMA temp.table_info(\"df_meteo_sql\")\n"
          ]
        },
        {
          "output_type": "stream",
          "name": "stdout",
          "text": [
            "2023-08-21 08:28:34,130 INFO sqlalchemy.engine.Engine [raw sql] ()\n"
          ]
        },
        {
          "output_type": "stream",
          "name": "stderr",
          "text": [
            "INFO:sqlalchemy.engine.Engine:[raw sql] ()\n"
          ]
        },
        {
          "output_type": "stream",
          "name": "stdout",
          "text": [
            "2023-08-21 08:28:34,136 INFO sqlalchemy.engine.Engine ROLLBACK\n"
          ]
        },
        {
          "output_type": "stream",
          "name": "stderr",
          "text": [
            "INFO:sqlalchemy.engine.Engine:ROLLBACK\n"
          ]
        },
        {
          "output_type": "stream",
          "name": "stdout",
          "text": [
            "2023-08-21 08:28:34,147 INFO sqlalchemy.engine.Engine BEGIN (implicit)\n"
          ]
        },
        {
          "output_type": "stream",
          "name": "stderr",
          "text": [
            "INFO:sqlalchemy.engine.Engine:BEGIN (implicit)\n"
          ]
        },
        {
          "output_type": "stream",
          "name": "stdout",
          "text": [
            "2023-08-21 08:28:34,155 INFO sqlalchemy.engine.Engine \n",
            "CREATE TABLE df_meteo_sql (\n",
            "\t\"index\" BIGINT, \n",
            "\t\"Unnamed: 0\" BIGINT, \n",
            "\tcitys TEXT, \n",
            "\train_mean FLOAT, \n",
            "\twindspeed_mean FLOAT, \n",
            "\tlat FLOAT, \n",
            "\tlon FLOAT\n",
            ")\n",
            "\n",
            "\n"
          ]
        },
        {
          "output_type": "stream",
          "name": "stderr",
          "text": [
            "INFO:sqlalchemy.engine.Engine:\n",
            "CREATE TABLE df_meteo_sql (\n",
            "\t\"index\" BIGINT, \n",
            "\t\"Unnamed: 0\" BIGINT, \n",
            "\tcitys TEXT, \n",
            "\train_mean FLOAT, \n",
            "\twindspeed_mean FLOAT, \n",
            "\tlat FLOAT, \n",
            "\tlon FLOAT\n",
            ")\n",
            "\n",
            "\n"
          ]
        },
        {
          "output_type": "stream",
          "name": "stdout",
          "text": [
            "2023-08-21 08:28:34,160 INFO sqlalchemy.engine.Engine [no key 0.00438s] ()\n"
          ]
        },
        {
          "output_type": "stream",
          "name": "stderr",
          "text": [
            "INFO:sqlalchemy.engine.Engine:[no key 0.00438s] ()\n"
          ]
        },
        {
          "output_type": "stream",
          "name": "stdout",
          "text": [
            "2023-08-21 08:28:34,172 INFO sqlalchemy.engine.Engine CREATE INDEX ix_df_meteo_sql_index ON df_meteo_sql (\"index\")\n"
          ]
        },
        {
          "output_type": "stream",
          "name": "stderr",
          "text": [
            "INFO:sqlalchemy.engine.Engine:CREATE INDEX ix_df_meteo_sql_index ON df_meteo_sql (\"index\")\n"
          ]
        },
        {
          "output_type": "stream",
          "name": "stdout",
          "text": [
            "2023-08-21 08:28:34,179 INFO sqlalchemy.engine.Engine [no key 0.00707s] ()\n"
          ]
        },
        {
          "output_type": "stream",
          "name": "stderr",
          "text": [
            "INFO:sqlalchemy.engine.Engine:[no key 0.00707s] ()\n"
          ]
        },
        {
          "output_type": "stream",
          "name": "stdout",
          "text": [
            "2023-08-21 08:28:34,183 INFO sqlalchemy.engine.Engine COMMIT\n"
          ]
        },
        {
          "output_type": "stream",
          "name": "stderr",
          "text": [
            "INFO:sqlalchemy.engine.Engine:COMMIT\n"
          ]
        },
        {
          "output_type": "stream",
          "name": "stdout",
          "text": [
            "2023-08-21 08:28:34,195 INFO sqlalchemy.engine.Engine BEGIN (implicit)\n"
          ]
        },
        {
          "output_type": "stream",
          "name": "stderr",
          "text": [
            "INFO:sqlalchemy.engine.Engine:BEGIN (implicit)\n"
          ]
        },
        {
          "output_type": "stream",
          "name": "stdout",
          "text": [
            "2023-08-21 08:28:34,202 INFO sqlalchemy.engine.Engine INSERT INTO df_meteo_sql (\"index\", \"Unnamed: 0\", citys, rain_mean, windspeed_mean, lat, lon) VALUES (?, ?, ?, ?, ?, ?, ?)\n"
          ]
        },
        {
          "output_type": "stream",
          "name": "stderr",
          "text": [
            "INFO:sqlalchemy.engine.Engine:INSERT INTO df_meteo_sql (\"index\", \"Unnamed: 0\", citys, rain_mean, windspeed_mean, lat, lon) VALUES (?, ?, ?, ?, ?, ?, ?)\n"
          ]
        },
        {
          "output_type": "stream",
          "name": "stdout",
          "text": [
            "2023-08-21 08:28:34,207 INFO sqlalchemy.engine.Engine [generated in 0.00576s] [(0, 0, 'Mont Saint-Michel', 1.2700000000000002, 6.55875, 48.6359541, -1.511459954959514), (1, 1, 'Saint-Malo', 0.8283333333333335, 7.032500000000001, 48.649518, -2.0260409), (2, 2, 'Bayeux', 1.5266666666666666, 6.734999999999999, 49.2764624, -0.7024738), (3, 3, 'Le Havre', 2.16, 6.992500000000001, 49.4938975, 0.1079732), (4, 4, 'Rouen', 0.7233333333333333, 7.08625, 49.4404591, 1.0939658), (5, 5, 'Paris', 3.555, 4.772499999999999, 48.8534951, 2.3483915), (6, 6, 'Amiens', 0.7366666666666667, 6.95875, 49.8941708, 2.2956951), (7, 7, 'Lille', 0.7933333333333333, 7.04875, 50.6365654, 3.0635282), (8, 8, 'Strasbourg', 4.0575, 4.82125, 48.584614, 7.7507127), (9, 9, 'Château du Haut-Kœnigsbourg', 2.6275, 4.0225, 48.2495226, 7.3454923)]\n"
          ]
        },
        {
          "output_type": "stream",
          "name": "stderr",
          "text": [
            "INFO:sqlalchemy.engine.Engine:[generated in 0.00576s] [(0, 0, 'Mont Saint-Michel', 1.2700000000000002, 6.55875, 48.6359541, -1.511459954959514), (1, 1, 'Saint-Malo', 0.8283333333333335, 7.032500000000001, 48.649518, -2.0260409), (2, 2, 'Bayeux', 1.5266666666666666, 6.734999999999999, 49.2764624, -0.7024738), (3, 3, 'Le Havre', 2.16, 6.992500000000001, 49.4938975, 0.1079732), (4, 4, 'Rouen', 0.7233333333333333, 7.08625, 49.4404591, 1.0939658), (5, 5, 'Paris', 3.555, 4.772499999999999, 48.8534951, 2.3483915), (6, 6, 'Amiens', 0.7366666666666667, 6.95875, 49.8941708, 2.2956951), (7, 7, 'Lille', 0.7933333333333333, 7.04875, 50.6365654, 3.0635282), (8, 8, 'Strasbourg', 4.0575, 4.82125, 48.584614, 7.7507127), (9, 9, 'Château du Haut-Kœnigsbourg', 2.6275, 4.0225, 48.2495226, 7.3454923)]\n"
          ]
        },
        {
          "output_type": "stream",
          "name": "stdout",
          "text": [
            "2023-08-21 08:28:34,219 INFO sqlalchemy.engine.Engine COMMIT\n"
          ]
        },
        {
          "output_type": "stream",
          "name": "stderr",
          "text": [
            "INFO:sqlalchemy.engine.Engine:COMMIT\n"
          ]
        },
        {
          "output_type": "stream",
          "name": "stdout",
          "text": [
            "2023-08-21 08:28:34,228 INFO sqlalchemy.engine.Engine BEGIN (implicit)\n"
          ]
        },
        {
          "output_type": "stream",
          "name": "stderr",
          "text": [
            "INFO:sqlalchemy.engine.Engine:BEGIN (implicit)\n"
          ]
        },
        {
          "output_type": "stream",
          "name": "stdout",
          "text": [
            "2023-08-21 08:28:34,234 INFO sqlalchemy.engine.Engine PRAGMA main.table_info(\"df_booking_sql\")\n"
          ]
        },
        {
          "output_type": "stream",
          "name": "stderr",
          "text": [
            "INFO:sqlalchemy.engine.Engine:PRAGMA main.table_info(\"df_booking_sql\")\n"
          ]
        },
        {
          "output_type": "stream",
          "name": "stdout",
          "text": [
            "2023-08-21 08:28:34,240 INFO sqlalchemy.engine.Engine [raw sql] ()\n"
          ]
        },
        {
          "output_type": "stream",
          "name": "stderr",
          "text": [
            "INFO:sqlalchemy.engine.Engine:[raw sql] ()\n"
          ]
        },
        {
          "output_type": "stream",
          "name": "stdout",
          "text": [
            "2023-08-21 08:28:34,248 INFO sqlalchemy.engine.Engine PRAGMA temp.table_info(\"df_booking_sql\")\n"
          ]
        },
        {
          "output_type": "stream",
          "name": "stderr",
          "text": [
            "INFO:sqlalchemy.engine.Engine:PRAGMA temp.table_info(\"df_booking_sql\")\n"
          ]
        },
        {
          "output_type": "stream",
          "name": "stdout",
          "text": [
            "2023-08-21 08:28:34,251 INFO sqlalchemy.engine.Engine [raw sql] ()\n"
          ]
        },
        {
          "output_type": "stream",
          "name": "stderr",
          "text": [
            "INFO:sqlalchemy.engine.Engine:[raw sql] ()\n"
          ]
        },
        {
          "output_type": "stream",
          "name": "stdout",
          "text": [
            "2023-08-21 08:28:34,262 INFO sqlalchemy.engine.Engine ROLLBACK\n"
          ]
        },
        {
          "output_type": "stream",
          "name": "stderr",
          "text": [
            "INFO:sqlalchemy.engine.Engine:ROLLBACK\n"
          ]
        },
        {
          "output_type": "stream",
          "name": "stdout",
          "text": [
            "2023-08-21 08:28:34,266 INFO sqlalchemy.engine.Engine BEGIN (implicit)\n"
          ]
        },
        {
          "output_type": "stream",
          "name": "stderr",
          "text": [
            "INFO:sqlalchemy.engine.Engine:BEGIN (implicit)\n"
          ]
        },
        {
          "output_type": "stream",
          "name": "stdout",
          "text": [
            "2023-08-21 08:28:34,275 INFO sqlalchemy.engine.Engine \n",
            "CREATE TABLE df_booking_sql (\n",
            "\t\"index\" BIGINT, \n",
            "\tnames TEXT, \n",
            "\tlinks TEXT, \n",
            "\tlat FLOAT, \n",
            "\tlon FLOAT, \n",
            "\thotel_note FLOAT, \n",
            "\tdescription TEXT\n",
            ")\n",
            "\n",
            "\n"
          ]
        },
        {
          "output_type": "stream",
          "name": "stderr",
          "text": [
            "INFO:sqlalchemy.engine.Engine:\n",
            "CREATE TABLE df_booking_sql (\n",
            "\t\"index\" BIGINT, \n",
            "\tnames TEXT, \n",
            "\tlinks TEXT, \n",
            "\tlat FLOAT, \n",
            "\tlon FLOAT, \n",
            "\thotel_note FLOAT, \n",
            "\tdescription TEXT\n",
            ")\n",
            "\n",
            "\n"
          ]
        },
        {
          "output_type": "stream",
          "name": "stdout",
          "text": [
            "2023-08-21 08:28:34,287 INFO sqlalchemy.engine.Engine [no key 0.01189s] ()\n"
          ]
        },
        {
          "output_type": "stream",
          "name": "stderr",
          "text": [
            "INFO:sqlalchemy.engine.Engine:[no key 0.01189s] ()\n"
          ]
        },
        {
          "output_type": "stream",
          "name": "stdout",
          "text": [
            "2023-08-21 08:28:34,292 INFO sqlalchemy.engine.Engine CREATE INDEX ix_df_booking_sql_index ON df_booking_sql (\"index\")\n"
          ]
        },
        {
          "output_type": "stream",
          "name": "stderr",
          "text": [
            "INFO:sqlalchemy.engine.Engine:CREATE INDEX ix_df_booking_sql_index ON df_booking_sql (\"index\")\n"
          ]
        },
        {
          "output_type": "stream",
          "name": "stdout",
          "text": [
            "2023-08-21 08:28:34,298 INFO sqlalchemy.engine.Engine [no key 0.00563s] ()\n"
          ]
        },
        {
          "output_type": "stream",
          "name": "stderr",
          "text": [
            "INFO:sqlalchemy.engine.Engine:[no key 0.00563s] ()\n"
          ]
        },
        {
          "output_type": "stream",
          "name": "stdout",
          "text": [
            "2023-08-21 08:28:34,307 INFO sqlalchemy.engine.Engine COMMIT\n"
          ]
        },
        {
          "output_type": "stream",
          "name": "stderr",
          "text": [
            "INFO:sqlalchemy.engine.Engine:COMMIT\n"
          ]
        },
        {
          "output_type": "stream",
          "name": "stdout",
          "text": [
            "2023-08-21 08:28:34,313 INFO sqlalchemy.engine.Engine BEGIN (implicit)\n"
          ]
        },
        {
          "output_type": "stream",
          "name": "stderr",
          "text": [
            "INFO:sqlalchemy.engine.Engine:BEGIN (implicit)\n"
          ]
        },
        {
          "output_type": "stream",
          "name": "stdout",
          "text": [
            "2023-08-21 08:28:34,320 INFO sqlalchemy.engine.Engine INSERT INTO df_booking_sql (\"index\", names, links, lat, lon, hotel_note, description) VALUES (?, ?, ?, ?, ?, ?, ?)\n"
          ]
        },
        {
          "output_type": "stream",
          "name": "stderr",
          "text": [
            "INFO:sqlalchemy.engine.Engine:INSERT INTO df_booking_sql (\"index\", names, links, lat, lon, hotel_note, description) VALUES (?, ?, ?, ?, ?, ?, ?)\n"
          ]
        },
        {
          "output_type": "stream",
          "name": "stdout",
          "text": [
            "2023-08-21 08:28:34,324 INFO sqlalchemy.engine.Engine [generated in 0.00530s] [(0, 'Le Général Hôtel', 'https://www.booking.com/hotel/fr/legeneral.fr.html', 48.83, 2.315, 9.0, \"Vous pouvez bénéficier d'une réduction Genius dans l'établissement Le Général Hôtel\\xa0! Connectez-vous pour économiser. Le Général Hôtel se trouve à ... (819 characters truncated) ... . Les boutiques et les cafés du quartier populaire du Marais sont à 500 mètres. Le Centre Georges Pompidou se trouve à 30 minutes à pied de l'hôtel. \"), (1, 'Relais Hôtel du Vieux Paris', 'https://www.booking.com/hotel/fr/relaishotelvieuxparis.fr.html', 48.83, 2.315, 9.1, \"Vous pouvez bénéficier d'une réduction Genius dans l'établissement Relais Hôtel du Vieux Paris\\xa0! Connectez-vous pour économiser. Le Relais Hôtel d ... (1096 characters truncated) ... d et de l'Est, ainsi qu'aux aéroports d'Orly et de Roissy en RER. Enfin, vous rejoindrez à 800 mètres le jardin du Luxembourg et le musée du Louvre. \"), (2, 'Manolita Paris', 'https://www.booking.com/hotel/fr/manolita.fr.html', 48.83, 2.315, 9.5, \"Vous pouvez bénéficier d'une réduction Genius dans l'établissement Manolita Paris\\xa0! Connectez-vous pour économiser. Situé à Paris, à 500 mètres de ... (646 characters truncated) ...  de la gare Saint-Lazare, de l'opéra Garnier et de la station de métro Gare du Nord. L'aéroport de Paris-Orly, le plus proche, est implanté à 19 km. \"), (3, 'SO Paris Hotel', 'https://www.booking.com/hotel/fr/so-paris.fr.html', 48.83, 2.315, 9.0, \" Situé à Paris, à moins de 1,2 km de Paris-Gare-de-Lyon, le SO Paris Hotel propose un service de concierge, des chambres non-fumeurs, une terrasse, u ... (778 characters truncated) ...  à proximité de la cathédrale Notre-Dame, de l'Opéra Bastille et du Centre Pompidou. L'aéroport de Paris-Orly, le plus proche, est implanté à 16 km. \"), (4, 'Bulgari Hotel Paris', 'https://www.booking.com/hotel/fr/bvlgari-paris.fr.html', 48.83, 2.315, 9.7, \" Situé sur l'avenue George V, le Bulgari Hotel Paris est le dernier joyau du Triangle d'Or de la Ville Lumière.L'hôtel, son bar-salon animé, l'élégan ... (1005 characters truncated) ... erez à proximité de l'Arc de Triomphe, de la tour Eiffel et du musée de l'Orangerie. L'aéroport de Paris-Orly, le plus proche, est implanté à 16 km. \"), (5, 'Hôtel Monsieur Aristide', 'https://www.booking.com/hotel/fr/monsieur-aristide-paris1.fr.html', 48.83, 2.315, 9.1, \"Vous pouvez bénéficier d'une réduction Genius dans l'établissement Hôtel Monsieur Aristide\\xa0! Connectez-vous pour économiser. Situé à Paris, l'Hôte ... (575 characters truncated) ...  de concert La Cigale, de la station de métro Pigalle et de la station de métro Gare du Nord. L'aéroport de Paris-Orly, le plus proche, est à 20 km. \"), (6, \"Paris j'Adore Hotel & Spa\", 'https://www.booking.com/hotel/fr/paris-j-39-adore-amp-spa.fr.html', 48.83, 2.315, 9.1, \" Situé à Paris, le Paris j'Adore Hotel & Spa vous accueille dans un établissement 5 étoiles avec un restaurant et un bar. Cet hôtel 5 étoiles propose ... (720 characters truncated) ... er et la station de métro Pigalle. L'aéroport le plus proche, celui de Paris-Charles de Gaulle, est accessible à 24 km du Paris j’Adore Hotel & Spa. \"), (7, 'Château Voltaire', 'https://www.booking.com/hotel/fr/chateau-voltaire.fr.html', 48.83, 2.315, 9.4, \" Idéalement situé à Paris, le Château Voltaire propose des chambres climatisées, un restaurant, une connexion Wi-Fi gratuite et un bar. Chaque héberg ... (543 characters truncated) ... nerez à proximité du musée du Louvre, de l'opéra Garnier et de la gare Saint-Lazare. L'aéroport de Paris-Orly, le plus proche, est implanté à 17 km. \")  ... displaying 10 of 32 total bound parameter sets ...  (30, 'Hotel Ernest', 'https://www.booking.com/hotel/fr/ernest-paris.fr.html', 48.83, 2.315, 8.7, \"Vous pouvez bénéficier d'une réduction Genius dans l'établissement Hotel Ernest\\xa0! Connectez-vous pour économiser. L'Hotel Ernest propose un héberg ... (770 characters truncated) ... mité de la station de métro Pigalle, de la gare de l'Est et de la salle de concert La Cigale. L'aéroport de Paris-Orly, le plus proche, est à 18 km. \"), (31, 'Lyric Hotel Paris Opera', 'https://www.booking.com/hotel/fr/lyric-ha-tel-paris.fr.html', 48.83, 2.315, 8.9, \"Vous pouvez bénéficier d'une réduction Genius dans l'établissement Lyric Hotel Paris Opera\\xa0! Connectez-vous pour économiser. Le Lyric Hotel Paris  ... (669 characters truncated) ... acement idéal à 80 mètres de la station de métro Quatre Septembre, desservie par la ligne 3, et à 10 minutes de marche de la station de métro Opéra. \")]\n"
          ]
        },
        {
          "output_type": "stream",
          "name": "stderr",
          "text": [
            "INFO:sqlalchemy.engine.Engine:[generated in 0.00530s] [(0, 'Le Général Hôtel', 'https://www.booking.com/hotel/fr/legeneral.fr.html', 48.83, 2.315, 9.0, \"Vous pouvez bénéficier d'une réduction Genius dans l'établissement Le Général Hôtel\\xa0! Connectez-vous pour économiser. Le Général Hôtel se trouve à ... (819 characters truncated) ... . Les boutiques et les cafés du quartier populaire du Marais sont à 500 mètres. Le Centre Georges Pompidou se trouve à 30 minutes à pied de l'hôtel. \"), (1, 'Relais Hôtel du Vieux Paris', 'https://www.booking.com/hotel/fr/relaishotelvieuxparis.fr.html', 48.83, 2.315, 9.1, \"Vous pouvez bénéficier d'une réduction Genius dans l'établissement Relais Hôtel du Vieux Paris\\xa0! Connectez-vous pour économiser. Le Relais Hôtel d ... (1096 characters truncated) ... d et de l'Est, ainsi qu'aux aéroports d'Orly et de Roissy en RER. Enfin, vous rejoindrez à 800 mètres le jardin du Luxembourg et le musée du Louvre. \"), (2, 'Manolita Paris', 'https://www.booking.com/hotel/fr/manolita.fr.html', 48.83, 2.315, 9.5, \"Vous pouvez bénéficier d'une réduction Genius dans l'établissement Manolita Paris\\xa0! Connectez-vous pour économiser. Situé à Paris, à 500 mètres de ... (646 characters truncated) ...  de la gare Saint-Lazare, de l'opéra Garnier et de la station de métro Gare du Nord. L'aéroport de Paris-Orly, le plus proche, est implanté à 19 km. \"), (3, 'SO Paris Hotel', 'https://www.booking.com/hotel/fr/so-paris.fr.html', 48.83, 2.315, 9.0, \" Situé à Paris, à moins de 1,2 km de Paris-Gare-de-Lyon, le SO Paris Hotel propose un service de concierge, des chambres non-fumeurs, une terrasse, u ... (778 characters truncated) ...  à proximité de la cathédrale Notre-Dame, de l'Opéra Bastille et du Centre Pompidou. L'aéroport de Paris-Orly, le plus proche, est implanté à 16 km. \"), (4, 'Bulgari Hotel Paris', 'https://www.booking.com/hotel/fr/bvlgari-paris.fr.html', 48.83, 2.315, 9.7, \" Situé sur l'avenue George V, le Bulgari Hotel Paris est le dernier joyau du Triangle d'Or de la Ville Lumière.L'hôtel, son bar-salon animé, l'élégan ... (1005 characters truncated) ... erez à proximité de l'Arc de Triomphe, de la tour Eiffel et du musée de l'Orangerie. L'aéroport de Paris-Orly, le plus proche, est implanté à 16 km. \"), (5, 'Hôtel Monsieur Aristide', 'https://www.booking.com/hotel/fr/monsieur-aristide-paris1.fr.html', 48.83, 2.315, 9.1, \"Vous pouvez bénéficier d'une réduction Genius dans l'établissement Hôtel Monsieur Aristide\\xa0! Connectez-vous pour économiser. Situé à Paris, l'Hôte ... (575 characters truncated) ...  de concert La Cigale, de la station de métro Pigalle et de la station de métro Gare du Nord. L'aéroport de Paris-Orly, le plus proche, est à 20 km. \"), (6, \"Paris j'Adore Hotel & Spa\", 'https://www.booking.com/hotel/fr/paris-j-39-adore-amp-spa.fr.html', 48.83, 2.315, 9.1, \" Situé à Paris, le Paris j'Adore Hotel & Spa vous accueille dans un établissement 5 étoiles avec un restaurant et un bar. Cet hôtel 5 étoiles propose ... (720 characters truncated) ... er et la station de métro Pigalle. L'aéroport le plus proche, celui de Paris-Charles de Gaulle, est accessible à 24 km du Paris j’Adore Hotel & Spa. \"), (7, 'Château Voltaire', 'https://www.booking.com/hotel/fr/chateau-voltaire.fr.html', 48.83, 2.315, 9.4, \" Idéalement situé à Paris, le Château Voltaire propose des chambres climatisées, un restaurant, une connexion Wi-Fi gratuite et un bar. Chaque héberg ... (543 characters truncated) ... nerez à proximité du musée du Louvre, de l'opéra Garnier et de la gare Saint-Lazare. L'aéroport de Paris-Orly, le plus proche, est implanté à 17 km. \")  ... displaying 10 of 32 total bound parameter sets ...  (30, 'Hotel Ernest', 'https://www.booking.com/hotel/fr/ernest-paris.fr.html', 48.83, 2.315, 8.7, \"Vous pouvez bénéficier d'une réduction Genius dans l'établissement Hotel Ernest\\xa0! Connectez-vous pour économiser. L'Hotel Ernest propose un héberg ... (770 characters truncated) ... mité de la station de métro Pigalle, de la gare de l'Est et de la salle de concert La Cigale. L'aéroport de Paris-Orly, le plus proche, est à 18 km. \"), (31, 'Lyric Hotel Paris Opera', 'https://www.booking.com/hotel/fr/lyric-ha-tel-paris.fr.html', 48.83, 2.315, 8.9, \"Vous pouvez bénéficier d'une réduction Genius dans l'établissement Lyric Hotel Paris Opera\\xa0! Connectez-vous pour économiser. Le Lyric Hotel Paris  ... (669 characters truncated) ... acement idéal à 80 mètres de la station de métro Quatre Septembre, desservie par la ligne 3, et à 10 minutes de marche de la station de métro Opéra. \")]\n"
          ]
        },
        {
          "output_type": "stream",
          "name": "stdout",
          "text": [
            "2023-08-21 08:28:34,333 INFO sqlalchemy.engine.Engine COMMIT\n"
          ]
        },
        {
          "output_type": "stream",
          "name": "stderr",
          "text": [
            "INFO:sqlalchemy.engine.Engine:COMMIT\n"
          ]
        },
        {
          "output_type": "stream",
          "name": "stdout",
          "text": [
            "2023-08-21 08:28:34,341 INFO sqlalchemy.engine.Engine BEGIN (implicit)\n"
          ]
        },
        {
          "output_type": "stream",
          "name": "stderr",
          "text": [
            "INFO:sqlalchemy.engine.Engine:BEGIN (implicit)\n"
          ]
        },
        {
          "output_type": "stream",
          "name": "stdout",
          "text": [
            "2023-08-21 08:28:34,348 INFO sqlalchemy.engine.Engine SELECT * FROM df_meteo_sql\n"
          ]
        },
        {
          "output_type": "stream",
          "name": "stderr",
          "text": [
            "INFO:sqlalchemy.engine.Engine:SELECT * FROM df_meteo_sql\n"
          ]
        },
        {
          "output_type": "stream",
          "name": "stdout",
          "text": [
            "2023-08-21 08:28:34,354 INFO sqlalchemy.engine.Engine [generated in 0.01270s] ()\n"
          ]
        },
        {
          "output_type": "stream",
          "name": "stderr",
          "text": [
            "INFO:sqlalchemy.engine.Engine:[generated in 0.01270s] ()\n"
          ]
        },
        {
          "output_type": "stream",
          "name": "stdout",
          "text": [
            "2023-08-21 08:28:34,361 INFO sqlalchemy.engine.Engine SELECT * FROM df_booking_sql\n"
          ]
        },
        {
          "output_type": "stream",
          "name": "stderr",
          "text": [
            "INFO:sqlalchemy.engine.Engine:SELECT * FROM df_booking_sql\n"
          ]
        },
        {
          "output_type": "stream",
          "name": "stdout",
          "text": [
            "2023-08-21 08:28:34,370 INFO sqlalchemy.engine.Engine [generated in 0.00899s] ()\n"
          ]
        },
        {
          "output_type": "stream",
          "name": "stderr",
          "text": [
            "INFO:sqlalchemy.engine.Engine:[generated in 0.00899s] ()\n"
          ]
        },
        {
          "output_type": "stream",
          "name": "stdout",
          "text": [
            "2023-08-21 08:28:34,375 INFO sqlalchemy.engine.Engine ROLLBACK\n"
          ]
        },
        {
          "output_type": "stream",
          "name": "stderr",
          "text": [
            "INFO:sqlalchemy.engine.Engine:ROLLBACK\n"
          ]
        }
      ]
    }
  ]
}